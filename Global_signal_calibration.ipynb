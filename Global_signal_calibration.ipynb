{
 "cells": [
  {
   "cell_type": "markdown",
   "id": "1a91cac4",
   "metadata": {
    "tags": [
     "papermill-error-cell-tag"
    ]
   },
   "source": [
    "<span style=\"color:red; font-family:Helvetica Neue, Helvetica, Arial, sans-serif; font-size:2em;\">An Exception was encountered at '<a href=\"#papermill-error-cell\">In [8]</a>'.</span>"
   ]
  },
  {
   "cell_type": "markdown",
   "id": "c1b22278",
   "metadata": {
    "papermill": {
     "duration": 0.003348,
     "end_time": "2024-04-15T15:03:25.797005",
     "exception": false,
     "start_time": "2024-04-15T15:03:25.793657",
     "status": "completed"
    },
    "tags": []
   },
   "source": [
    "## Global signal basic calibration\n",
    "_Phil Bull, 2023-01-11_\n",
    "\n",
    "This uses simple differencing, averaging, and smoothing to derive estimates of the bandpass, time-dependent gains, and noise-wave parameters."
   ]
  },
  {
   "cell_type": "code",
   "execution_count": 1,
   "id": "9dda0deb",
   "metadata": {
    "execution": {
     "iopub.execute_input": "2024-04-15T15:03:25.803220Z",
     "iopub.status.busy": "2024-04-15T15:03:25.802799Z",
     "iopub.status.idle": "2024-04-15T15:03:26.365659Z",
     "shell.execute_reply": "2024-04-15T15:03:26.365154Z"
    },
    "papermill": {
     "duration": 0.566935,
     "end_time": "2024-04-15T15:03:26.366602",
     "exception": false,
     "start_time": "2024-04-15T15:03:25.799667",
     "status": "completed"
    },
    "tags": []
   },
   "outputs": [
    {
     "data": {
      "text/plain": [
       "{'divide': 'warn', 'over': 'warn', 'under': 'ignore', 'invalid': 'warn'}"
      ]
     },
     "execution_count": 1,
     "metadata": {},
     "output_type": "execute_result"
    }
   ],
   "source": [
    "import numpy as np\n",
    "import scipy.optimize\n",
    "import pylab as plt\n",
    "import h5py\n",
    "\n",
    "from sklearn.gaussian_process import GaussianProcessRegressor\n",
    "from sklearn.gaussian_process.kernels import DotProduct, WhiteKernel, RBF, Matern\n",
    "\n",
    "plt.rcParams[\"figure.figsize\"] = (10, 5)\n",
    "\n",
    "np.seterr(all=\"warn\")\n",
    "\n",
    "# matshow can only plot real, so convert complex values. Dunno if this is appropriate. Maybe should be np.real\n",
    "check_c = lambda a: a if not isinstance(a[0, 0], complex) else np.abs(a)     "
   ]
  },
  {
   "cell_type": "code",
   "execution_count": 2,
   "id": "2b591e83",
   "metadata": {
    "execution": {
     "iopub.execute_input": "2024-04-15T15:03:26.372996Z",
     "iopub.status.busy": "2024-04-15T15:03:26.372558Z",
     "iopub.status.idle": "2024-04-15T15:03:26.375155Z",
     "shell.execute_reply": "2024-04-15T15:03:26.374725Z"
    },
    "papermill": {
     "duration": 0.006784,
     "end_time": "2024-04-15T15:03:26.376015",
     "exception": false,
     "start_time": "2024-04-15T15:03:26.369231",
     "status": "completed"
    },
    "tags": []
   },
   "outputs": [],
   "source": [
    "# Settings\n",
    "\n",
    "\n",
    "fname = \"sim_global_\"+\"BEAM_SPEC\"+\"_refl.uvh5\"  "
   ]
  },
  {
   "cell_type": "markdown",
   "id": "b0d546e1",
   "metadata": {
    "papermill": {
     "duration": 0.002503,
     "end_time": "2024-04-15T15:03:26.381014",
     "exception": false,
     "start_time": "2024-04-15T15:03:26.378511",
     "status": "completed"
    },
    "tags": []
   },
   "source": [
    "## Calibration assumptions\n",
    "Values assumed for the calibration loads and noise diode."
   ]
  },
  {
   "cell_type": "code",
   "execution_count": 3,
   "id": "9f6c4e44",
   "metadata": {
    "execution": {
     "iopub.execute_input": "2024-04-15T15:03:26.387005Z",
     "iopub.status.busy": "2024-04-15T15:03:26.386660Z",
     "iopub.status.idle": "2024-04-15T15:03:26.389551Z",
     "shell.execute_reply": "2024-04-15T15:03:26.389130Z"
    },
    "papermill": {
     "duration": 0.006878,
     "end_time": "2024-04-15T15:03:26.390406",
     "exception": false,
     "start_time": "2024-04-15T15:03:26.383528",
     "status": "completed"
    },
    "tags": []
   },
   "outputs": [],
   "source": [
    "# Calibration source assumed temperatures\n",
    "Tdiode = 60. # K\n",
    "Tload1 = 293. # K\n",
    "Tload2 = 393. # K\n",
    "\n",
    "# How often diode/load are switched in\n",
    "# Noise diode\n",
    "diode_cadence = 10\n",
    "diode_duration = 2\n",
    "\n",
    "# Load 1\n",
    "load1_cadence = 200\n",
    "load1_duration = 10\n",
    "load1_offset = 50\n",
    "\n",
    "# Load 2\n",
    "load2_cadence = 200\n",
    "load2_duration = 10\n",
    "load2_offset = 100"
   ]
  },
  {
   "cell_type": "markdown",
   "id": "fe791952",
   "metadata": {
    "papermill": {
     "duration": 0.002515,
     "end_time": "2024-04-15T15:03:26.395444",
     "exception": false,
     "start_time": "2024-04-15T15:03:26.392929",
     "status": "completed"
    },
    "tags": []
   },
   "source": [
    "## Load data"
   ]
  },
  {
   "cell_type": "code",
   "execution_count": 4,
   "id": "02a15cb1",
   "metadata": {
    "execution": {
     "iopub.execute_input": "2024-04-15T15:03:26.401751Z",
     "iopub.status.busy": "2024-04-15T15:03:26.401201Z",
     "iopub.status.idle": "2024-04-15T15:03:26.445799Z",
     "shell.execute_reply": "2024-04-15T15:03:26.445212Z"
    },
    "papermill": {
     "duration": 0.048781,
     "end_time": "2024-04-15T15:03:26.446687",
     "exception": false,
     "start_time": "2024-04-15T15:03:26.397906",
     "status": "completed"
    },
    "tags": []
   },
   "outputs": [
    {
     "name": "stdout",
     "output_type": "stream",
     "text": [
      "data\n",
      "  | location: (3822712.88544561, -153832.37979807, 5086301.58702797) m\n",
      "  | obstime: 2022-10-21 07:59:59.712\n",
      "  | site_height_m: 77.0\n",
      "  | site_lat_deg: 53.235002\n",
      "  | site_lon_deg: -2.3044349\n",
      "  | units: K\n",
      "data_Gamma_rec\n",
      "data_Gamma_src\n",
      "data_load1\n",
      "data_load2\n",
      "data_nodiode\n",
      "data_onlydiode\n",
      "freqs\n",
      "  | units: MHz\n",
      "lsts\n",
      "  | units: rad\n",
      "ndiode_mask\n",
      "  | Tdiode_Kelvin: 60.0\n",
      "times\n",
      "  | units: s\n",
      "\n",
      "Data shape: (3600, 280)\n",
      "Obstime:    2022-10-21 07:59:59.712\n",
      "Location:   (3822712.88544561, -153832.37979807, 5086301.58702797) m\n",
      "\n",
      "Freqs: 60.000 - 88.000 MHz (280)\n",
      "LSTs:   2.573 -  3.098 rad (3600)\n",
      "Times:  0.000 - 7200.000 sec (3600)\n"
     ]
    }
   ],
   "source": [
    "with h5py.File(fname, 'r') as f:\n",
    "    \n",
    "    # Print datasets and attributes\n",
    "    for field in f.keys():\n",
    "        print(field)\n",
    "        for attr in f[field].attrs.keys():\n",
    "            print(\"  | %s: %s\" % (attr, f[field].attrs[attr]))\n",
    "    \n",
    "    # Load data\n",
    "    d = np.array(f['data'][:])\n",
    "    d_nodiode = np.array(f['data_nodiode'][:])\n",
    "    d_onlydiode = np.array(f['data_onlydiode'][:])\n",
    "    load1 = np.array(f['data_load1'][:])\n",
    "    load2 = np.array(f['data_load2'][:])\n",
    "    ndiode_mask = np.array(f['ndiode_mask'][:])\n",
    "    \n",
    "    # Reflection coeffs\n",
    "    Gamma_rec = np.array(f['data_Gamma_rec'][:])\n",
    "    Gamma_src = np.array(f['data_Gamma_src'][:])\n",
    "    \n",
    "    # Freqs/times\n",
    "    freqs = np.array(f['freqs'][:])\n",
    "    times = np.array(f['times'][:])\n",
    "    lsts = np.array(f['lsts'][:])\n",
    "    \n",
    "    # Metadata\n",
    "    obstime = str(f['data'].attrs['obstime'])\n",
    "    location = str(f['data'].attrs['location'])\n",
    "    Tdiode = float(f['ndiode_mask'].attrs['Tdiode_Kelvin'])\n",
    "    \n",
    "print(\"\")\n",
    "print(\"Data shape:\", d.shape)\n",
    "print(\"Obstime:   \", obstime)\n",
    "print(\"Location:  \", location)\n",
    "print(\"\")\n",
    "print(\"Freqs: %6.3f - %6.3f MHz (%d)\" % (freqs[0], freqs[-1], freqs.size))\n",
    "print(\"LSTs:  %6.3f - %6.3f rad (%d)\" % (lsts[0], lsts[-1], lsts.size))\n",
    "print(\"Times: %6.3f - %6.3f sec (%d)\" % (times[0], times[-1], times.size))"
   ]
  },
  {
   "cell_type": "markdown",
   "id": "c84f3131",
   "metadata": {
    "papermill": {
     "duration": 0.002575,
     "end_time": "2024-04-15T15:03:26.451811",
     "exception": false,
     "start_time": "2024-04-15T15:03:26.449236",
     "status": "completed"
    },
    "tags": []
   },
   "source": [
    "## Switching/sampling strategy\n",
    "Masks that determine when the noise diode and calibration sources are switched in."
   ]
  },
  {
   "cell_type": "code",
   "execution_count": 5,
   "id": "d5ed2d33",
   "metadata": {
    "execution": {
     "iopub.execute_input": "2024-04-15T15:03:26.458005Z",
     "iopub.status.busy": "2024-04-15T15:03:26.457698Z",
     "iopub.status.idle": "2024-04-15T15:03:26.461237Z",
     "shell.execute_reply": "2024-04-15T15:03:26.460821Z"
    },
    "papermill": {
     "duration": 0.007644,
     "end_time": "2024-04-15T15:03:26.462021",
     "exception": false,
     "start_time": "2024-04-15T15:03:26.454377",
     "status": "completed"
    },
    "tags": []
   },
   "outputs": [],
   "source": [
    "def regular_mask(times, cadence, duration, offset=0):\n",
    "    \"\"\"\n",
    "    Construct a mask that has regular structure.\n",
    "    \n",
    "    Parameters:\n",
    "        times (array_like):\n",
    "            Time sample array.\n",
    "        cadence (int):\n",
    "            How often the mask is switched on (no. of samples).\n",
    "        duration (int):\n",
    "            How long the mask is switched on for (no. of samples). \n",
    "        offset (int):\n",
    "            Number of samples before the first time the mask is \n",
    "            switched on.\n",
    "    \n",
    "    Returns:\n",
    "        mask (array_like):\n",
    "            Array of integers, 1 or 0.\n",
    "    \"\"\"\n",
    "    mask = np.zeros(times.size, dtype=int)\n",
    "    for i in range(duration):\n",
    "        mask[offset+i::cadence] = 1\n",
    "    return mask"
   ]
  },
  {
   "cell_type": "code",
   "execution_count": 6,
   "id": "f054cfc8",
   "metadata": {
    "execution": {
     "iopub.execute_input": "2024-04-15T15:03:26.468403Z",
     "iopub.status.busy": "2024-04-15T15:03:26.467971Z",
     "iopub.status.idle": "2024-04-15T15:03:26.587601Z",
     "shell.execute_reply": "2024-04-15T15:03:26.587081Z"
    },
    "papermill": {
     "duration": 0.123856,
     "end_time": "2024-04-15T15:03:26.588449",
     "exception": false,
     "start_time": "2024-04-15T15:03:26.464593",
     "status": "completed"
    },
    "tags": []
   },
   "outputs": [
    {
     "data": {
      "image/png": "[encoded data removed]",
      "text/plain": [
       "<Figure size 2000x300 with 1 Axes>"
      ]
     },
     "metadata": {},
     "output_type": "display_data"
    }
   ],
   "source": [
    "# Noise diode\n",
    "diode_cadence = 10\n",
    "diode_duration = 2\n",
    "mask_ndiode = regular_mask(times, cadence=diode_cadence, duration=diode_duration).astype(bool)\n",
    "\n",
    "# Load 1\n",
    "load1_cadence = 200\n",
    "load1_duration = 10\n",
    "load1_offset = 50\n",
    "mask_load1 = regular_mask(times, cadence=load1_cadence, duration=load1_duration, offset=load1_offset).astype(bool)\n",
    "\n",
    "# Load 2\n",
    "load2_cadence = 200\n",
    "load2_duration = 10\n",
    "load2_offset = 100\n",
    "mask_load2 = regular_mask(times, cadence=load2_cadence, duration=load2_duration, offset=load2_offset).astype(bool)\n",
    "\n",
    "# Switch off data (and diode) when load 1 or load 2 is switched in\n",
    "mask_data = np.ones(times.size, dtype=int).astype(bool)\n",
    "mask_data[np.logical_or(mask_load1 == True, mask_load2 == True)] = False\n",
    "mask_ndiode[np.logical_or(mask_load1 == True, mask_load2 == True)] = False\n",
    "\n",
    "# Plot mask\n",
    "plt.plot(times, mask_data, 'k.')\n",
    "plt.plot(times, mask_ndiode*0.9, 'r.')\n",
    "plt.plot(times, mask_load1*0.8, 'bx')\n",
    "plt.plot(times, mask_load2*0.7, 'g+')\n",
    "\n",
    "plt.xlim((0, 300))\n",
    "plt.gcf().set_size_inches((20., 3.))"
   ]
  },
  {
   "cell_type": "markdown",
   "id": "2261d8ed",
   "metadata": {
    "papermill": {
     "duration": 0.002744,
     "end_time": "2024-04-15T15:03:26.594097",
     "exception": false,
     "start_time": "2024-04-15T15:03:26.591353",
     "status": "completed"
    },
    "tags": []
   },
   "source": [
    "## Construct TOD for this switching/sampling strategy"
   ]
  },
  {
   "cell_type": "code",
   "execution_count": 7,
   "id": "6db4ec4c",
   "metadata": {
    "execution": {
     "iopub.execute_input": "2024-04-15T15:03:26.600583Z",
     "iopub.status.busy": "2024-04-15T15:03:26.600312Z",
     "iopub.status.idle": "2024-04-15T15:03:26.611491Z",
     "shell.execute_reply": "2024-04-15T15:03:26.610990Z"
    },
    "papermill": {
     "duration": 0.016048,
     "end_time": "2024-04-15T15:03:26.612929",
     "exception": false,
     "start_time": "2024-04-15T15:03:26.596881",
     "status": "completed"
    },
    "tags": []
   },
   "outputs": [],
   "source": [
    "# Combine data from each source into a single timestream\n",
    "data = np.zeros_like(d)\n",
    "data[mask_data,:] = d_nodiode[mask_data,:]\n",
    "data[mask_ndiode,:] += d_onlydiode[mask_ndiode,:]\n",
    "data[mask_load1,:] = load1[mask_load1,:]\n",
    "data[mask_load2,:] = load2[mask_load2,:]"
   ]
  },
  {
   "cell_type": "markdown",
   "id": "c54ded40",
   "metadata": {
    "tags": [
     "papermill-error-cell-tag"
    ]
   },
   "source": [
    "<span id=\"papermill-error-cell\" style=\"color:red; font-family:Helvetica Neue, Helvetica, Arial, sans-serif; font-size:2em;\">Execution using papermill encountered an exception here and stopped:</span>"
   ]
  },
  {
   "cell_type": "code",
   "execution_count": 8,
   "id": "ac8d3c8d",
   "metadata": {
    "execution": {
     "iopub.execute_input": "2024-04-15T15:03:26.619742Z",
     "iopub.status.busy": "2024-04-15T15:03:26.619262Z",
     "iopub.status.idle": "2024-04-15T15:03:28.038346Z",
     "shell.execute_reply": "2024-04-15T15:03:28.037599Z"
    },
    "papermill": {
     "duration": 1.423356,
     "end_time": "2024-04-15T15:03:28.039093",
     "exception": true,
     "start_time": "2024-04-15T15:03:26.615737",
     "status": "failed"
    },
    "tags": []
   },
   "outputs": [
    {
     "ename": "TypeError",
     "evalue": "Image data of dtype complex128 cannot be converted to float",
     "output_type": "error",
     "traceback": [
      "\u001b[0;31m---------------------------------------------------------------------------\u001b[0m",
      "\u001b[0;31mTypeError\u001b[0m                                 Traceback (most recent call last)",
      "Cell \u001b[0;32mIn[8], line 1\u001b[0m\n\u001b[0;32m----> 1\u001b[0m \u001b[43mplt\u001b[49m\u001b[38;5;241;43m.\u001b[39;49m\u001b[43mmatshow\u001b[49m\u001b[43m(\u001b[49m\u001b[43mdata\u001b[49m\u001b[38;5;241;43m.\u001b[39;49m\u001b[43mT\u001b[49m\u001b[43m,\u001b[49m\u001b[43m \u001b[49m\u001b[43maspect\u001b[49m\u001b[38;5;241;43m=\u001b[39;49m\u001b[38;5;124;43m'\u001b[39;49m\u001b[38;5;124;43mauto\u001b[39;49m\u001b[38;5;124;43m'\u001b[39;49m\u001b[43m)\u001b[49m\n\u001b[1;32m      2\u001b[0m plt\u001b[38;5;241m.\u001b[39mcolorbar()\n\u001b[1;32m      3\u001b[0m plt\u001b[38;5;241m.\u001b[39mgcf()\u001b[38;5;241m.\u001b[39mset_size_inches((\u001b[38;5;241m20.\u001b[39m, \u001b[38;5;241m6.\u001b[39m))\n",
      "File \u001b[0;32m~/miniconda3/envs/frf_paper/lib/python3.10/site-packages/matplotlib/pyplot.py:2223\u001b[0m, in \u001b[0;36mmatshow\u001b[0;34m(A, fignum, **kwargs)\u001b[0m\n\u001b[1;32m   2221\u001b[0m     fig \u001b[38;5;241m=\u001b[39m figure(fignum, figsize\u001b[38;5;241m=\u001b[39mfigaspect(A))\n\u001b[1;32m   2222\u001b[0m     ax \u001b[38;5;241m=\u001b[39m fig\u001b[38;5;241m.\u001b[39madd_axes([\u001b[38;5;241m0.15\u001b[39m, \u001b[38;5;241m0.09\u001b[39m, \u001b[38;5;241m0.775\u001b[39m, \u001b[38;5;241m0.775\u001b[39m])\n\u001b[0;32m-> 2223\u001b[0m im \u001b[38;5;241m=\u001b[39m \u001b[43max\u001b[49m\u001b[38;5;241;43m.\u001b[39;49m\u001b[43mmatshow\u001b[49m\u001b[43m(\u001b[49m\u001b[43mA\u001b[49m\u001b[43m,\u001b[49m\u001b[43m \u001b[49m\u001b[38;5;241;43m*\u001b[39;49m\u001b[38;5;241;43m*\u001b[39;49m\u001b[43mkwargs\u001b[49m\u001b[43m)\u001b[49m\n\u001b[1;32m   2224\u001b[0m sci(im)\n\u001b[1;32m   2225\u001b[0m \u001b[38;5;28;01mreturn\u001b[39;00m im\n",
      "File \u001b[0;32m~/miniconda3/envs/frf_paper/lib/python3.10/site-packages/matplotlib/axes/_axes.py:7978\u001b[0m, in \u001b[0;36mAxes.matshow\u001b[0;34m(self, Z, **kwargs)\u001b[0m\n\u001b[1;32m   7973\u001b[0m Z \u001b[38;5;241m=\u001b[39m np\u001b[38;5;241m.\u001b[39masanyarray(Z)\n\u001b[1;32m   7974\u001b[0m kw \u001b[38;5;241m=\u001b[39m {\u001b[38;5;124m'\u001b[39m\u001b[38;5;124morigin\u001b[39m\u001b[38;5;124m'\u001b[39m: \u001b[38;5;124m'\u001b[39m\u001b[38;5;124mupper\u001b[39m\u001b[38;5;124m'\u001b[39m,\n\u001b[1;32m   7975\u001b[0m       \u001b[38;5;124m'\u001b[39m\u001b[38;5;124minterpolation\u001b[39m\u001b[38;5;124m'\u001b[39m: \u001b[38;5;124m'\u001b[39m\u001b[38;5;124mnearest\u001b[39m\u001b[38;5;124m'\u001b[39m,\n\u001b[1;32m   7976\u001b[0m       \u001b[38;5;124m'\u001b[39m\u001b[38;5;124maspect\u001b[39m\u001b[38;5;124m'\u001b[39m: \u001b[38;5;124m'\u001b[39m\u001b[38;5;124mequal\u001b[39m\u001b[38;5;124m'\u001b[39m,          \u001b[38;5;66;03m# (already the imshow default)\u001b[39;00m\n\u001b[1;32m   7977\u001b[0m       \u001b[38;5;241m*\u001b[39m\u001b[38;5;241m*\u001b[39mkwargs}\n\u001b[0;32m-> 7978\u001b[0m im \u001b[38;5;241m=\u001b[39m \u001b[38;5;28;43mself\u001b[39;49m\u001b[38;5;241;43m.\u001b[39;49m\u001b[43mimshow\u001b[49m\u001b[43m(\u001b[49m\u001b[43mZ\u001b[49m\u001b[43m,\u001b[49m\u001b[43m \u001b[49m\u001b[38;5;241;43m*\u001b[39;49m\u001b[38;5;241;43m*\u001b[39;49m\u001b[43mkw\u001b[49m\u001b[43m)\u001b[49m\n\u001b[1;32m   7979\u001b[0m \u001b[38;5;28mself\u001b[39m\u001b[38;5;241m.\u001b[39mtitle\u001b[38;5;241m.\u001b[39mset_y(\u001b[38;5;241m1.05\u001b[39m)\n\u001b[1;32m   7980\u001b[0m \u001b[38;5;28mself\u001b[39m\u001b[38;5;241m.\u001b[39mxaxis\u001b[38;5;241m.\u001b[39mtick_top()\n",
      "File \u001b[0;32m~/miniconda3/envs/frf_paper/lib/python3.10/site-packages/matplotlib/__init__.py:1442\u001b[0m, in \u001b[0;36m_preprocess_data.<locals>.inner\u001b[0;34m(ax, data, *args, **kwargs)\u001b[0m\n\u001b[1;32m   1439\u001b[0m \u001b[38;5;129m@functools\u001b[39m\u001b[38;5;241m.\u001b[39mwraps(func)\n\u001b[1;32m   1440\u001b[0m \u001b[38;5;28;01mdef\u001b[39;00m \u001b[38;5;21minner\u001b[39m(ax, \u001b[38;5;241m*\u001b[39margs, data\u001b[38;5;241m=\u001b[39m\u001b[38;5;28;01mNone\u001b[39;00m, \u001b[38;5;241m*\u001b[39m\u001b[38;5;241m*\u001b[39mkwargs):\n\u001b[1;32m   1441\u001b[0m     \u001b[38;5;28;01mif\u001b[39;00m data \u001b[38;5;129;01mis\u001b[39;00m \u001b[38;5;28;01mNone\u001b[39;00m:\n\u001b[0;32m-> 1442\u001b[0m         \u001b[38;5;28;01mreturn\u001b[39;00m \u001b[43mfunc\u001b[49m\u001b[43m(\u001b[49m\u001b[43max\u001b[49m\u001b[43m,\u001b[49m\u001b[43m \u001b[49m\u001b[38;5;241;43m*\u001b[39;49m\u001b[38;5;28;43mmap\u001b[39;49m\u001b[43m(\u001b[49m\u001b[43msanitize_sequence\u001b[49m\u001b[43m,\u001b[49m\u001b[43m \u001b[49m\u001b[43margs\u001b[49m\u001b[43m)\u001b[49m\u001b[43m,\u001b[49m\u001b[43m \u001b[49m\u001b[38;5;241;43m*\u001b[39;49m\u001b[38;5;241;43m*\u001b[39;49m\u001b[43mkwargs\u001b[49m\u001b[43m)\u001b[49m\n\u001b[1;32m   1444\u001b[0m     bound \u001b[38;5;241m=\u001b[39m new_sig\u001b[38;5;241m.\u001b[39mbind(ax, \u001b[38;5;241m*\u001b[39margs, \u001b[38;5;241m*\u001b[39m\u001b[38;5;241m*\u001b[39mkwargs)\n\u001b[1;32m   1445\u001b[0m     auto_label \u001b[38;5;241m=\u001b[39m (bound\u001b[38;5;241m.\u001b[39marguments\u001b[38;5;241m.\u001b[39mget(label_namer)\n\u001b[1;32m   1446\u001b[0m                   \u001b[38;5;129;01mor\u001b[39;00m bound\u001b[38;5;241m.\u001b[39mkwargs\u001b[38;5;241m.\u001b[39mget(label_namer))\n",
      "File \u001b[0;32m~/miniconda3/envs/frf_paper/lib/python3.10/site-packages/matplotlib/axes/_axes.py:5665\u001b[0m, in \u001b[0;36mAxes.imshow\u001b[0;34m(self, X, cmap, norm, aspect, interpolation, alpha, vmin, vmax, origin, extent, interpolation_stage, filternorm, filterrad, resample, url, **kwargs)\u001b[0m\n\u001b[1;32m   5657\u001b[0m \u001b[38;5;28mself\u001b[39m\u001b[38;5;241m.\u001b[39mset_aspect(aspect)\n\u001b[1;32m   5658\u001b[0m im \u001b[38;5;241m=\u001b[39m mimage\u001b[38;5;241m.\u001b[39mAxesImage(\u001b[38;5;28mself\u001b[39m, cmap\u001b[38;5;241m=\u001b[39mcmap, norm\u001b[38;5;241m=\u001b[39mnorm,\n\u001b[1;32m   5659\u001b[0m                       interpolation\u001b[38;5;241m=\u001b[39minterpolation, origin\u001b[38;5;241m=\u001b[39morigin,\n\u001b[1;32m   5660\u001b[0m                       extent\u001b[38;5;241m=\u001b[39mextent, filternorm\u001b[38;5;241m=\u001b[39mfilternorm,\n\u001b[1;32m   5661\u001b[0m                       filterrad\u001b[38;5;241m=\u001b[39mfilterrad, resample\u001b[38;5;241m=\u001b[39mresample,\n\u001b[1;32m   5662\u001b[0m                       interpolation_stage\u001b[38;5;241m=\u001b[39minterpolation_stage,\n\u001b[1;32m   5663\u001b[0m                       \u001b[38;5;241m*\u001b[39m\u001b[38;5;241m*\u001b[39mkwargs)\n\u001b[0;32m-> 5665\u001b[0m \u001b[43mim\u001b[49m\u001b[38;5;241;43m.\u001b[39;49m\u001b[43mset_data\u001b[49m\u001b[43m(\u001b[49m\u001b[43mX\u001b[49m\u001b[43m)\u001b[49m\n\u001b[1;32m   5666\u001b[0m im\u001b[38;5;241m.\u001b[39mset_alpha(alpha)\n\u001b[1;32m   5667\u001b[0m \u001b[38;5;28;01mif\u001b[39;00m im\u001b[38;5;241m.\u001b[39mget_clip_path() \u001b[38;5;129;01mis\u001b[39;00m \u001b[38;5;28;01mNone\u001b[39;00m:\n\u001b[1;32m   5668\u001b[0m     \u001b[38;5;66;03m# image does not already have clipping set, clip to axes patch\u001b[39;00m\n",
      "File \u001b[0;32m~/miniconda3/envs/frf_paper/lib/python3.10/site-packages/matplotlib/image.py:701\u001b[0m, in \u001b[0;36m_ImageBase.set_data\u001b[0;34m(self, A)\u001b[0m\n\u001b[1;32m    697\u001b[0m \u001b[38;5;28mself\u001b[39m\u001b[38;5;241m.\u001b[39m_A \u001b[38;5;241m=\u001b[39m cbook\u001b[38;5;241m.\u001b[39msafe_masked_invalid(A, copy\u001b[38;5;241m=\u001b[39m\u001b[38;5;28;01mTrue\u001b[39;00m)\n\u001b[1;32m    699\u001b[0m \u001b[38;5;28;01mif\u001b[39;00m (\u001b[38;5;28mself\u001b[39m\u001b[38;5;241m.\u001b[39m_A\u001b[38;5;241m.\u001b[39mdtype \u001b[38;5;241m!=\u001b[39m np\u001b[38;5;241m.\u001b[39muint8 \u001b[38;5;129;01mand\u001b[39;00m\n\u001b[1;32m    700\u001b[0m         \u001b[38;5;129;01mnot\u001b[39;00m np\u001b[38;5;241m.\u001b[39mcan_cast(\u001b[38;5;28mself\u001b[39m\u001b[38;5;241m.\u001b[39m_A\u001b[38;5;241m.\u001b[39mdtype, \u001b[38;5;28mfloat\u001b[39m, \u001b[38;5;124m\"\u001b[39m\u001b[38;5;124msame_kind\u001b[39m\u001b[38;5;124m\"\u001b[39m)):\n\u001b[0;32m--> 701\u001b[0m     \u001b[38;5;28;01mraise\u001b[39;00m \u001b[38;5;167;01mTypeError\u001b[39;00m(\u001b[38;5;124m\"\u001b[39m\u001b[38;5;124mImage data of dtype \u001b[39m\u001b[38;5;132;01m{}\u001b[39;00m\u001b[38;5;124m cannot be converted to \u001b[39m\u001b[38;5;124m\"\u001b[39m\n\u001b[1;32m    702\u001b[0m                     \u001b[38;5;124m\"\u001b[39m\u001b[38;5;124mfloat\u001b[39m\u001b[38;5;124m\"\u001b[39m\u001b[38;5;241m.\u001b[39mformat(\u001b[38;5;28mself\u001b[39m\u001b[38;5;241m.\u001b[39m_A\u001b[38;5;241m.\u001b[39mdtype))\n\u001b[1;32m    704\u001b[0m \u001b[38;5;28;01mif\u001b[39;00m \u001b[38;5;28mself\u001b[39m\u001b[38;5;241m.\u001b[39m_A\u001b[38;5;241m.\u001b[39mndim \u001b[38;5;241m==\u001b[39m \u001b[38;5;241m3\u001b[39m \u001b[38;5;129;01mand\u001b[39;00m \u001b[38;5;28mself\u001b[39m\u001b[38;5;241m.\u001b[39m_A\u001b[38;5;241m.\u001b[39mshape[\u001b[38;5;241m-\u001b[39m\u001b[38;5;241m1\u001b[39m] \u001b[38;5;241m==\u001b[39m \u001b[38;5;241m1\u001b[39m:\n\u001b[1;32m    705\u001b[0m     \u001b[38;5;66;03m# If just one dimension assume scalar and apply colormap\u001b[39;00m\n\u001b[1;32m    706\u001b[0m     \u001b[38;5;28mself\u001b[39m\u001b[38;5;241m.\u001b[39m_A \u001b[38;5;241m=\u001b[39m \u001b[38;5;28mself\u001b[39m\u001b[38;5;241m.\u001b[39m_A[:, :, \u001b[38;5;241m0\u001b[39m]\n",
      "\u001b[0;31mTypeError\u001b[0m: Image data of dtype complex128 cannot be converted to float"
     ]
    },
    {
     "data": {
      "image/png": "[encoded data removed]",
      "text/plain": [
       "<Figure size 1600x200 with 1 Axes>"
      ]
     },
     "metadata": {},
     "output_type": "display_data"
    }
   ],
   "source": [
    "plt.matshow(check_c(data.T), aspect='auto')\n",
    "plt.colorbar()\n",
    "plt.gcf().set_size_inches((20., 6.))"
   ]
  },
  {
   "cell_type": "markdown",
   "id": "2cfdfb20",
   "metadata": {
    "papermill": {
     "duration": null,
     "end_time": null,
     "exception": null,
     "start_time": null,
     "status": "pending"
    },
    "tags": []
   },
   "source": [
    "## Bandpass estimates\n",
    "Here, we use the noise diode and calibration loads to derive different bandpass estimates.\n",
    "\n",
    "\n",
    "### Noise diode\n",
    "The noise diode estimate is differential; we difference between the diode-OFF and diode-ON states at the start and end of the diode-ON periods. The height of this difference should be:\n",
    "\n",
    "$\\Delta P \\approx g(\\nu, t)\\, T_{\\rm diode}(\\nu, t)\\, (1 - |\\Gamma_{\\rm src}|^2) |\\kappa|^2$.\n",
    "\n",
    "This assumes that the gain, diode temperature, and reflections do not change appreciably between time samples."
   ]
  },
  {
   "cell_type": "code",
   "execution_count": null,
   "id": "e8b1b847",
   "metadata": {
    "papermill": {
     "duration": null,
     "end_time": null,
     "exception": null,
     "start_time": null,
     "status": "pending"
    },
    "tags": []
   },
   "outputs": [],
   "source": [
    "def get_chunks(diode_mask):\n",
    "    ndiode_on_chunks = []\n",
    "    ndiode_off_chunks = []\n",
    "    cur_chunk = []\n",
    "    cur_state = diode_mask[0] # start in the initial state\n",
    "    \n",
    "    # Loop over mask elements\n",
    "    for i in np.arange(diode_mask.size):\n",
    "        if diode_mask[i] == cur_state:\n",
    "            # Still in the previous chunk\n",
    "            cur_chunk.append(i)\n",
    "        else:\n",
    "            # New chunk has started; flush the old chunk\n",
    "            if cur_state == 1:\n",
    "                ndiode_on_chunks.append(np.array(cur_chunk))\n",
    "            else:\n",
    "                ndiode_off_chunks.append(np.array(cur_chunk))\n",
    "            \n",
    "            cur_state = diode_mask[i]\n",
    "            cur_chunk = []\n",
    "            cur_chunk.append(i)\n",
    "            \n",
    "    return ndiode_on_chunks, ndiode_off_chunks\n",
    "\n",
    "# Get continguous blocks of times where the noise diode is on and off\n",
    "ndiode_on, ndiode_off = get_chunks(mask_ndiode)"
   ]
  },
  {
   "cell_type": "code",
   "execution_count": null,
   "id": "eda28d3d",
   "metadata": {
    "papermill": {
     "duration": null,
     "end_time": null,
     "exception": null,
     "start_time": null,
     "status": "pending"
    },
    "tags": []
   },
   "outputs": [],
   "source": [
    "# Calculate bandpass by differencing between neighbouring ON- and OFF-state time \n",
    "# samples, for only the leading and trailing samples of the diode-on block\n",
    "deltas = [] # difference between ndiode on and off states (neighbouring time samples)\n",
    "t_deltas = [] # time at the boundary between the states\n",
    "for block in ndiode_on:\n",
    "    \n",
    "    if block[0] != 0:\n",
    "        delta_leading = d[block[0]] - d[block[0]-1]\n",
    "        deltas.append(delta_leading)\n",
    "        t_deltas.append(0.5 * (times[block[0]] + times[block[0]-1]))\n",
    "    \n",
    "    if block[-1] != times.size-1:\n",
    "        delta_trailing = d[block[-1]] - d[block[-1]+1]\n",
    "        deltas.append(delta_trailing)\n",
    "        t_deltas.append(0.5 * (times[block[-1]] + times[block[-1]+1]))\n",
    "\n",
    "# Convert to numpy arrays\n",
    "t_deltas = np.array(t_deltas)\n",
    "deltas = np.array(deltas)"
   ]
  },
  {
   "cell_type": "code",
   "execution_count": null,
   "id": "cd0aa51a",
   "metadata": {
    "papermill": {
     "duration": null,
     "end_time": null,
     "exception": null,
     "start_time": null,
     "status": "pending"
    },
    "tags": []
   },
   "outputs": [],
   "source": [
    "# Calculate median and standard deviation\n",
    "bandpass_ndiode_median = np.median(deltas, axis=0)\n",
    "bandpass_ndiode_std = np.std(deltas, axis=0)"
   ]
  },
  {
   "cell_type": "code",
   "execution_count": null,
   "id": "432f402a",
   "metadata": {
    "papermill": {
     "duration": null,
     "end_time": null,
     "exception": null,
     "start_time": null,
     "status": "pending"
    },
    "tags": []
   },
   "outputs": [],
   "source": [
    "# Use each difference to get a bandpass estimate\n",
    "# NOTE: This does not factor out the time-dependent gain yet!\n",
    "cmap = plt.get_cmap(\"plasma\")\n",
    "for i in range(deltas.shape[0]):\n",
    "    plt.plot(freqs, deltas[i], color=cmap(i/deltas.shape[0]), alpha=0.1)\n",
    "\n",
    "plt.plot(freqs, bandpass_ndiode_median, 'k-', lw=1.8)\n",
    "plt.plot(freqs, bandpass_ndiode_median + bandpass_ndiode_std, 'k:', lw=1.8)\n",
    "plt.plot(freqs, bandpass_ndiode_median - bandpass_ndiode_std, 'k:', lw=1.8)\n",
    "    \n",
    "plt.xlabel(\"Freq. [MHz]\", fontsize=16)\n",
    "plt.ylabel(\"$\\Delta P$ [arb. units]\", fontsize=16)\n",
    "plt.tick_params(which='both', size=6., labelsize=14)\n",
    "plt.gcf().set_size_inches((12., 6.))"
   ]
  },
  {
   "cell_type": "code",
   "execution_count": null,
   "id": "2f796e14",
   "metadata": {
    "papermill": {
     "duration": null,
     "end_time": null,
     "exception": null,
     "start_time": null,
     "status": "pending"
    },
    "tags": []
   },
   "outputs": [],
   "source": [
    "# If we assume that the bandpass is perfectly stable in time, we can derive a time-dep. \n",
    "# gain in each frequency channel\n",
    "_gain_est = deltas / np.median(deltas, axis=0)\n",
    "\n",
    "# Get mean (ignore edge channels, which give NaN)\n",
    "_gain_est_mean = np.mean(_gain_est[:,1:-1], axis=1)\n",
    "\n",
    "plt.subplot(111)\n",
    "plt.plot(t_deltas, _gain_est, 'y-', alpha=0.1)\n",
    "plt.plot(t_deltas, _gain_est_mean, 'r-')\n",
    "\n",
    "plt.ylabel(\"Time-dep. gain (rescaled)\", fontsize=16)\n",
    "plt.xlabel(\"Time [s]\", fontsize=16)\n",
    "plt.tick_params(which='both', size=6., labelsize=14)\n",
    "plt.gcf().set_size_inches((20., 5))"
   ]
  },
  {
   "cell_type": "code",
   "execution_count": null,
   "id": "0f2d3173",
   "metadata": {
    "papermill": {
     "duration": null,
     "end_time": null,
     "exception": null,
     "start_time": null,
     "status": "pending"
    },
    "tags": []
   },
   "outputs": [],
   "source": [
    "def fit_gaussian_process(t, t_samp, y, corrscale1=0.005, corrscale2=0.1, verbose=True):\n",
    "    \"\"\"\n",
    "    For a smooth Gaussian Process to a set of data points. Useful as \n",
    "    an interpolator.\n",
    "    \n",
    "    The GP kernel is taken to be the sum of a WhiteKernel, and two RBF \n",
    "    kernels with different correlation scales.\n",
    "    \n",
    "    Parameters:\n",
    "        t (array_like):\n",
    "            Set of times/sample points to interpolate onto.\n",
    "        t_samp (array_like):\n",
    "            Set of times/points that the input data were measured at.\n",
    "        y (array_like):\n",
    "            Values of the input data at the sample points.\n",
    "        corrscale1, corrscale2 (float):\n",
    "            Initial guesses for the correlation scales of the two RBF kernels.\n",
    "        verbose (bool):\n",
    "            Whether to print basic information about the GP fits.\n",
    "    \n",
    "    Returns:\n",
    "        y_pred (array_like):\n",
    "            Predicted values of the data at the sample points given by `t'.\n",
    "        y_samp (array_like):\n",
    "            Predicted values at the input sample points.\n",
    "    \"\"\"\n",
    "    # Construct kernel\n",
    "    kernel = WhiteKernel() + RBF(corrscale1) + RBF(corrscale2)\n",
    "\n",
    "    # Rescale time coords\n",
    "    X = np.atleast_2d(t_samp[:]).T / np.max(t_samp)\n",
    "    gpr = GaussianProcessRegressor(kernel=kernel, normalize_y=True, random_state=0).fit(X, y)\n",
    "    if verbose:\n",
    "        print(\"GPR score (train): %5.3f\" % gpr.score(X, y))\n",
    "\n",
    "    # Predict for trailing-edge samples\n",
    "    X2 = np.atleast_2d(times).T / np.max(t_samp)\n",
    "    y2 = gpr.predict(X2, return_std=False)\n",
    "    y1 = gpr.predict(X, return_std=False)\n",
    "    if verbose:\n",
    "        print(gpr.kernel_)\n",
    "    return y2, y1"
   ]
  },
  {
   "cell_type": "code",
   "execution_count": null,
   "id": "96d400b1",
   "metadata": {
    "papermill": {
     "duration": null,
     "end_time": null,
     "exception": null,
     "start_time": null,
     "status": "pending"
    },
    "tags": []
   },
   "outputs": [],
   "source": [
    "# Apply Gaussian Process smoothing to interpolate over noisy estimate of time-dep. gain\n",
    "gain_est_mean_gpfit, gain_est_mean_gpfit_tdelta = fit_gaussian_process(times, t_deltas, _gain_est_mean)\n",
    "\n",
    "# Plot noisy gain estimate and GP-smoothed, interpolated version\n",
    "plt.subplot(111)\n",
    "plt.plot(t_deltas, _gain_est_mean, 'k.', lw=1.8)\n",
    "plt.plot(times, gain_est_mean_gpfit, 'r-', lw=1.2)\n",
    "#plt.xlim((0., 1000.))\n",
    "\n",
    "plt.ylabel(\"Time-dep. gain (rescaled)\", fontsize=16)\n",
    "plt.xlabel(\"Time [s]\", fontsize=16)\n",
    "plt.tick_params(which='both', size=6., labelsize=14)\n",
    "plt.gcf().set_size_inches((20., 4.))"
   ]
  },
  {
   "cell_type": "code",
   "execution_count": null,
   "id": "12e1ca79",
   "metadata": {
    "papermill": {
     "duration": null,
     "end_time": null,
     "exception": null,
     "start_time": null,
     "status": "pending"
    },
    "tags": []
   },
   "outputs": [],
   "source": [
    "# Rescale bandpass samples by time-dependent gains and try averaging again\n",
    "\n",
    "# Calculate median and standard deviation after rescaling by time-dep. gain factor\n",
    "bandpass_ndiode_gaincorr_median = np.median(deltas / gain_est_mean_gpfit_tdelta[:,np.newaxis], axis=0)\n",
    "bandpass_ndiode_gaincorr_std = np.std(deltas / gain_est_mean_gpfit_tdelta[:,np.newaxis], axis=0)\n",
    "\n",
    "# Use each difference to get a bandpass estimate, now with time-dep. gain factored out\n",
    "plt.subplot(211)\n",
    "cmap = plt.get_cmap(\"plasma\")\n",
    "for i in range(deltas.shape[0]):\n",
    "    plt.plot(freqs, \n",
    "             deltas[i] / gain_est_mean_gpfit_tdelta[i], \n",
    "             color=cmap(i/deltas.shape[0]), \n",
    "             alpha=0.1)\n",
    "\n",
    "plt.plot(freqs, bandpass_ndiode_median, 'k-', lw=1.8)\n",
    "plt.plot(freqs, bandpass_ndiode_median + bandpass_ndiode_std, 'k--', lw=1.8)\n",
    "plt.plot(freqs, bandpass_ndiode_median - bandpass_ndiode_std, 'k--', lw=1.8)\n",
    "\n",
    "plt.plot(freqs, bandpass_ndiode_gaincorr_median, 'r--', lw=1.8)\n",
    "plt.plot(freqs, bandpass_ndiode_gaincorr_median + bandpass_ndiode_gaincorr_std, 'r:', lw=1.8)\n",
    "plt.plot(freqs, bandpass_ndiode_gaincorr_median - bandpass_ndiode_gaincorr_std, 'r:', lw=1.8)\n",
    "    \n",
    "plt.xlabel(\"Freq. [MHz]\", fontsize=16)\n",
    "plt.ylabel(\"$\\Delta P / g(t)$ [arb. units]\", fontsize=16)\n",
    "plt.tick_params(which='both', size=6., labelsize=14)\n",
    "\n",
    "\n",
    "plt.subplot(212)\n",
    "plt.plot(freqs, bandpass_ndiode_median / bandpass_ndiode_gaincorr_median, 'k-', lw=1.8)\n",
    "\n",
    "plt.xlabel(\"Freq. [MHz]\", fontsize=16)\n",
    "plt.ylabel(r\"$\\langle \\Delta P \\rangle ~/~ \\langle \\Delta P / g(t) \\rangle$ [arb. units]\", fontsize=16)\n",
    "plt.tick_params(which='both', size=6., labelsize=14)\n",
    "\n",
    "plt.gcf().set_size_inches((12., 10.))"
   ]
  },
  {
   "cell_type": "code",
   "execution_count": null,
   "id": "c52a6df9",
   "metadata": {
    "papermill": {
     "duration": null,
     "end_time": null,
     "exception": null,
     "start_time": null,
     "status": "pending"
    },
    "tags": []
   },
   "outputs": [],
   "source": [
    "# Reconstruct (bandpass x time-dep. gain) / Tdiode\n",
    "gain2d_ndiode = bandpass_ndiode_gaincorr_median[:,np.newaxis] \\\n",
    "              * gain_est_mean_gpfit[np.newaxis,:] \\\n",
    "              / Tdiode\n",
    "\n",
    "plt.matshow(check_c(gain2d_ndiode), aspect='auto')\n",
    "plt.colorbar(label=\"Gain est.\")\n",
    "\n",
    "plt.xlabel(\"Time sample\", fontsize=16)\n",
    "plt.ylabel(\"Freq. sample\", fontsize=16)\n",
    "plt.tick_params(which='both', size=6., labelsize=14)\n",
    "\n",
    "plt.gcf().set_size_inches((18., 4.))"
   ]
  },
  {
   "cell_type": "markdown",
   "id": "5d40beba",
   "metadata": {
    "papermill": {
     "duration": null,
     "end_time": null,
     "exception": null,
     "start_time": null,
     "status": "pending"
    },
    "tags": []
   },
   "source": [
    "### Calibration loads\n",
    "\n",
    "We would like to assume that the calibration loads are time- and frequency-stable (i.e. perfectly spectrally flat), and perfectly impedance-matched, so that the measured power is\n",
    "\n",
    "$P_{\\rm load} \\approx g(\\nu, t)\\, T_{\\rm load}\\, |\\kappa|^2 = g(\\nu, t)\\, T_{\\rm load}\\, (1 - |\\Gamma_{\\rm rec}|^2)$.\n",
    "\n",
    "If we divide through by the assumed temperature of the load, we therefore get an estimate of the bandpass times the receiver reflection coefficient factor."
   ]
  },
  {
   "cell_type": "code",
   "execution_count": null,
   "id": "8b32dd3a",
   "metadata": {
    "papermill": {
     "duration": null,
     "end_time": null,
     "exception": null,
     "start_time": null,
     "status": "pending"
    },
    "tags": []
   },
   "outputs": [],
   "source": [
    "# Use calibration loads to get bandpass\n",
    "load1_on, load1_off = get_chunks(mask_load1)\n",
    "load2_on, load2_off = get_chunks(mask_load2)\n",
    "\n",
    "# Extract each set of cal. load observations into an array with the same shape as the data\n",
    "pload1 = np.zeros_like(data)\n",
    "for block in load1_on:\n",
    "    pload1[block,:] = data[block,:]\n",
    "\n",
    "pload2 = np.zeros_like(data)\n",
    "for block in load2_on:\n",
    "    pload2[block,:] = data[block,:]\n",
    "\n",
    "# Rescale by gain (time-dep. and bandpass)\n",
    "pload1_scaled = pload1.T / gain2d_ndiode\n",
    "pload2_scaled = pload2.T / gain2d_ndiode"
   ]
  },
  {
   "cell_type": "code",
   "execution_count": null,
   "id": "edb3589f",
   "metadata": {
    "papermill": {
     "duration": null,
     "end_time": null,
     "exception": null,
     "start_time": null,
     "status": "pending"
    },
    "tags": []
   },
   "outputs": [],
   "source": [
    "# Plot rescaled calibration load values\n",
    "# (Concatenates the blocks of time samples where the loads are on)\n",
    "plt.subplot(211)\n",
    "plt.matshow(check_c(pload1_scaled[:,np.concatenate(load1_on)] - Tload1), \n",
    "            aspect='auto', \n",
    "            cmap='RdBu', \n",
    "            fignum=False,\n",
    "            vmin=-10.,\n",
    "            vmax=10.)\n",
    "plt.colorbar(label=\"Load 1 $\\Delta T$ [K]\")\n",
    "\n",
    "plt.subplot(212)\n",
    "plt.matshow(check_c(pload2_scaled[:,np.concatenate(load2_on)] - Tload2), \n",
    "            aspect='auto', \n",
    "            cmap='RdBu', \n",
    "            fignum=False,\n",
    "            vmin=-10.,\n",
    "            vmax=10.)\n",
    "plt.colorbar(label=\"Load 2 $\\Delta T$ [K]\")\n",
    "\n",
    "plt.gcf().set_size_inches((20., 6.))"
   ]
  },
  {
   "cell_type": "markdown",
   "id": "2885d6b3",
   "metadata": {
    "papermill": {
     "duration": null,
     "end_time": null,
     "exception": null,
     "start_time": null,
     "status": "pending"
    },
    "tags": []
   },
   "source": [
    "### Reflection coefficient measurements"
   ]
  },
  {
   "cell_type": "code",
   "execution_count": null,
   "id": "072fe411",
   "metadata": {
    "papermill": {
     "duration": null,
     "end_time": null,
     "exception": null,
     "start_time": null,
     "status": "pending"
    },
    "tags": []
   },
   "outputs": [],
   "source": [
    "plt.subplot(211)\n",
    "plt.matshow(np.abs(Gamma_rec.T[:,np.concatenate(load2_on)]), \n",
    "            aspect='auto', \n",
    "            cmap='cividis', \n",
    "            fignum=False\n",
    "            )\n",
    "plt.colorbar(label=r\"$\\Gamma_{\\rm rec}$\")\n",
    "\n",
    "plt.subplot(212)\n",
    "plt.matshow(np.abs(Gamma_src.T[:,np.concatenate(load2_on)]), \n",
    "            aspect='auto', \n",
    "            cmap='cividis', \n",
    "            fignum=False,\n",
    "            )\n",
    "plt.colorbar(label=r\"$\\Gamma_{\\rm src}$\")\n",
    "\n",
    "plt.gcf().set_size_inches((20., 6.))"
   ]
  }
 ],
 "metadata": {
  "kernelspec": {
   "display_name": "frf_paper",
   "language": "python",
   "name": "frf_paper"
  },
  "language_info": {
   "codemirror_mode": {
    "name": "ipython",
    "version": 3
   },
   "file_extension": ".py",
   "mimetype": "text/x-python",
   "name": "python",
   "nbconvert_exporter": "python",
   "pygments_lexer": "ipython3",
   "version": "3.10.9"
  },
  "papermill": {
   "default_parameters": {},
   "duration": 3.546556,
   "end_time": "2024-04-15T15:03:28.557912",
   "environment_variables": {},
   "exception": true,
   "input_path": "vivaldi_efield_cal.ipynb",
   "output_path": "vivaldi_efield_cal.milled",
   "parameters": {},
   "start_time": "2024-04-15T15:03:25.011356",
   "version": "2.4.0"
  }
 },
 "nbformat": 4,
 "nbformat_minor": 5
}
