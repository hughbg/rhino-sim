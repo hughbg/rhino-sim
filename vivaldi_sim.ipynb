{
 "cells": [
  {
   "cell_type": "markdown",
   "id": "d70c7448",
   "metadata": {
    "tags": [
     "papermill-error-cell-tag"
    ]
   },
   "source": [
    "<span style=\"color:red; font-family:Helvetica Neue, Helvetica, Arial, sans-serif; font-size:2em;\">An Exception was encountered at '<a href=\"#papermill-error-cell\">In [15]</a>'.</span>"
   ]
  },
  {
   "cell_type": "markdown",
   "id": "1d89ed96",
   "metadata": {
    "papermill": {
     "duration": 0.027246,
     "end_time": "2024-01-26T19:57:21.813097",
     "exception": false,
     "start_time": "2024-01-26T19:57:21.785851",
     "status": "completed"
    },
    "tags": []
   },
   "source": [
    "## Global signal simulation\n",
    "_Phil Bull, 2023-01-09_\n",
    "\n",
    "This notebook uses hera_sim to generate a simple global signal simulation."
   ]
  },
  {
   "cell_type": "code",
   "execution_count": 1,
   "id": "fbae8816",
   "metadata": {
    "execution": {
     "iopub.execute_input": "2024-01-26T19:57:21.859172Z",
     "iopub.status.busy": "2024-01-26T19:57:21.858846Z",
     "iopub.status.idle": "2024-01-26T19:57:23.251596Z",
     "shell.execute_reply": "2024-01-26T19:57:23.250497Z"
    },
    "papermill": {
     "duration": 1.419023,
     "end_time": "2024-01-26T19:57:23.253192",
     "exception": false,
     "start_time": "2024-01-26T19:57:21.834169",
     "status": "completed"
    },
    "tags": []
   },
   "outputs": [],
   "source": [
    "import numpy as np\n",
    "import pylab as plt\n",
    "\n",
    "import pyuvdata\n",
    "from pyuvdata import UVData, UVCal\n",
    "import hera_sim, vis_cpu, pyuvsim\n",
    "from hera_sim.visibilities import VisibilitySimulation, ModelData, VisCPU\n",
    "\n",
    "import astropy\n",
    "from astropy import units as u\n",
    "from astropy.coordinates import EarthLocation, SkyCoord, AltAz\n",
    "from astropy.time import Time\n",
    "\n",
    "import time, json, h5py\n",
    "\n",
    "import pygdsm\n",
    "import pyradiosky\n",
    "import healpy as hp\n",
    "import astropy_healpix\n",
    "\n",
    "import matplotlib.patches as patches\n",
    "plt.rcParams[\"figure.figsize\"] = (10, 5)"
   ]
  },
  {
   "cell_type": "markdown",
   "id": "1f983703",
   "metadata": {
    "papermill": {
     "duration": 0.014498,
     "end_time": "2024-01-26T19:57:23.282151",
     "exception": false,
     "start_time": "2024-01-26T19:57:23.267653",
     "status": "completed"
    },
    "tags": []
   },
   "source": [
    "## Table of Contents\n",
    "\n",
    "* [Simulation parameters](#params)\n",
    "* [Utility functions](#utils)\n",
    "* [Simple antenna gain model](#gains)\n",
    "* [Primary beams](#beams)\n",
    "* [Diffuse emission](#diffuse)\n",
    "* [Point sources from catalogue](#ptsrc-cat)\n",
    "* [Synthetic point source catalogue](#ptsrc-synthetic)\n",
    "* [Simulate point source visibilities](#ptsrc-sim)\n",
    "* [21cm signal](#21cm)\n",
    "* [Noise diode](#ndiode)\n",
    "* [Combined sky and calibrator signals](#skycal)\n",
    "* [Calibration loads](#loads)\n",
    "* [Reflections](#reflections)\n",
    "* [Applying gains](#apply-gains)\n",
    "* [Save data](#save-data)"
   ]
  },
  {
   "cell_type": "markdown",
   "id": "aa020b34",
   "metadata": {
    "papermill": {
     "duration": 0.022242,
     "end_time": "2024-01-26T19:57:23.321862",
     "exception": false,
     "start_time": "2024-01-26T19:57:23.299620",
     "status": "completed"
    },
    "tags": []
   },
   "source": [
    "<a id='params'></a>\n",
    "## Simulation parameters"
   ]
  },
  {
   "cell_type": "code",
   "execution_count": 2,
   "id": "13a27ce5",
   "metadata": {
    "execution": {
     "iopub.execute_input": "2024-01-26T19:57:23.362411Z",
     "iopub.status.busy": "2024-01-26T19:57:23.362222Z",
     "iopub.status.idle": "2024-01-26T19:57:23.369762Z",
     "shell.execute_reply": "2024-01-26T19:57:23.369274Z"
    },
    "papermill": {
     "duration": 0.028592,
     "end_time": "2024-01-26T19:57:23.371868",
     "exception": false,
     "start_time": "2024-01-26T19:57:23.343276",
     "status": "completed"
    },
    "tags": []
   },
   "outputs": [],
   "source": [
    "# Frequencies and times\n",
    "Nfreqs = 280\n",
    "Ntimes = 3600\n",
    "dt = 2. # 2 sec\n",
    "jd = 2459873.83333 # 2022-10-21, 8pm UTC\n",
    "\n",
    "# Site location\n",
    "site_lat = 53.235002 # deg\n",
    "site_lon = -2.3044349 # deg\n",
    "site_height = 77. # m\n",
    "\n",
    "# Random seed\n",
    "random_seed = 4\n",
    "\n",
    "# Frequency array\n",
    "freqs = np.linspace(60., 88., Nfreqs) # MHz\n",
    "\n",
    "# Diffuse model properties\n",
    "diffuse_sim_nblocks = 5 # chunk in frequency to reduce memory reqs\n",
    "diffuse_nside = 16 # Diffuse map nside\n",
    "\n",
    "# Bandpass parameters (Chebyshev)\n",
    "bandpass_ncoeffs = 50 #12\n",
    "bandpass_ripple_factor = 0.01\n",
    "bandpass_rolloff_scale_low = 1.\n",
    "bandpass_rolloff_scale_high = 1.\n",
    "\n",
    "# Correlated gain parameters\n",
    "gain_corr_beta = -1.1\n",
    "gain_corr_scale = 5.\n",
    "fknee = 1. / (200.) # 200 sec\n",
    "\n",
    "# Instrumental noise\n",
    "Tinstrument = 300. # K\n",
    "\n",
    "# Noise diode parameters\n",
    "Tdiode = 60. # K\n",
    "ndiode_ncoeffs = 20\n",
    "ndiode_ripple_factor = 0.0005\n",
    "ndiode_cadence = 10\n",
    "ndiode_duration = 2\n",
    "ndiode_gain = 10.\n",
    "ndiode_bandpass_ncoeffs = 6\n",
    "ndiode_bandpass_ripple_factor = 0.0005\n",
    "\n",
    "# Calibration loads\n",
    "Tload1 = 293. # K\n",
    "load1_time_ncoeffs = 6\n",
    "load1_time_amp = 3e-4\n",
    "load1_freq_ncoeffs = 6\n",
    "load1_freq_amp = 3e-4\n",
    "\n",
    "Tload2 = 393. # K\n",
    "load2_time_ncoeffs = 6\n",
    "load2_time_amp = 3e-4\n",
    "load2_freq_ncoeffs = 6\n",
    "load2_freq_amp = 3e-4\n",
    "\n",
    "# Noise-wave reflection parameters\n",
    "Gamma_src_re0 = 0.01\n",
    "Gamma_src_im0 = 0.01\n",
    "Gamma_src_time_ncoeffs = 4\n",
    "Gamma_src_time_amp = 0.5\n",
    "Gamma_src_freq_ncoeffs = 8\n",
    "Gamma_src_freq_amp = 0.5\n",
    "\n",
    "Gamma_rec_re0 = 0.02\n",
    "Gamma_rec_im0 = 0.02\n",
    "Gamma_rec_time_ncoeffs = 4\n",
    "Gamma_rec_time_amp = 0.5\n",
    "Gamma_rec_freq_ncoeffs = 8\n",
    "Gamma_rec_freq_amp = 0.5\n",
    "\n",
    "# Noise-wave temperature parameters\n",
    "Tunc0 = 250. # K\n",
    "Tcos0 = 190. # K\n",
    "Tsin0 = 90. # K\n",
    "Toffset0 = 0. # K\n",
    "\n",
    "Tunc_time_ncoeffs = 6\n",
    "Tunc_time_amp = 1e-2\n",
    "Tunc_freq_ncoeffs = 6\n",
    "Tunc_freq_amp = 1e-2\n",
    "\n",
    "Tcos_time_ncoeffs = 6\n",
    "Tcos_time_amp = 1e-2\n",
    "Tcos_freq_ncoeffs = 6\n",
    "Tcos_freq_amp = 1e-2\n",
    "\n",
    "Tsin_time_ncoeffs = 6\n",
    "Tsin_time_amp = 1e-2\n",
    "Tsin_freq_ncoeffs = 6\n",
    "Tsin_freq_amp = 1e-2\n",
    "\n",
    "Toffset_time_ncoeffs = 6\n",
    "Toffset_time_amp = 1e-2\n",
    "Toffset_freq_ncoeffs = 6\n",
    "Toffset_freq_amp = 1e-2\n",
    "\n",
    "# Output prefix\n",
    "prefix = \"sim_global\""
   ]
  },
  {
   "cell_type": "code",
   "execution_count": 3,
   "id": "9c5b0ef8",
   "metadata": {
    "execution": {
     "iopub.execute_input": "2024-01-26T19:57:23.402320Z",
     "iopub.status.busy": "2024-01-26T19:57:23.401929Z",
     "iopub.status.idle": "2024-01-26T19:57:23.407075Z",
     "shell.execute_reply": "2024-01-26T19:57:23.405891Z"
    },
    "papermill": {
     "duration": 0.024838,
     "end_time": "2024-01-26T19:57:23.411222",
     "exception": false,
     "start_time": "2024-01-26T19:57:23.386384",
     "status": "completed"
    },
    "tags": []
   },
   "outputs": [],
   "source": [
    "np.random.seed(random_seed)"
   ]
  },
  {
   "cell_type": "code",
   "execution_count": 4,
   "id": "684ead60",
   "metadata": {
    "execution": {
     "iopub.execute_input": "2024-01-26T19:57:23.457667Z",
     "iopub.status.busy": "2024-01-26T19:57:23.457503Z",
     "iopub.status.idle": "2024-01-26T19:57:23.494834Z",
     "shell.execute_reply": "2024-01-26T19:57:23.493174Z"
    },
    "papermill": {
     "duration": 0.069397,
     "end_time": "2024-01-26T19:57:23.501226",
     "exception": false,
     "start_time": "2024-01-26T19:57:23.431829",
     "status": "completed"
    },
    "tags": []
   },
   "outputs": [
    {
     "name": "stdout",
     "output_type": "stream",
     "text": [
      "2022-10-21 07:59:59.712\n"
     ]
    }
   ],
   "source": [
    "# Jodrell Bank location\n",
    "location = EarthLocation.from_geodetic(lat=site_lat,\n",
    "                                       lon=site_lon,\n",
    "                                       height=site_height)\n",
    "\n",
    "# Observation time\n",
    "obstime = Time(jd, format='jd')\n",
    "print(obstime.iso)\n",
    "\n",
    "# Time offsets from 'obstime'\n",
    "times = np.linspace(0., Ntimes*dt, Ntimes) * u.second"
   ]
  },
  {
   "cell_type": "code",
   "execution_count": 5,
   "id": "8c89cee5",
   "metadata": {
    "execution": {
     "iopub.execute_input": "2024-01-26T19:57:23.534965Z",
     "iopub.status.busy": "2024-01-26T19:57:23.534668Z",
     "iopub.status.idle": "2024-01-26T19:57:33.793428Z",
     "shell.execute_reply": "2024-01-26T19:57:33.792397Z"
    },
    "papermill": {
     "duration": 10.275909,
     "end_time": "2024-01-26T19:57:33.794901",
     "exception": false,
     "start_time": "2024-01-26T19:57:23.518992",
     "status": "completed"
    },
    "tags": []
   },
   "outputs": [],
   "source": [
    "lsts = []\n",
    "for tt in times:\n",
    "    frame = AltAz(obstime=obstime + tt, location=location)\n",
    "    lsts.append((obstime + tt).sidereal_time('apparent', longitude=location.lon).rad)\n",
    "lsts = np.array(lsts)"
   ]
  },
  {
   "cell_type": "code",
   "execution_count": 6,
   "id": "7598cbbb",
   "metadata": {
    "execution": {
     "iopub.execute_input": "2024-01-26T19:57:33.825133Z",
     "iopub.status.busy": "2024-01-26T19:57:33.824774Z",
     "iopub.status.idle": "2024-01-26T19:57:33.827996Z",
     "shell.execute_reply": "2024-01-26T19:57:33.827449Z"
    },
    "papermill": {
     "duration": 0.020685,
     "end_time": "2024-01-26T19:57:33.830173",
     "exception": false,
     "start_time": "2024-01-26T19:57:33.809488",
     "status": "completed"
    },
    "tags": []
   },
   "outputs": [],
   "source": [
    "# Construct array\n",
    "ants = {0: [0., 0., 0.]}"
   ]
  },
  {
   "cell_type": "markdown",
   "id": "fc3cbbce",
   "metadata": {
    "papermill": {
     "duration": 0.020339,
     "end_time": "2024-01-26T19:57:33.866449",
     "exception": false,
     "start_time": "2024-01-26T19:57:33.846110",
     "status": "completed"
    },
    "tags": []
   },
   "source": [
    "<a id='utils'></a>\n",
    "### Utility functions"
   ]
  },
  {
   "cell_type": "code",
   "execution_count": 7,
   "id": "3e4b9e07",
   "metadata": {
    "execution": {
     "iopub.execute_input": "2024-01-26T19:57:33.910881Z",
     "iopub.status.busy": "2024-01-26T19:57:33.910707Z",
     "iopub.status.idle": "2024-01-26T19:57:33.914894Z",
     "shell.execute_reply": "2024-01-26T19:57:33.914380Z"
    },
    "papermill": {
     "duration": 0.02853,
     "end_time": "2024-01-26T19:57:33.917069",
     "exception": false,
     "start_time": "2024-01-26T19:57:33.888539",
     "status": "completed"
    },
    "tags": []
   },
   "outputs": [],
   "source": [
    "def Jy_to_TRJ(flux, freqs, omega):\n",
    "    \"\"\"\n",
    "    Convert data in Jy to units of T_RJ (Kelvin).\n",
    "    \n",
    "    Parameters:\n",
    "        flux (array_like):\n",
    "            Array of shape (Ntimes, Nfreqs) in Jy units.\n",
    "        freqs (array_like):\n",
    "            Frequencies, in MHz.\n",
    "        omega (array_like):\n",
    "            Beam solid angle (sterad.) as a function of frequency.\n",
    "    \n",
    "    Returns:\n",
    "        Trj (array_like):\n",
    "            Input flux array rescale to T_RJ units.\n",
    "    \"\"\"\n",
    "    assert len(flux.shape) == 2, \"`flux` must have shape (Ntimes, Nfreqs)\"\n",
    "    assert flux.shape[1] == freqs.size, \"`flux` must have shape (Ntimes, Nfreqs)\"\n",
    "    assert omega.size == freqs.size, \"`omega' must have shape (Nfreqs,)\"\n",
    "    \n",
    "    # Define constants\n",
    "    kB = 1.380649e-23 # m^2 kg s^-2 K^-1\n",
    "    C = 299792458. # m/s\n",
    "    \n",
    "    # Perform conversion\n",
    "    lam = C / (freqs * 1e6) # wavelength, in m\n",
    "    fac = lam**2. / (2. * kB * omega) * 1e-26\n",
    "    Trj = flux * fac[np.newaxis,:]\n",
    "    return Trj"
   ]
  },
  {
   "cell_type": "code",
   "execution_count": 8,
   "id": "ce7a18eb",
   "metadata": {
    "execution": {
     "iopub.execute_input": "2024-01-26T19:57:33.947918Z",
     "iopub.status.busy": "2024-01-26T19:57:33.947505Z",
     "iopub.status.idle": "2024-01-26T19:57:33.963288Z",
     "shell.execute_reply": "2024-01-26T19:57:33.962074Z"
    },
    "papermill": {
     "duration": 0.033572,
     "end_time": "2024-01-26T19:57:33.965559",
     "exception": false,
     "start_time": "2024-01-26T19:57:33.931987",
     "status": "completed"
    },
    "tags": []
   },
   "outputs": [],
   "source": [
    "def chebyshev_model(x, ncoeffs, amp):\n",
    "    \"\"\"\n",
    "    This convenience function produces a Chebyshev series model in \n",
    "    frequency/time/etc. to produce a model for various components \n",
    "    and systematic effects.\n",
    "    \n",
    "    Parameters:\n",
    "        x (array_like):\n",
    "            Time/freq. variable.\n",
    "        ncoeffs (int):\n",
    "            No. of Chebyshev coefficients to use.\n",
    "        amp (float):\n",
    "            Overall amplitude of the Chebyshev polynomial.\n",
    "    \n",
    "    Returns:\n",
    "        fn (array_like):\n",
    "            Chebyshev function. \n",
    "    \"\"\"\n",
    "    # Chebyshev parameters\n",
    "    coeffs = amp * np.random.randn(ncoeffs)\n",
    "\n",
    "    # Construct time- and frequency-dependent random Chebyshev functions\n",
    "    xx = np.linspace(-1., 1., x.size)\n",
    "    fn = np.polynomial.chebyshev.Chebyshev(coeffs)(xx)\n",
    "    \n",
    "    # Return values\n",
    "    return fn"
   ]
  },
  {
   "cell_type": "code",
   "execution_count": 9,
   "id": "d6de4016",
   "metadata": {
    "execution": {
     "iopub.execute_input": "2024-01-26T19:57:34.051362Z",
     "iopub.status.busy": "2024-01-26T19:57:34.050843Z",
     "iopub.status.idle": "2024-01-26T19:57:34.061891Z",
     "shell.execute_reply": "2024-01-26T19:57:34.060974Z"
    },
    "papermill": {
     "duration": 0.08472,
     "end_time": "2024-01-26T19:57:34.065913",
     "exception": false,
     "start_time": "2024-01-26T19:57:33.981193",
     "status": "completed"
    },
    "tags": []
   },
   "outputs": [],
   "source": [
    "def get_beam_area(beam, freqs, naz=200, nza=300, beam_squared=False):\n",
    "    \n",
    "    # Regular grid in azimuth and zenith angle\n",
    "    _az = np.linspace(0., 2.*np.pi, naz)\n",
    "    _za = np.linspace(0., 0.5*np.pi, nza)\n",
    "    az, za = np.meshgrid(_az, _za)\n",
    "    \n",
    "    # Get pixel sizes\n",
    "    pix_az = _az[1] - _az[0]\n",
    "    pix_za = _za[1] - _za[0]\n",
    "    \n",
    "    # Interpolate beam vs frequency\n",
    "    beam.peak_normalize()\n",
    "    b, _ = beam.interp(az_array=az.flatten(), za_array=za.flatten(), freq_array=freqs*1e6)\n",
    "    \n",
    "    # Reshape to (Nfreqs, Naz, Nza)\n",
    "    b = b[0,0,1,:,:].copy()\n",
    "    b = b.reshape((freqs.size, az.shape[0], az.shape[1]))\n",
    "    if beam_squared:\n",
    "        b *= b\n",
    "    \n",
    "    # Multiply by sin(alt) and then sum to approximate integral\n",
    "    b *= np.sin(0.5*np.pi - za)[np.newaxis,:,:]\n",
    "    area = np.sum(b, axis=(1,2)) * (pix_az * pix_za)\n",
    "    return area"
   ]
  },
  {
   "cell_type": "markdown",
   "id": "2749d4f5",
   "metadata": {
    "papermill": {
     "duration": 0.018964,
     "end_time": "2024-01-26T19:57:34.099661",
     "exception": false,
     "start_time": "2024-01-26T19:57:34.080697",
     "status": "completed"
    },
    "tags": []
   },
   "source": [
    "<a id='gains'></a>\n",
    "### Simple antenna gain model\n",
    "The gains will be subject to bandpass effects, 1/f noise and so on."
   ]
  },
  {
   "cell_type": "code",
   "execution_count": 10,
   "id": "08425e1d",
   "metadata": {
    "execution": {
     "iopub.execute_input": "2024-01-26T19:57:34.140320Z",
     "iopub.status.busy": "2024-01-26T19:57:34.139963Z",
     "iopub.status.idle": "2024-01-26T19:57:34.823826Z",
     "shell.execute_reply": "2024-01-26T19:57:34.822638Z"
    },
    "papermill": {
     "duration": 0.703824,
     "end_time": "2024-01-26T19:57:34.826053",
     "exception": false,
     "start_time": "2024-01-26T19:57:34.122229",
     "status": "completed"
    },
    "tags": []
   },
   "outputs": [
    {
     "name": "stdout",
     "output_type": "stream",
     "text": [
      "fknee = 5.00 mHz\n"
     ]
    },
    {
     "name": "stderr",
     "output_type": "stream",
     "text": [
      "/tmp/ipykernel_2277624/4192935447.py:6: RuntimeWarning: divide by zero encountered in power\n",
      "  corr_power = (np.abs(ff) / fknee)**gain_corr_beta\n"
     ]
    },
    {
     "data": {
      "image/png": "[encoded data removed]",
      "text/plain": [
       "<Figure size 1800x900 with 3 Axes>"
      ]
     },
     "metadata": {},
     "output_type": "display_data"
    }
   ],
   "source": [
    "# 1/f noise as gain drifts\n",
    "print(\"fknee = %3.2f mHz\" % (fknee * 1e3))\n",
    "\n",
    "# Do FFT on sqrt of power\n",
    "ff = np.fft.fftfreq(Ntimes, d=dt)\n",
    "corr_power = (np.abs(ff) / fknee)**gain_corr_beta\n",
    "corr_power[ff == 0.] = 0.\n",
    "\n",
    "# Add cutoff above knee frequency, for smoothing\n",
    "rolloff_scale = fknee # Hz\n",
    "rolloff = np.exp(-0.5*(np.abs(ff))**2. / rolloff_scale**2.)\n",
    "\n",
    "# Do FFT of series of ones to get correlated gain rms\n",
    "nn = np.random.randn(Ntimes) + 1.j*np.random.randn(Ntimes)\n",
    "gain_corr = 1. + gain_corr_scale * np.fft.ifft(np.sqrt(corr_power*rolloff) * nn).real\n",
    "\n",
    "# Plot 1/f spectrum\n",
    "plt.subplot(221)\n",
    "plt.plot(ff, corr_power)\n",
    "plt.plot(ff, corr_power*rolloff, ls='dashed')\n",
    "plt.plot(ff, rolloff, ls='dashed')\n",
    "plt.axvline(fknee, color='k', ls='dashed')\n",
    "\n",
    "plt.xscale('log')\n",
    "plt.yscale('log')\n",
    "plt.xlabel(\"f [Hz]\", fontsize=16)\n",
    "plt.ylabel(\"1/f spectrum\", fontsize=16)\n",
    "\n",
    "plt.ylim((1e-10, 1e5))\n",
    "\n",
    "# Plot correlated gain drift\n",
    "plt.subplot(222)\n",
    "plt.plot(times, gain_corr)\n",
    "plt.xlabel(\"Time [s]\", fontsize=16)\n",
    "plt.ylabel(\"Gain drift\", fontsize=16)\n",
    "\n",
    "\n",
    "# Zoom in on correlated gain drift\n",
    "plt.subplot(223)\n",
    "plt.plot(times[:400], gain_corr[:400])\n",
    "plt.xlabel(\"Time [s]\", fontsize=16)\n",
    "plt.ylabel(\"Gain drift\", fontsize=16)\n",
    "\n",
    "plt.gcf().set_size_inches((18., 9.))"
   ]
  },
  {
   "cell_type": "code",
   "execution_count": 11,
   "id": "4843bcf5",
   "metadata": {
    "execution": {
     "iopub.execute_input": "2024-01-26T19:57:34.862837Z",
     "iopub.status.busy": "2024-01-26T19:57:34.862645Z",
     "iopub.status.idle": "2024-01-26T19:57:35.034529Z",
     "shell.execute_reply": "2024-01-26T19:57:35.033900Z"
    },
    "papermill": {
     "duration": 0.189759,
     "end_time": "2024-01-26T19:57:35.035759",
     "exception": false,
     "start_time": "2024-01-26T19:57:34.846000",
     "status": "completed"
    },
    "tags": []
   },
   "outputs": [
    {
     "data": {
      "image/png": "[encoded data removed]",
      "text/plain": [
       "<Figure size 1800x500 with 1 Axes>"
      ]
     },
     "metadata": {},
     "output_type": "display_data"
    }
   ],
   "source": [
    "# Plot correlated gain drift in a bigger format\n",
    "plt.subplot(111)\n",
    "plt.plot(times, gain_corr)\n",
    "plt.xlabel(\"Time [s]\", fontsize=16)\n",
    "plt.ylabel(\"Gain drift\", fontsize=16)\n",
    "\n",
    "plt.gcf().set_size_inches((18., 5.))"
   ]
  },
  {
   "cell_type": "code",
   "execution_count": 12,
   "id": "9e6bc050",
   "metadata": {
    "execution": {
     "iopub.execute_input": "2024-01-26T19:57:35.069446Z",
     "iopub.status.busy": "2024-01-26T19:57:35.069108Z",
     "iopub.status.idle": "2024-01-26T19:57:35.208893Z",
     "shell.execute_reply": "2024-01-26T19:57:35.207943Z"
    },
    "papermill": {
     "duration": 0.158514,
     "end_time": "2024-01-26T19:57:35.210073",
     "exception": false,
     "start_time": "2024-01-26T19:57:35.051559",
     "status": "completed"
    },
    "tags": []
   },
   "outputs": [
    {
     "data": {
      "text/plain": [
       "Text(0, 0.5, 'Bandpass')"
      ]
     },
     "execution_count": 12,
     "metadata": {},
     "output_type": "execute_result"
    },
    {
     "data": {
      "image/png": "[encoded data removed]",
      "text/plain": [
       "<Figure size 1000x500 with 1 Axes>"
      ]
     },
     "metadata": {},
     "output_type": "display_data"
    }
   ],
   "source": [
    "# Bandpass\n",
    "# Use Chebyshev to simulate some ripples and add a steep roll-off\n",
    "bandpass_shape = 1. + chebyshev_model(freqs, bandpass_ncoeffs, bandpass_ripple_factor)\n",
    "\n",
    "# Make band-edge roll-offs\n",
    "rolloff1 = 1. - np.exp(-0.5*((freqs - freqs[0]) / bandpass_rolloff_scale_low)**2.)\n",
    "rolloff2 = 1. - np.exp(-0.5*((freqs - freqs[-1]) / bandpass_rolloff_scale_high)**2.)\n",
    "\n",
    "# Construct bandpass with rolloffs\n",
    "bandpass = bandpass_shape * rolloff1 * rolloff2\n",
    "\n",
    "plt.subplot(111)\n",
    "plt.plot(freqs, bandpass)\n",
    "\n",
    "plt.xlabel(\"Freq. [MHz]\", fontsize=16)\n",
    "plt.ylabel(\"Bandpass\", fontsize=16)"
   ]
  },
  {
   "cell_type": "code",
   "execution_count": 13,
   "id": "a1fa7b29",
   "metadata": {
    "execution": {
     "iopub.execute_input": "2024-01-26T19:57:35.250581Z",
     "iopub.status.busy": "2024-01-26T19:57:35.250018Z",
     "iopub.status.idle": "2024-01-26T19:57:35.561066Z",
     "shell.execute_reply": "2024-01-26T19:57:35.560272Z"
    },
    "papermill": {
     "duration": 0.335413,
     "end_time": "2024-01-26T19:57:35.562357",
     "exception": false,
     "start_time": "2024-01-26T19:57:35.226944",
     "status": "completed"
    },
    "tags": []
   },
   "outputs": [
    {
     "data": {
      "text/plain": [
       "<matplotlib.colorbar.Colorbar at 0x7f2ef8521c60>"
      ]
     },
     "execution_count": 13,
     "metadata": {},
     "output_type": "execute_result"
    },
    {
     "data": {
      "image/png": "[encoded data removed]",
      "text/plain": [
       "<Figure size 1600x200 with 2 Axes>"
      ]
     },
     "metadata": {},
     "output_type": "display_data"
    }
   ],
   "source": [
    "plt.matshow(bandpass[:,np.newaxis] * gain_corr[np.newaxis,:], aspect='auto')\n",
    "plt.colorbar()"
   ]
  },
  {
   "cell_type": "markdown",
   "id": "b5ac20cc",
   "metadata": {
    "papermill": {
     "duration": 0.089672,
     "end_time": "2024-01-26T19:57:35.684269",
     "exception": false,
     "start_time": "2024-01-26T19:57:35.594597",
     "status": "completed"
    },
    "tags": []
   },
   "source": [
    "<a id='beams'></a>\n",
    "## Primary beams\n",
    "Beam is specified here. Must be UVBeam."
   ]
  },
  {
   "cell_type": "code",
   "execution_count": 14,
   "id": "1903baf9",
   "metadata": {
    "execution": {
     "iopub.execute_input": "2024-01-26T19:57:35.795491Z",
     "iopub.status.busy": "2024-01-26T19:57:35.794911Z",
     "iopub.status.idle": "2024-01-26T19:57:36.070292Z",
     "shell.execute_reply": "2024-01-26T19:57:36.068920Z"
    },
    "papermill": {
     "duration": 0.319458,
     "end_time": "2024-01-26T19:57:36.074389",
     "exception": false,
     "start_time": "2024-01-26T19:57:35.754931",
     "status": "completed"
    },
    "tags": []
   },
   "outputs": [
    {
     "name": "stderr",
     "output_type": "stream",
     "text": [
      "/users/hgarsden/miniconda3/envs/frf_paper/lib/python3.10/site-packages/pyuvsim/telescope.py:168: UserWarning: Cannot check consistency of a string-mode BeamList! Set force=True to force consistency checking.\n",
      "  warnings.warn(\n"
     ]
    }
   ],
   "source": [
    "from pyuvsim.simsetup import BeamList\n",
    "from pyuvdata import UVBeam\n",
    "import yaml\n",
    "\n",
    "beam_file = \"NF_HERA_Vivaldi_power_beam.fits\"                   # BEAM_FILE will be set at pipeline execution time   \n",
    "\n",
    "beam_list= BeamList([beam_file])\n",
    "beam_list.set_obj_mode()\n",
    "\n",
    "with open('beams.yaml', 'r') as file:\n",
    "    beams = yaml.safe_load(file)\n",
    "\n",
    "prefix = prefix+\"_\"+beams[beam_file]     # beam short name"
   ]
  },
  {
   "cell_type": "markdown",
   "id": "158d4ffc",
   "metadata": {
    "tags": [
     "papermill-error-cell-tag"
    ]
   },
   "source": [
    "<span id=\"papermill-error-cell\" style=\"color:red; font-family:Helvetica Neue, Helvetica, Arial, sans-serif; font-size:2em;\">Execution using papermill encountered an exception here and stopped:</span>"
   ]
  },
  {
   "cell_type": "code",
   "execution_count": 15,
   "id": "ae91375c",
   "metadata": {
    "execution": {
     "iopub.execute_input": "2024-01-26T19:57:36.151610Z",
     "iopub.status.busy": "2024-01-26T19:57:36.151317Z",
     "iopub.status.idle": "2024-01-26T19:57:36.647447Z",
     "shell.execute_reply": "2024-01-26T19:57:36.646114Z"
    },
    "papermill": {
     "duration": 0.550538,
     "end_time": "2024-01-26T19:57:36.648189",
     "exception": true,
     "start_time": "2024-01-26T19:57:36.097651",
     "status": "failed"
    },
    "tags": []
   },
   "outputs": [
    {
     "ename": "KeyError",
     "evalue": "0",
     "output_type": "error",
     "traceback": [
      "\u001b[0;31m---------------------------------------------------------------------------\u001b[0m",
      "\u001b[0;31mKeyError\u001b[0m                                  Traceback (most recent call last)",
      "Cell \u001b[0;32mIn[15], line 5\u001b[0m\n\u001b[1;32m      2\u001b[0m _za \u001b[38;5;241m=\u001b[39m np\u001b[38;5;241m.\u001b[39mlinspace(\u001b[38;5;241m0.\u001b[39m, \u001b[38;5;241m0.5\u001b[39m\u001b[38;5;241m*\u001b[39mnp\u001b[38;5;241m.\u001b[39mpi, \u001b[38;5;241m300\u001b[39m)\n\u001b[1;32m      3\u001b[0m az, za \u001b[38;5;241m=\u001b[39m np\u001b[38;5;241m.\u001b[39mmeshgrid(_az, _za)\n\u001b[0;32m----> 5\u001b[0m \u001b[43mbeams\u001b[49m\u001b[43m[\u001b[49m\u001b[38;5;241;43m0\u001b[39;49m\u001b[43m]\u001b[49m\u001b[38;5;241m.\u001b[39mpeak_normalize()\n\u001b[1;32m      6\u001b[0m b,_ \u001b[38;5;241m=\u001b[39m beams[\u001b[38;5;241m0\u001b[39m]\u001b[38;5;241m.\u001b[39minterp(az_array\u001b[38;5;241m=\u001b[39maz\u001b[38;5;241m.\u001b[39mflatten(), za_array\u001b[38;5;241m=\u001b[39mza\u001b[38;5;241m.\u001b[39mflatten(), freq_array\u001b[38;5;241m=\u001b[39mnp\u001b[38;5;241m.\u001b[39marray([freqs[\u001b[38;5;241m0\u001b[39m]\u001b[38;5;241m*\u001b[39m\u001b[38;5;241m1e6\u001b[39m,]))\n\u001b[1;32m      7\u001b[0m beam \u001b[38;5;241m=\u001b[39m b[\u001b[38;5;241m0\u001b[39m,\u001b[38;5;241m0\u001b[39m,\u001b[38;5;241m1\u001b[39m,\u001b[38;5;241m0\u001b[39m,:]\u001b[38;5;241m.\u001b[39mreshape(az\u001b[38;5;241m.\u001b[39mshape)\n",
      "\u001b[0;31mKeyError\u001b[0m: 0"
     ]
    }
   ],
   "source": [
    "_az = np.linspace(0., 2.*np.pi, 200)\n",
    "_za = np.linspace(0., 0.5*np.pi, 300)\n",
    "az, za = np.meshgrid(_az, _za)\n",
    "\n",
    "beams[0].peak_normalize()\n",
    "b,_ = beams[0].interp(az_array=az.flatten(), za_array=za.flatten(), freq_array=np.array([freqs[0]*1e6,]))\n",
    "beam = b[0,0,1,0,:].reshape(az.shape)\n",
    "\n",
    "plt.matshow(beam.T, aspect='auto', extent=[np.rad2deg(_za.min()), np.rad2deg(_za.max()), \n",
    "                                           np.rad2deg(_az.max()), np.rad2deg(_az.min())])\n",
    "\n",
    "plt.xlabel(\"Zenith angle [deg]\", fontsize=16.)\n",
    "plt.ylabel(\"Azimuth [deg]\", fontsize=16.)\n",
    "plt.colorbar()"
   ]
  },
  {
   "cell_type": "code",
   "execution_count": null,
   "id": "a38813c3",
   "metadata": {
    "papermill": {
     "duration": null,
     "end_time": null,
     "exception": null,
     "start_time": null,
     "status": "pending"
    },
    "tags": []
   },
   "outputs": [],
   "source": [
    "plt.plot(np.rad2deg(_za), beam[:,0]**2.)\n",
    "plt.axhline(0., ls='dashed', color='k')"
   ]
  },
  {
   "cell_type": "markdown",
   "id": "db0ac95a",
   "metadata": {
    "papermill": {
     "duration": null,
     "end_time": null,
     "exception": null,
     "start_time": null,
     "status": "pending"
    },
    "tags": []
   },
   "source": [
    "<a id='diffuse'></a>\n",
    "## Diffuse emission"
   ]
  },
  {
   "cell_type": "code",
   "execution_count": null,
   "id": "5b0beba3",
   "metadata": {
    "papermill": {
     "duration": null,
     "end_time": null,
     "exception": null,
     "start_time": null,
     "status": "pending"
    },
    "tags": []
   },
   "outputs": [],
   "source": [
    "def gsm_sky_model(freqs, resolution=\"hi\", nside=None):\n",
    "    \"\"\"\n",
    "    Return a pyradiosky SkyModel object populated with a Global Sky Model datacube in \n",
    "    healpix format.\n",
    "    Parameters\n",
    "    ----------\n",
    "    freqs : array_like\n",
    "        Frequency array, in Hz.\n",
    "    resolution : str, optional\n",
    "        Whether to use the high or low resolution pygdsm maps. Options are 'hi' or 'low'.\n",
    "    nside : int, optional\n",
    "        Healpix nside to up- or down-sample the GSM sky model to. Default: `None` (use the \n",
    "        default from `pygdsm`, which is 1024).\n",
    "    Returns\n",
    "    -------\n",
    "    sky_model : pyradiosky.SkyModel\n",
    "        SkyModel object.\n",
    "    \"\"\"\n",
    "    # Initialise GSM object\n",
    "    gsm = pygdsm.GlobalSkyModel2016(data_unit=\"TRJ\", resolution=resolution, freq_unit=\"Hz\")\n",
    "\n",
    "    # Construct GSM datacube\n",
    "    hpmap = gsm.generate(freqs=freqs) # FIXME: nside=1024, ring ordering, galactic coords\n",
    "    hpmap_units = \"K\"\n",
    "\n",
    "    # Set nside or resample\n",
    "    nside_gsm = int(astropy_healpix.npix_to_nside(hpmap.shape[-1]))\n",
    "    if nside is None:\n",
    "        # Use default nside from pygdsm map\n",
    "        nside = nside_gsm\n",
    "    else:\n",
    "        # Transform to a user-selected nside\n",
    "        hpmap_new = np.zeros((hpmap.shape[0], astropy_healpix.nside_to_npix(nside)), \n",
    "                             dtype=hpmap.dtype)\n",
    "        for i in range(hpmap.shape[0]):\n",
    "            hpmap_new[i,:] = hp.ud_grade(hpmap[i,:], \n",
    "                                         nside_out=nside, \n",
    "                                         order_in=\"RING\", \n",
    "                                         order_out=\"RING\")\n",
    "        hpmap = hpmap_new\n",
    "\n",
    "    # Get datacube properties\n",
    "    npix = astropy_healpix.nside_to_npix(nside)\n",
    "    indices = np.arange(npix)\n",
    "    history = \"pygdsm.GlobalSkyModel2016, data_unit=TRJ, resolution=low, freq_unit=MHz\"\n",
    "    freq = u.Quantity(freqs, \"hertz\")\n",
    "\n",
    "    # hmap is in K\n",
    "    stokes = u.Quantity(np.zeros((4, len(freq), len(indices))), hpmap_units)\n",
    "    stokes[0] = hpmap * u.Unit(hpmap_units)\n",
    "\n",
    "    # Construct pyradiosky SkyModel\n",
    "    sky_model = pyradiosky.SkyModel(\n",
    "                                    nside=nside,\n",
    "                                    hpx_inds=indices,\n",
    "                                    stokes=stokes,\n",
    "                                    spectral_type=\"full\",\n",
    "                                    freq_array=freq,\n",
    "                                    history=history,\n",
    "                                    frame=\"galactic\",\n",
    "                                    hpx_order=\"ring\"\n",
    "                                )\n",
    "\n",
    "    sky_model.healpix_interp_transform(frame='icrs', full_sky=True, inplace=True) # do coord transform\n",
    "    assert sky_model.component_type == \"healpix\"\n",
    "    return sky_model"
   ]
  },
  {
   "cell_type": "code",
   "execution_count": null,
   "id": "0365c0ae",
   "metadata": {
    "papermill": {
     "duration": null,
     "end_time": null,
     "exception": null,
     "start_time": null,
     "status": "pending"
    },
    "tags": []
   },
   "outputs": [],
   "source": [
    "def empty_uvdata(ants=None, nfreq=20, ntimes=20, bandwidth=0.2e8, \n",
    "                 integration_time=40., \n",
    "                 start_time=2458902.33333, start_freq=1.e8, **kwargs):\n",
    "    \"\"\"\n",
    "    Generate empty UVData object with the right shape.\n",
    "    \n",
    "    Parameters\n",
    "    ----------\n",
    "    ants (dict): None\n",
    "        A dictionary mapping an integer to a three-tuple of ENU co-ordinates for\n",
    "        each antenna. These antennas can be down-selected via keywords.\n",
    "    ntimes : int, optional\n",
    "        Number of time samples. Default: 20.\n",
    "    \n",
    "    bandwidth : float\n",
    "        Total bandwidth, in Hz. Default: 0.2e8\n",
    "    \n",
    "    integration_time : float, optional\n",
    "        Integration time per time sample. Default: 40. \n",
    "    \n",
    "    start_time : float, optional\n",
    "        Start date of observations, as Julian date. Default: 2458902.33333 \n",
    "        (20:00 UTC on 2020-02-22)\n",
    "    \n",
    "    start_freq : float, optional\n",
    "        Initial frequency channel, in Hz. Default: 1.e8.\n",
    "    \n",
    "    **kwargs : args\n",
    "        Other arguments to be passed to `hera_sim.io.empty_uvdata`.\n",
    "    \n",
    "    Returns\n",
    "    -------\n",
    "    uvd : UVData\n",
    "        Returns an empty UVData \n",
    "    \"\"\"\n",
    "    from hera_sim import io\n",
    "    uvd = io.empty_uvdata(\n",
    "        Nfreqs=nfreq,\n",
    "        start_freq=start_freq,\n",
    "        channel_width=bandwidth / nfreq,\n",
    "        start_time=start_time,\n",
    "        integration_time=integration_time,\n",
    "        Ntimes=ntimes,\n",
    "        array_layout=ants,\n",
    "        **kwargs\n",
    "    )\n",
    "    \n",
    "    # Add missing parameters\n",
    "    uvd._x_orientation.value = 'east'\n",
    "    return uvd"
   ]
  },
  {
   "cell_type": "code",
   "execution_count": null,
   "id": "938680cb",
   "metadata": {
    "papermill": {
     "duration": null,
     "end_time": null,
     "exception": null,
     "start_time": null,
     "status": "pending"
    },
    "tags": []
   },
   "outputs": [],
   "source": [
    "def simulate_diffuse(freqs, beam_list, nside=64):\n",
    "    \n",
    "    # Construct a data model\n",
    "    cfg_spec = dict( nfreq=freqs.size,\n",
    "                     start_freq=freqs[0]*1e6,\n",
    "                     bandwidth=(freqs[-1]-freqs[0])*1e6,\n",
    "                     start_time=jd,\n",
    "                     integration_time=dt,\n",
    "                     ntimes=Ntimes)\n",
    "    \n",
    "    # Prepare empty data structure\n",
    "    uvd = empty_uvdata(ants=ants, **cfg_spec)\n",
    "    \n",
    "    # FIXME: This can use a lot of memory in MPI mode, as there are Nprocs duplicates \n",
    "    # of the whole datacube!\n",
    "    # Build SkyModel from GSM (pygdsm)\n",
    "    gsm_sky = gsm_sky_model(np.unique(uvd.freq_array), resolution=\"lo\", nside=nside)\n",
    "    \n",
    "    # Prepare model\n",
    "    data_model = ModelData(uvdata=uvd, \n",
    "                           sky_model=gsm_sky,\n",
    "                           beams=beam_list)\n",
    "    \n",
    "    # Initialise VisCPU handler object\n",
    "    viscpu = VisCPU(precision=2)\n",
    "\n",
    "    # Create a VisibilitySimulation object\n",
    "    simulator_diffuse = VisibilitySimulation(data_model=data_model, \n",
    "                                             simulator=viscpu)\n",
    "    \n",
    "    # Run the simulation\n",
    "    tstart = time.time()\n",
    "    simulator_diffuse.simulate()\n",
    "    print(\"\\tSimulation (diffuse) took %2.1f sec\" % (time.time() - tstart))\n",
    "    \n",
    "    # Get simulated data\n",
    "    _d = uvd.get_data((0,0))\n",
    "    \n",
    "    # Convert from Jy to \n",
    "    assert uvd.vis_units == 'Jy'\n",
    "    return _d\n",
    "\n",
    "\n",
    "# Simulate in blocks of frequency\n",
    "d_diffuse = np.zeros((Ntimes, Nfreqs))\n",
    "nn = Nfreqs // diffuse_sim_nblocks\n",
    "for i in range(diffuse_sim_nblocks):\n",
    "    print(\"Block %d / %d\" % (i+1, diffuse_sim_nblocks))\n",
    "    _d = simulate_diffuse(freqs[nn*i:nn*(i+1)], beam_list=beams, nside=diffuse_nside)\n",
    "    d_diffuse[:,nn*i:nn*(i+1)] = _d.real"
   ]
  },
  {
   "cell_type": "code",
   "execution_count": null,
   "id": "32178b1c",
   "metadata": {
    "papermill": {
     "duration": null,
     "end_time": null,
     "exception": null,
     "start_time": null,
     "status": "pending"
    },
    "tags": []
   },
   "outputs": [],
   "source": [
    "plt.matshow(d_diffuse.T, aspect='auto')\n",
    "plt.colorbar()"
   ]
  },
  {
   "cell_type": "code",
   "execution_count": null,
   "id": "3204a774",
   "metadata": {
    "papermill": {
     "duration": null,
     "end_time": null,
     "exception": null,
     "start_time": null,
     "status": "pending"
    },
    "tags": []
   },
   "outputs": [],
   "source": [
    "# Plot map of diffuse emission\n",
    "gsm = pygdsm.GlobalSkyModel2016(data_unit=\"TRJ\", resolution='hi', freq_unit=\"Hz\")\n",
    "\n",
    "# Construct GSM datacube\n",
    "hpmap = gsm.generate(freqs=freqs[0]*1e6)"
   ]
  },
  {
   "cell_type": "code",
   "execution_count": null,
   "id": "c622b469",
   "metadata": {
    "papermill": {
     "duration": null,
     "end_time": null,
     "exception": null,
     "start_time": null,
     "status": "pending"
    },
    "tags": []
   },
   "outputs": [],
   "source": [
    "hp.projview(np.log10(hpmap), \n",
    "            coord=('G', 'E'), \n",
    "            rot=(-180.,0.,0.),\n",
    "            flip='geo',\n",
    "            min=3, \n",
    "            max=4, \n",
    "            graticule=True, \n",
    "            graticule_labels=False,\n",
    "            cb_orientation=\"vertical\",\n",
    "            projection_type=\"mollweide\")\n",
    "\n",
    "#plt.axhline(-location.lat.deg, color='w', ls='dotted', lw=1.)\n",
    "#plt.axvline(location.lat.deg, color='w', ls='dotted', lw=1.)\n",
    "\n",
    "# Note the differenc ein coordinates between newprojplot and this\n",
    "rect = patches.Rectangle((np.deg2rad(-60.), \n",
    "                          np.deg2rad(location.lat.deg-30.)),                         \n",
    "                         height=np.deg2rad(60.),  \n",
    "                         width=np.deg2rad(80.),  \n",
    "                         ec='w', fc='w', alpha=0.2, zorder=99)\n",
    "plt.gca().add_patch(rect)\n",
    "rect = patches.Rectangle((np.deg2rad(-60.), \n",
    "                          np.deg2rad(location.lat.deg-30.)),                         \n",
    "                         height=np.deg2rad(60.),  \n",
    "                         width=np.deg2rad(80.),  \n",
    "                         lw=2., ec='w', fc='none', alpha=1., zorder=99)\n",
    "plt.gca().add_patch(rect)\n",
    "\n",
    "plt.gcf().set_size_inches((16., 8.))"
   ]
  },
  {
   "cell_type": "code",
   "execution_count": null,
   "id": "b5c3afae",
   "metadata": {
    "papermill": {
     "duration": null,
     "end_time": null,
     "exception": null,
     "start_time": null,
     "status": "pending"
    },
    "tags": []
   },
   "outputs": [],
   "source": [
    "hp.projview(np.log10(hpmap), \n",
    "            coord=('G', 'E'), \n",
    "            rot=(-180.,0.,0.),\n",
    "            flip='geo',\n",
    "            min=3, \n",
    "            max=4, \n",
    "            graticule=True, \n",
    "            graticule_labels=False,\n",
    "            cb_orientation=\"vertical\",\n",
    "            projection_type=\"mollweide\")\n",
    "\n",
    "#plt.axhline(-location.lat.deg, color='w', ls='dotted', lw=1.)\n",
    "#plt.axvline(location.lat.deg, color='w', ls='dotted', lw=1.)\n",
    "\n",
    "# Note the differenc ein coordinates between newprojplot and this\n",
    "rect = patches.Rectangle((np.deg2rad(-60.), \n",
    "                          np.deg2rad(location.lat.deg-30.)),                         \n",
    "                         height=np.deg2rad(60.),  \n",
    "                         width=np.deg2rad(80.),  \n",
    "                         ec='w', fc='w', alpha=0.6, zorder=99)\n",
    "plt.gca().add_patch(rect)\n",
    "\n",
    "\n",
    "rect = patches.Rectangle((np.deg2rad(-60.), \n",
    "                          np.deg2rad(78.9424-30.)),                         \n",
    "                         height=np.deg2rad(41.),  \n",
    "                         width=np.deg2rad(80.),  \n",
    "                         ec='r', fc='r', alpha=0.8, zorder=99)\n",
    "plt.gca().add_patch(rect)\n",
    "\n",
    "#rect = patches.Rectangle((np.deg2rad(-60.), \n",
    "#                          np.deg2rad(location.lat.deg-30.)),                         \n",
    "#                         height=np.deg2rad(60.),  \n",
    "#                         width=np.deg2rad(80.),  \n",
    "#                         lw=2., ec='w', fc='none', alpha=1., zorder=99)\n",
    "#plt.gca().add_patch(rect)\n",
    "\n",
    "plt.gcf().set_size_inches((16., 8.))"
   ]
  },
  {
   "cell_type": "code",
   "execution_count": null,
   "id": "be289218",
   "metadata": {
    "papermill": {
     "duration": null,
     "end_time": null,
     "exception": null,
     "start_time": null,
     "status": "pending"
    },
    "tags": []
   },
   "outputs": [],
   "source": [
    "hp.cartview(np.log10(hpmap), \n",
    "            coord=('G', 'E'), \n",
    "            min=3, \n",
    "            max=4,\n",
    "           rot=(-180.,0.,0.),\n",
    "           flip='geo')\n",
    "hp.graticule()\n",
    "\n",
    "plt.axhline(location.lat.deg+30., color='w', ls='dotted', lw=2.2)\n",
    "plt.axhline(location.lat.deg-30., color='w', ls='dotted', lw=2.2)\n",
    "plt.axhline(location.lat.deg, color='k', ls='dashed', lw=2.2)\n",
    "\n",
    "\n",
    "svalbard_lat = 78.9424\n",
    "plt.axhline(svalbard_lat+30., color='r', ls='dotted', lw=2.2)\n",
    "plt.axhline(svalbard_lat-30., color='r', ls='dotted', lw=2.2)\n",
    "plt.axhline(svalbard_lat, color='r', ls='dashed', lw=2.2)\n",
    "\n",
    "\n",
    "plt.axvline(-60., color='w', ls='dotted', lw=2.2)\n",
    "plt.axvline(20., color='w', ls='dotted', lw=2.2)\n",
    "\n",
    "\n",
    "plt.gcf().set_size_inches((16., 8.))"
   ]
  },
  {
   "cell_type": "markdown",
   "id": "1f36180a",
   "metadata": {
    "papermill": {
     "duration": null,
     "end_time": null,
     "exception": null,
     "start_time": null,
     "status": "pending"
    },
    "tags": []
   },
   "source": [
    "<a id='ptsrc-cat'></a>\n",
    "## Point sources from catalogue"
   ]
  },
  {
   "cell_type": "code",
   "execution_count": null,
   "id": "b575c882",
   "metadata": {
    "papermill": {
     "duration": null,
     "end_time": null,
     "exception": null,
     "start_time": null,
     "status": "pending"
    },
    "tags": []
   },
   "outputs": [],
   "source": [
    "#import glob"
   ]
  },
  {
   "cell_type": "code",
   "execution_count": null,
   "id": "af0bf04d",
   "metadata": {
    "papermill": {
     "duration": null,
     "end_time": null,
     "exception": null,
     "start_time": null,
     "status": "pending"
    },
    "tags": []
   },
   "outputs": [],
   "source": [
    "# http://www.aoc.nrao.edu/~akimball/radiocat_1.1.shtml#download\n",
    "#cat_files = glob.glob(\"/home/phil/hera/radiocat/*.csv\")\n",
    "#cat_files.sort()"
   ]
  },
  {
   "cell_type": "code",
   "execution_count": null,
   "id": "756b610b",
   "metadata": {
    "papermill": {
     "duration": null,
     "end_time": null,
     "exception": null,
     "start_time": null,
     "status": "pending"
    },
    "scrolled": true,
    "tags": []
   },
   "outputs": [],
   "source": [
    "#cat = []\n",
    "#for i, fname in enumerate(cat_files):\n",
    "#    print(\"Loading %d / %d\" % (i+1, len(cat_files)))\n",
    "#    _cat = np.genfromtxt(fname, skip_header=1, delimiter=',')\n",
    "#    print(_cat.shape)\n",
    "#    cat.append(_cat.T)"
   ]
  },
  {
   "cell_type": "code",
   "execution_count": null,
   "id": "2661f3f5",
   "metadata": {
    "papermill": {
     "duration": null,
     "end_time": null,
     "exception": null,
     "start_time": null,
     "status": "pending"
    },
    "tags": []
   },
   "outputs": [],
   "source": [
    "#cat = np.column_stack(cat)\n",
    "#cat.shape"
   ]
  },
  {
   "cell_type": "code",
   "execution_count": null,
   "id": "a90bb233",
   "metadata": {
    "papermill": {
     "duration": null,
     "end_time": null,
     "exception": null,
     "start_time": null,
     "status": "pending"
    },
    "tags": []
   },
   "outputs": [],
   "source": [
    "#plt.plot(cat[1], cat[2], 'r,', alpha=0.2)\n",
    "#plt.gcf().set_size_inches((20., 10.))"
   ]
  },
  {
   "cell_type": "markdown",
   "id": "b03ab3ed",
   "metadata": {
    "papermill": {
     "duration": null,
     "end_time": null,
     "exception": null,
     "start_time": null,
     "status": "pending"
    },
    "tags": []
   },
   "source": [
    "<a id='ptsrc-synthetic'></a>\n",
    "## Synthetic point source catalogue\n",
    "GLEAM doesn't cover the northern sky well enough, but we can build a synthetic catalogue with similar properties, by resampling it."
   ]
  },
  {
   "cell_type": "code",
   "execution_count": null,
   "id": "f4de8884",
   "metadata": {
    "papermill": {
     "duration": null,
     "end_time": null,
     "exception": null,
     "start_time": null,
     "status": "pending"
    },
    "tags": []
   },
   "outputs": [],
   "source": [
    "# Load trimmed catalogue\n",
    "cat_ra, cat_dec, cat_flux0, cat_beta = np.genfromtxt(\"catBC.txt\").T"
   ]
  },
  {
   "cell_type": "code",
   "execution_count": null,
   "id": "a5385d90",
   "metadata": {
    "papermill": {
     "duration": null,
     "end_time": null,
     "exception": null,
     "start_time": null,
     "status": "pending"
    },
    "tags": []
   },
   "outputs": [],
   "source": [
    "# Plot source positions\n",
    "plt.scatter(cat_ra, cat_dec, s=2.*np.sqrt(10. + cat_flux0))"
   ]
  },
  {
   "cell_type": "code",
   "execution_count": null,
   "id": "34926460",
   "metadata": {
    "papermill": {
     "duration": null,
     "end_time": null,
     "exception": null,
     "start_time": null,
     "status": "pending"
    },
    "tags": []
   },
   "outputs": [],
   "source": [
    "# Get approximate effective survey area from 3x standard deviation of RA and Dec\n",
    "width_ra = 3.*np.std(cat_ra)\n",
    "width_dec = 3.*np.std(cat_dec)\n",
    "print(width_ra, width_dec)\n",
    "\n",
    "# Get number density\n",
    "cat_numdensity = cat_ra.size / (width_ra * width_dec) # approx. per deg^2\n",
    "print(\"Number density: %8.4f / deg^2\" % cat_numdensity)"
   ]
  },
  {
   "cell_type": "code",
   "execution_count": null,
   "id": "c93154e9",
   "metadata": {
    "papermill": {
     "duration": null,
     "end_time": null,
     "exception": null,
     "start_time": null,
     "status": "pending"
    },
    "tags": []
   },
   "outputs": [],
   "source": [
    "# Calculate new area, and therefore the number of sources (to match the number density)\n",
    "ra_min, ra_max = 120., 200. # deg\n",
    "dec_min, dec_max = 53.235 - 30., 53.235 + 30.\n",
    "new_area = (ra_max - ra_min) * (dec_max - dec_min) # deg^2\n",
    "new_Nptsrc = int(new_area * cat_numdensity)\n",
    "print(\"New catalogue area: %8.4f deg^2\" % new_area)\n",
    "print(\"No. sources:\", new_Nptsrc)\n",
    "\n",
    "# Restrict source location on sky (close to zenith pointing)\n",
    "ptsrc_ra = np.random.uniform(low=ra_min, high=ra_max, size=new_Nptsrc) # degrees\n",
    "ptsrc_dec = np.random.uniform(low=dec_min, high=dec_max, size=new_Nptsrc) # degrees\n",
    "ptsrc_dec[ptsrc_dec >= 90.] = 90. - (ptsrc_dec[ptsrc_dec >= 90.] - 90.)\n",
    "\n",
    "# Select subsample of point sources at random, and use their flux and beta\n",
    "idxs = np.arange(cat_ra.size)\n",
    "sampled_idxs = np.random.choice(idxs, size=new_Nptsrc, replace=True)\n",
    "ptsrc_flux0 = cat_flux0[sampled_idxs]\n",
    "ptsrc_beta = cat_beta[sampled_idxs]\n",
    "\n",
    "# Plot source positions in new source catalogue\n",
    "plt.scatter(ptsrc_ra, ptsrc_dec, s=2.*np.sqrt(10. + ptsrc_flux0))\n",
    "plt.xlabel(\"RA [deg]\", fontsize=16)\n",
    "plt.ylabel(\"Dec [deg]\", fontsize=16)"
   ]
  },
  {
   "cell_type": "code",
   "execution_count": null,
   "id": "43ba3a89",
   "metadata": {
    "papermill": {
     "duration": null,
     "end_time": null,
     "exception": null,
     "start_time": null,
     "status": "pending"
    },
    "tags": []
   },
   "outputs": [],
   "source": [
    "# Plot histogram\n",
    "plt.subplot(111)\n",
    "plt.hist(np.log10(ptsrc_flux0), bins=40)\n",
    "#plt.yscale('log')\n",
    "plt.xlabel(\"$\\log_{10} S$ [Jy]\", fontsize=16)"
   ]
  },
  {
   "cell_type": "code",
   "execution_count": null,
   "id": "1e987cfa",
   "metadata": {
    "papermill": {
     "duration": null,
     "end_time": null,
     "exception": null,
     "start_time": null,
     "status": "pending"
    },
    "tags": []
   },
   "outputs": [],
   "source": [
    "# Plot histogram\n",
    "plt.subplot(111)\n",
    "plt.hist(ptsrc_beta, bins=40)\n",
    "plt.xlabel(\"Point source spectral index\", fontsize=16.)"
   ]
  },
  {
   "cell_type": "code",
   "execution_count": null,
   "id": "7ae2ff91",
   "metadata": {
    "papermill": {
     "duration": null,
     "end_time": null,
     "exception": null,
     "start_time": null,
     "status": "pending"
    },
    "tags": []
   },
   "outputs": [],
   "source": [
    "# Get altitude and azimuth vs LST\n",
    "coords = SkyCoord(ra=ptsrc_ra*u.degree, dec=ptsrc_dec*u.degree, frame='icrs')\n",
    "\n",
    "# Loop over times\n",
    "alt, az = [], []\n",
    "for tt in times:\n",
    "    frame = AltAz(obstime=obstime + tt, location=location)\n",
    "    _c = coords.transform_to(frame)\n",
    "    alt.append(_c.alt.deg)\n",
    "    az.append(_c.az.deg)\n",
    "print(\"Done.\")\n",
    "alt = np.array(alt)\n",
    "az = np.array(az)\n",
    "\n",
    "# Plot altitude and azimuth vs LST\n",
    "plt.subplot(121)\n",
    "plt.plot(lsts*24./(2.*np.pi), alt, color='b', alpha=0.3)\n",
    "plt.axhspan(xmin=0., xmax=1., ymin=-90., ymax=10., color='k', alpha=0.6)\n",
    "plt.xlabel(\"LST [h]\", fontsize=16)\n",
    "plt.ylabel(\"Alt. [deg]\", fontsize=16)\n",
    "plt.xlim((lsts.min()*24./(2.*np.pi), lsts.max()*24./(2.*np.pi)))\n",
    "plt.ylim((-90., 90.))\n",
    "\n",
    "plt.subplot(122)\n",
    "plt.plot(lsts*24./(2.*np.pi), az, color='r', alpha=0.3)\n",
    "plt.xlabel(\"LST [h]\", fontsize=16)\n",
    "plt.ylabel(\"Az. [deg]\", fontsize=16)\n",
    "plt.xlim((lsts.min()*24./(2.*np.pi), lsts.max()*24./(2.*np.pi)))\n",
    "plt.ylim((0., 360.))\n",
    "\n",
    "plt.gcf().set_size_inches((16., 5.))"
   ]
  },
  {
   "cell_type": "code",
   "execution_count": null,
   "id": "123c96d9",
   "metadata": {
    "papermill": {
     "duration": null,
     "end_time": null,
     "exception": null,
     "start_time": null,
     "status": "pending"
    },
    "tags": []
   },
   "outputs": [],
   "source": [
    "# Get RA/Dec track of zenith\n",
    "zen_ra = []\n",
    "zen_dec = []\n",
    "for tt in times:\n",
    "    zen = SkyCoord(alt=90.*u.deg, az=0.*u.deg, obstime=obstime + tt, location=location, frame='altaz')\n",
    "    zen_ra.append(zen.icrs.ra.deg)\n",
    "    zen_dec.append(zen.icrs.dec.deg)\n",
    "zen_ra = np.array(zen_ra)\n",
    "zen_dec = np.array(zen_dec)\n",
    "\n",
    "# Plot locations of sources and zenith in equatorial coords\n",
    "plt.subplot(111)\n",
    "plt.scatter(ptsrc_ra, ptsrc_dec, s=5.+(ptsrc_flux0), label=\"Point sources\", alpha=0.7)\n",
    "plt.scatter(zen_ra, zen_dec, c=lsts, marker='x', label=\"Zenith\", cmap='magma')\n",
    "\n",
    "# Plot approx. beam FWHM\n",
    "beam_fwhm = (astropy.constants.c.value/(freqs[0]*1e6) / 8.) * 180./np.pi\n",
    "print(\"Beam FWHM: %5.1f deg\" % beam_fwhm)\n",
    "for i in np.arange(zen_ra.size)[::200]:\n",
    "    circ = patches.Circle((zen_ra[i], zen_dec[i]), beam_fwhm/2., alpha=0.05, fc='gray', zorder=-100)\n",
    "    plt.gca().add_patch(circ)\n",
    "    if i % 2 == 0:\n",
    "        plt.text(zen_ra[i] - 2., zen_dec[i] - 8., \"%3.1fh\" % (lsts[i]*24./(2.*np.pi)), rotation=45., alpha=0.3)\n",
    "\n",
    "plt.legend(loc='upper right', frameon=False, prop={'size':'x-large'})\n",
    "plt.xlabel(\"RA [deg]\", fontsize=16)\n",
    "plt.ylabel(\"Dec [deg]\", fontsize=16)\n",
    "\n",
    "#plt.ylim((-45., -15.))\n",
    "plt.gca().tick_params(which='both', labelsize=16, size=8., width=1.8)\n",
    "\n",
    "plt.gcf().set_size_inches((14., 7.))"
   ]
  },
  {
   "cell_type": "markdown",
   "id": "cec76298",
   "metadata": {
    "papermill": {
     "duration": null,
     "end_time": null,
     "exception": null,
     "start_time": null,
     "status": "pending"
    },
    "tags": []
   },
   "source": [
    "<a id='ptsrc-sim'></a>\n",
    "## Simulate point source visibilities\n",
    "We use vis_cpu to simulate the point source visibilities"
   ]
  },
  {
   "cell_type": "code",
   "execution_count": null,
   "id": "5e5d6799",
   "metadata": {
    "papermill": {
     "duration": null,
     "end_time": null,
     "exception": null,
     "start_time": null,
     "status": "pending"
    },
    "tags": []
   },
   "outputs": [],
   "source": [
    "# Construct fluxes array by multiplying by powerlaw frequency dependence\n",
    "fluxes = ptsrc_flux0[:,np.newaxis] * (freqs[np.newaxis,:] / 100.)**ptsrc_beta[:,np.newaxis]"
   ]
  },
  {
   "cell_type": "code",
   "execution_count": null,
   "id": "b8b41045",
   "metadata": {
    "papermill": {
     "duration": null,
     "end_time": null,
     "exception": null,
     "start_time": null,
     "status": "pending"
    },
    "tags": []
   },
   "outputs": [],
   "source": [
    "# Simulate visibilities\n",
    "t0 = time.time()\n",
    "ptsrc_vis = vis_cpu.simulate_vis(ants=ants, \n",
    "                                 fluxes=fluxes, \n",
    "                                 ra=np.deg2rad(ptsrc_ra), \n",
    "                                 dec=np.deg2rad(ptsrc_dec), \n",
    "                                 freqs=freqs*1e6, \n",
    "                                 lsts=lsts, \n",
    "                                 beams=beam_list, \n",
    "                                 precision=2, \n",
    "                                 polarized=False,\n",
    "                                 latitude=location.lat.rad)\n",
    "print(\"Run took %3.1f sec\" % (time.time() - t0))"
   ]
  },
  {
   "cell_type": "code",
   "execution_count": null,
   "id": "c0444cfc",
   "metadata": {
    "papermill": {
     "duration": null,
     "end_time": null,
     "exception": null,
     "start_time": null,
     "status": "pending"
    },
    "tags": []
   },
   "outputs": [],
   "source": [
    "extent = [lsts.min()*24./(2.*np.pi), lsts.max()*24./(2.*np.pi),\n",
    "          freqs.max(), freqs.min()]\n",
    "plt.matshow(np.abs(ptsrc_vis[:,:,0,0]), aspect='auto', extent=extent)\n",
    "plt.colorbar()\n",
    "plt.ylabel(\"Freq. [MHz]\", fontsize=16.)\n",
    "plt.xlabel(\"LST [h]\", fontsize=16.)"
   ]
  },
  {
   "cell_type": "code",
   "execution_count": null,
   "id": "0f17fe26",
   "metadata": {
    "papermill": {
     "duration": null,
     "end_time": null,
     "exception": null,
     "start_time": null,
     "status": "pending"
    },
    "tags": []
   },
   "outputs": [],
   "source": [
    "plt.plot(ptsrc_vis[:,0,0,0])"
   ]
  },
  {
   "cell_type": "markdown",
   "id": "4ecb88b4",
   "metadata": {
    "papermill": {
     "duration": null,
     "end_time": null,
     "exception": null,
     "start_time": null,
     "status": "pending"
    },
    "tags": []
   },
   "source": [
    "<a id='21cm'></a>\n",
    "## 21cm signal"
   ]
  },
  {
   "cell_type": "code",
   "execution_count": null,
   "id": "f070076c",
   "metadata": {
    "papermill": {
     "duration": null,
     "end_time": null,
     "exception": null,
     "start_time": null,
     "status": "pending"
    },
    "tags": []
   },
   "outputs": [],
   "source": [
    "def T21cm_profile(freqs, Tb0=10e-3, centre=75., width=5., depth=100e-3, spindex=4):\n",
    "    return Tb0 * np.ones_like(freqs) \\\n",
    "          - depth * np.exp(-0.5 * ((freqs-centre)/width)**(2*spindex))"
   ]
  },
  {
   "cell_type": "code",
   "execution_count": null,
   "id": "7a67eacb",
   "metadata": {
    "papermill": {
     "duration": null,
     "end_time": null,
     "exception": null,
     "start_time": null,
     "status": "pending"
    },
    "tags": []
   },
   "outputs": [],
   "source": [
    "Tb = T21cm_profile(freqs, Tb0=10e-3, centre=75., width=5., depth=100e-3, spindex=4)\n",
    "\n",
    "plt.subplot(111)\n",
    "plt.plot(freqs, Tb)\n",
    "\n",
    "plt.xlabel(\"Freqs. [MHz]\", fontsize=16)\n",
    "plt.ylabel(\"Tb [K]\", fontsize=16)"
   ]
  },
  {
   "cell_type": "markdown",
   "id": "9340c7de",
   "metadata": {
    "papermill": {
     "duration": null,
     "end_time": null,
     "exception": null,
     "start_time": null,
     "status": "pending"
    },
    "tags": []
   },
   "source": [
    "<a id='ndiode'></a>\n",
    "## Noise diode\n",
    "\n",
    "**HG** ndiode_signal and ndiode_alwayson are used once each in later sections."
   ]
  },
  {
   "cell_type": "code",
   "execution_count": null,
   "id": "a2ca9257",
   "metadata": {
    "papermill": {
     "duration": null,
     "end_time": null,
     "exception": null,
     "start_time": null,
     "status": "pending"
    },
    "tags": []
   },
   "outputs": [],
   "source": [
    "# Construct random Chebyshev model for noise diode time-dep. amplitude\n",
    "ndiode_shape = 1. + chebyshev_model(lsts, ndiode_ncoeffs, ndiode_ripple_factor)\n",
    "\n",
    "# Plot noise diode amplitude\n",
    "plt.subplot(111)\n",
    "plt.plot(lsts, ndiode_shape)"
   ]
  },
  {
   "cell_type": "code",
   "execution_count": null,
   "id": "6a63e54c",
   "metadata": {
    "papermill": {
     "duration": null,
     "end_time": null,
     "exception": null,
     "start_time": null,
     "status": "pending"
    },
    "tags": []
   },
   "outputs": [],
   "source": [
    "# Noise diode waveform\n",
    "tt = np.arange(lsts.size) * dt\n",
    "ndiode_time_signal = np.zeros(tt.size)\n",
    "\n",
    "# Switch on for given cadence and duration\n",
    "for i in range(ndiode_duration):\n",
    "    ndiode_time_signal[i::ndiode_cadence] = 1.\n",
    "ndiode_time_signal *= ndiode_shape\n",
    "    \n",
    "plt.plot(tt, ndiode_time_signal, 'r.')\n",
    "plt.ylim((0.99, 1.01))"
   ]
  },
  {
   "cell_type": "code",
   "execution_count": null,
   "id": "eaecc3a8",
   "metadata": {
    "papermill": {
     "duration": null,
     "end_time": null,
     "exception": null,
     "start_time": null,
     "status": "pending"
    },
    "tags": []
   },
   "outputs": [],
   "source": [
    "# Noise diode bandpass\n",
    "ndiode_bandpass_shape = 1. + chebyshev_model(freqs, ndiode_bandpass_ncoeffs, ndiode_bandpass_ripple_factor)\n",
    "\n",
    "# Plot noise diode bandpass\n",
    "plt.subplot(111)\n",
    "plt.plot(freqs, ndiode_bandpass_shape)"
   ]
  },
  {
   "cell_type": "code",
   "execution_count": null,
   "id": "59c7f67f",
   "metadata": {
    "papermill": {
     "duration": null,
     "end_time": null,
     "exception": null,
     "start_time": null,
     "status": "pending"
    },
    "tags": []
   },
   "outputs": [],
   "source": [
    "# Combined noise diode process\n",
    "ndiode_signal = Tdiode * ndiode_bandpass_shape[np.newaxis,:] * ndiode_time_signal[:,np.newaxis]\n",
    "ndiode_mask = np.zeros(ndiode_signal.shape)\n",
    "ndiode_mask[ndiode_signal > 0.] = 1.\n",
    "\n",
    "# Plot (suffers from aliasing!)\n",
    "plt.matshow(ndiode_signal.T, aspect='auto') #, vmin=0.95, vmax=1.05)\n",
    "plt.colorbar()\n",
    "plt.gcf().set_size_inches((28., 3.))"
   ]
  },
  {
   "cell_type": "code",
   "execution_count": null,
   "id": "502410c9",
   "metadata": {
    "papermill": {
     "duration": null,
     "end_time": null,
     "exception": null,
     "start_time": null,
     "status": "pending"
    },
    "tags": []
   },
   "outputs": [],
   "source": [
    "plt.matshow(ndiode_mask.T, aspect='auto') #, vmin=0.95, vmax=1.05)\n",
    "plt.colorbar()\n",
    "plt.gcf().set_size_inches((28., 3.))"
   ]
  },
  {
   "cell_type": "code",
   "execution_count": null,
   "id": "31b9d656",
   "metadata": {
    "papermill": {
     "duration": null,
     "end_time": null,
     "exception": null,
     "start_time": null,
     "status": "pending"
    },
    "tags": []
   },
   "outputs": [],
   "source": [
    "# Keep a noise diode waterfall that doesn't have the on/off cycles\n",
    "ndiode_alwayson = Tdiode * ndiode_bandpass_shape[np.newaxis,:] * ndiode_shape[:,np.newaxis]\n",
    "\n",
    "plt.matshow(ndiode_alwayson.T, aspect='auto')\n",
    "plt.colorbar()\n",
    "plt.gcf().set_size_inches((28., 3.))"
   ]
  },
  {
   "cell_type": "markdown",
   "id": "6e027957",
   "metadata": {
    "papermill": {
     "duration": null,
     "end_time": null,
     "exception": null,
     "start_time": null,
     "status": "pending"
    },
    "tags": []
   },
   "source": [
    "<a id='skycal'></a>\n",
    "## Combined sky and calibrator signals\n",
    "\n",
    "**HG** \n",
    "Why \"input_signal = sky_signal + noise + ndiode_signal\"   why include ndiode_signal."
   ]
  },
  {
   "cell_type": "code",
   "execution_count": null,
   "id": "dba2de97",
   "metadata": {
    "papermill": {
     "duration": null,
     "end_time": null,
     "exception": null,
     "start_time": null,
     "status": "pending"
    },
    "tags": []
   },
   "outputs": [],
   "source": [
    "# Calculate beam solid angle vs. frequency (use the square of the beam to get the 'power' beam)\n",
    "omega_beam = get_beam_area(beams[0], freqs, beam_squared=True, naz=500, nza=500)\n",
    "\n",
    "plt.subplot(111)\n",
    "plt.plot(freqs, omega_beam)\n",
    "plt.xlabel(\"Frequency [MHz]\", fontsize=16)\n",
    "plt.ylabel(\"Power beam solid angle [ster.]\", fontsize=16)"
   ]
  },
  {
   "cell_type": "code",
   "execution_count": null,
   "id": "bfce1794",
   "metadata": {
    "papermill": {
     "duration": null,
     "end_time": null,
     "exception": null,
     "start_time": null,
     "status": "pending"
    },
    "tags": []
   },
   "outputs": [],
   "source": [
    "# Total signal (convert Jy to T_RJ where needed)\n",
    "sky_signal = Jy_to_TRJ(ptsrc_vis[:,:,0,0].T.real + d_diffuse, \n",
    "                       freqs, \n",
    "                       omega=omega_beam) \\\n",
    "           + Tb[np.newaxis,:]"
   ]
  },
  {
   "cell_type": "code",
   "execution_count": null,
   "id": "db7b2c20",
   "metadata": {
    "papermill": {
     "duration": null,
     "end_time": null,
     "exception": null,
     "start_time": null,
     "status": "pending"
    },
    "tags": []
   },
   "outputs": [],
   "source": [
    "# Plot spectra at single time\n",
    "plt.subplot(111)\n",
    "plt.plot(freqs, Jy_to_TRJ(ptsrc_vis[:,:,0,0].T.real, freqs, omega=omega_beam)[20,:], label=\"Ptsrc.\")\n",
    "plt.plot(freqs, Jy_to_TRJ(d_diffuse, freqs, omega=omega_beam)[20,:], label=\"Diffuse\")\n",
    "plt.plot(freqs, np.abs(Tb), label=\"21cm monopole\")\n",
    "\n",
    "plt.legend(loc='upper right')\n",
    "\n",
    "plt.xlabel(\"Freq. [MHz]\", fontsize=16)\n",
    "plt.ylabel(\"|T| [K]\", fontsize=16)\n",
    "plt.yscale('log')\n",
    "plt.ylim((1e-4, 1e3))"
   ]
  },
  {
   "cell_type": "code",
   "execution_count": null,
   "id": "e1d3d45f",
   "metadata": {
    "papermill": {
     "duration": null,
     "end_time": null,
     "exception": null,
     "start_time": null,
     "status": "pending"
    },
    "tags": []
   },
   "outputs": [],
   "source": [
    "def noise_realisation(Tsys, freqs, dt):\n",
    "    \"\"\"\n",
    "    Generate a random thermal noise realisation (mean zero) using \n",
    "    the radiometer equation, for a given system temperature.\n",
    "    \n",
    "    Parameters:\n",
    "        Tsys (array_like):\n",
    "            System temperature, in K.\n",
    "        freqs (array_like):\n",
    "            Frequency array, in MHz.\n",
    "        dt (float):\n",
    "            Integration time per time sample, in sec.\n",
    "    \n",
    "    Returns:\n",
    "        noise (array_like):\n",
    "            Random noise realisation, in K.\n",
    "    \"\"\"\n",
    "    # Channel bandwidth\n",
    "    dnu = (freqs[1] - freqs[0]) * 1e6 # Hz\n",
    "    \n",
    "    # Noise rms\n",
    "    sigmaT = Tsys / np.sqrt(dnu * dt)\n",
    "    \n",
    "    # Generate noise\n",
    "    noise = sigmaT * np.random.randn(*Tsys.shape)\n",
    "    return noise"
   ]
  },
  {
   "cell_type": "code",
   "execution_count": null,
   "id": "62e34061",
   "metadata": {
    "papermill": {
     "duration": null,
     "end_time": null,
     "exception": null,
     "start_time": null,
     "status": "pending"
    },
    "scrolled": true,
    "tags": []
   },
   "outputs": [],
   "source": [
    "# Calculate noise rms using the radiometer equation\n",
    "noise = noise_realisation(sky_signal + Tinstrument, freqs, dt)\n",
    "\n",
    "# Plot noise\n",
    "plt.matshow(noise.T, aspect='auto')\n",
    "plt.colorbar()"
   ]
  },
  {
   "cell_type": "code",
   "execution_count": null,
   "id": "e7a94685",
   "metadata": {
    "papermill": {
     "duration": null,
     "end_time": null,
     "exception": null,
     "start_time": null,
     "status": "pending"
    },
    "scrolled": true,
    "tags": []
   },
   "outputs": [],
   "source": [
    "# Combine signal and noise\n",
    "input_signal = sky_signal + noise + ndiode_signal\n",
    "print(input_signal.shape)\n",
    "plt.matshow(input_signal.T, aspect='auto')\n",
    "plt.colorbar()"
   ]
  },
  {
   "cell_type": "code",
   "execution_count": null,
   "id": "6fc41988",
   "metadata": {
    "papermill": {
     "duration": null,
     "end_time": null,
     "exception": null,
     "start_time": null,
     "status": "pending"
    },
    "tags": []
   },
   "outputs": [],
   "source": [
    "# Plot input signal at a single time\n",
    "plt.plot(freqs, input_signal[0])\n",
    "plt.plot(freqs, input_signal[1])\n",
    "plt.plot(freqs, input_signal[2])\n",
    "\n",
    "plt.xlabel(\"Freq. [MHz]\", fontsize=16.)\n",
    "plt.ylabel(\"Tobs [K]\", fontsize=16.)"
   ]
  },
  {
   "cell_type": "code",
   "execution_count": null,
   "id": "ee5ba830",
   "metadata": {
    "papermill": {
     "duration": null,
     "end_time": null,
     "exception": null,
     "start_time": null,
     "status": "pending"
    },
    "scrolled": true,
    "tags": []
   },
   "outputs": [],
   "source": [
    "# Plot example time series in a few frequency channels\n",
    "plt.plot(lsts, input_signal[:,50])\n",
    "plt.plot(lsts, input_signal[:,60])\n",
    "\n",
    "plt.plot(lsts, ndiode_signal[:,50])\n",
    "\n",
    "plt.xlabel(\"LST [rad]\", fontsize=16.)\n",
    "plt.ylabel(\"Tobs [K]\", fontsize=16.)\n",
    "plt.gcf().set_size_inches((18., 6.))"
   ]
  },
  {
   "cell_type": "code",
   "execution_count": null,
   "id": "af656513",
   "metadata": {
    "papermill": {
     "duration": null,
     "end_time": null,
     "exception": null,
     "start_time": null,
     "status": "pending"
    },
    "scrolled": true,
    "tags": []
   },
   "outputs": [],
   "source": [
    "n = 400\n",
    "plt.plot(lsts[:n], input_signal[:n,50])\n",
    "plt.plot(lsts[:n], input_signal[:n,120])\n",
    "\n",
    "plt.xlabel(\"LST [rad]\", fontsize=16.)\n",
    "plt.ylabel(\"Tobs [K]\", fontsize=16.)\n",
    "plt.gcf().set_size_inches((18., 6.))"
   ]
  },
  {
   "cell_type": "markdown",
   "id": "4649fbd0",
   "metadata": {
    "papermill": {
     "duration": null,
     "end_time": null,
     "exception": null,
     "start_time": null,
     "status": "pending"
    },
    "tags": []
   },
   "source": [
    "<a id='loads'></a>\n",
    "## Calibration loads"
   ]
  },
  {
   "cell_type": "code",
   "execution_count": null,
   "id": "0af93b03",
   "metadata": {
    "papermill": {
     "duration": null,
     "end_time": null,
     "exception": null,
     "start_time": null,
     "status": "pending"
    },
    "tags": []
   },
   "outputs": [],
   "source": [
    "# Standard loads with freq./time-dependent ripples\n",
    "load1_signal = Tload1 \\\n",
    "             * (1. + chebyshev_model(lsts, load1_time_ncoeffs, load1_time_amp)[:,np.newaxis]) \\\n",
    "             * (1. + chebyshev_model(freqs, load1_freq_ncoeffs, load1_freq_amp)[np.newaxis,:])\n",
    "\n",
    "load2_signal = Tload2 \\\n",
    "             * (1. + chebyshev_model(lsts, load2_time_ncoeffs, load2_time_amp)[:,np.newaxis]) \\\n",
    "             * (1. + chebyshev_model(freqs, load2_freq_ncoeffs, load2_freq_amp)[np.newaxis,:])"
   ]
  },
  {
   "cell_type": "code",
   "execution_count": null,
   "id": "ee4126ee",
   "metadata": {
    "papermill": {
     "duration": null,
     "end_time": null,
     "exception": null,
     "start_time": null,
     "status": "pending"
    },
    "tags": []
   },
   "outputs": [],
   "source": [
    "# Generate thermal noise for calibration loads\n",
    "noise_load1 = noise_realisation(load1_signal + Tinstrument, freqs, dt)\n",
    "noise_load2 = noise_realisation(load2_signal + Tinstrument, freqs, dt)"
   ]
  },
  {
   "cell_type": "code",
   "execution_count": null,
   "id": "9977c590",
   "metadata": {
    "papermill": {
     "duration": null,
     "end_time": null,
     "exception": null,
     "start_time": null,
     "status": "pending"
    },
    "tags": []
   },
   "outputs": [],
   "source": [
    "plt.subplot(121)\n",
    "plt.matshow(load1_signal.T, aspect='auto', fignum=False)\n",
    "plt.colorbar(label=r\"$T_{{\\rm load}~1}$ [K]\")\n",
    "\n",
    "plt.subplot(122)\n",
    "plt.matshow(load2_signal.T, aspect='auto', fignum=False)\n",
    "plt.colorbar(label=r\"$T_{{\\rm load}~2}$ [K]\")\n",
    "\n",
    "plt.gcf().set_size_inches((14., 5.))"
   ]
  },
  {
   "cell_type": "code",
   "execution_count": null,
   "id": "8d2f29f9",
   "metadata": {
    "papermill": {
     "duration": null,
     "end_time": null,
     "exception": null,
     "start_time": null,
     "status": "pending"
    },
    "tags": []
   },
   "outputs": [],
   "source": [
    "# Add noise to calibration load signals\n",
    "load1 = load1_signal + noise_load1\n",
    "load2 = load2_signal + noise_load2"
   ]
  },
  {
   "cell_type": "code",
   "execution_count": null,
   "id": "12ee656c",
   "metadata": {
    "papermill": {
     "duration": null,
     "end_time": null,
     "exception": null,
     "start_time": null,
     "status": "pending"
    },
    "tags": []
   },
   "outputs": [],
   "source": [
    "plt.subplot(121)\n",
    "plt.matshow(load1.T, aspect='auto', fignum=False)\n",
    "plt.colorbar(label=r\"$T_{{\\rm load}~1}$ [K]\")\n",
    "\n",
    "plt.subplot(122)\n",
    "plt.matshow(load2.T, aspect='auto', fignum=False)\n",
    "plt.colorbar(label=r\"$T_{{\\rm load}~2}$ [K]\")\n",
    "\n",
    "plt.gcf().set_size_inches((14., 5.))"
   ]
  },
  {
   "cell_type": "markdown",
   "id": "2407360f",
   "metadata": {
    "papermill": {
     "duration": null,
     "end_time": null,
     "exception": null,
     "start_time": null,
     "status": "pending"
    },
    "tags": []
   },
   "source": [
    "<a id='reflections'></a>\n",
    "## Reflections\n",
    "\n",
    "We use the noise-wave formalism to model the effect of reflections on the measured signal. The model itself is based on Eq. 6 of https://arxiv.org/abs/2011.14052:"
   ]
  },
  {
   "cell_type": "markdown",
   "id": "35301d62",
   "metadata": {
    "papermill": {
     "duration": null,
     "end_time": null,
     "exception": null,
     "start_time": null,
     "status": "pending"
    },
    "tags": []
   },
   "source": [
    "$P_{\\rm src} = g_{\\rm sys} \\left [ T_{\\rm src} (1 - |\\Gamma_{\\rm src}|^2) |\\kappa|^2 + T_{\\rm unc} |\\Gamma_{\\rm src}|^2 |\\kappa|^2 + T_{\\rm cos} {\\rm Re}(\\Gamma_{\\rm src} \\kappa) + T_{\\rm sin} {\\rm Im}(\\Gamma_{\\rm src} \\kappa) + T_0 \\right ]$\n",
    "where\n",
    "$\\kappa = \\frac{\\sqrt{1 - |\\Gamma_{\\rm rec}|^2}}{1 - \\Gamma_{\\rm src}\\Gamma_{\\rm rec}}$."
   ]
  },
  {
   "cell_type": "code",
   "execution_count": null,
   "id": "e08981cf",
   "metadata": {
    "papermill": {
     "duration": null,
     "end_time": null,
     "exception": null,
     "start_time": null,
     "status": "pending"
    },
    "tags": []
   },
   "outputs": [],
   "source": [
    "prefix = prefix+\"_refl\"\n",
    "\n",
    "def apply_noise_wave_params(Tsrc, Gamma_src, Gamma_rec, Tunc, Tcos, Tsin, Toffset):\n",
    "    \"\"\"\n",
    "    Apply the parameters of the noise-wave formalism to an input source temperature.\n",
    "    Units of the T parameters are K. All quantities are expected to have shape \n",
    "    (Ntimes, Nfreqs.)\n",
    "    \n",
    "    See Eq. 6 of https://arxiv.org/abs/2011.14052 for definitions.\n",
    "    \n",
    "    Parameters:\n",
    "        Tsrc (array_like):\n",
    "            True (\"calibrated\") temperature from the input source.\n",
    "        Gamma_src (array_like):\n",
    "            Complex reflection coefficient from the input source.\n",
    "        Gamma_rec (array_like):\n",
    "            Complex reflection coefficient to the receiver.\n",
    "        Tunc (array_like):\n",
    "            Temperature of the uncorrelated part of the reflection.\n",
    "        Tcos (array_like):\n",
    "            Cosine component of the correlated part of the reflection.\n",
    "        Tsin (array_like):\n",
    "            Sine component of the correlated part of the reflection.\n",
    "        Toffset(array_like):\n",
    "            Overall offset temperature in the signal chain.\n",
    "    \n",
    "    Returns:\n",
    "        Prec (array_like):\n",
    "            Observed power after passing through the signal chain.\n",
    "    \"\"\"\n",
    "    # Complex kappa factor\n",
    "    kappa = np.sqrt(1. - np.abs(Gamma_rec)**2.) / (1. - Gamma_src * Gamma_rec)\n",
    "    \n",
    "    # Calculate sum of noise wave effects\n",
    "    Prec = Tsrc * (1. - np.abs(Gamma_src)**2.) * np.abs(kappa)**2. \\\n",
    "         + Tunc * np.abs(Gamma_src)**2. * np.abs(kappa)**2. \\\n",
    "         + Tcos * np.real(Gamma_src * kappa) \\\n",
    "         + Tsin * np.imag(Gamma_src * kappa) \\\n",
    "         + Toffset\n",
    "    return Prec"
   ]
  },
  {
   "cell_type": "code",
   "execution_count": null,
   "id": "899d9ea0",
   "metadata": {
    "papermill": {
     "duration": null,
     "end_time": null,
     "exception": null,
     "start_time": null,
     "status": "pending"
    },
    "tags": []
   },
   "outputs": [],
   "source": [
    "# Gamma is in the range [-1, +1], with 0=no reflection.\n",
    "Gamma_src_re = Gamma_src_re0 \\\n",
    "             * (1. + chebyshev_model(lsts, Gamma_src_time_ncoeffs, Gamma_src_time_amp)[:,np.newaxis]) \\\n",
    "             * (1. + chebyshev_model(freqs, Gamma_src_freq_ncoeffs, Gamma_src_freq_amp)[np.newaxis,:])\n",
    "\n",
    "Gamma_src_im = Gamma_src_im0 \\\n",
    "             * (1. + chebyshev_model(lsts, Gamma_src_time_ncoeffs, Gamma_src_time_amp)[:,np.newaxis]) \\\n",
    "             * (1. + chebyshev_model(freqs, Gamma_src_freq_ncoeffs, Gamma_src_freq_amp)[np.newaxis,:])\n",
    "\n",
    "Gamma_rec_re = Gamma_rec_re0 \\\n",
    "             * (1. + chebyshev_model(lsts, Gamma_rec_time_ncoeffs, Gamma_rec_time_amp)[:,np.newaxis]) \\\n",
    "             * (1. + chebyshev_model(freqs, Gamma_rec_freq_ncoeffs, Gamma_rec_freq_amp)[np.newaxis,:])\n",
    "\n",
    "Gamma_rec_im = Gamma_rec_im0 \\\n",
    "             * (1. + chebyshev_model(lsts, Gamma_rec_time_ncoeffs, Gamma_rec_time_amp)[:,np.newaxis]) \\\n",
    "             * (1. + chebyshev_model(freqs, Gamma_rec_freq_ncoeffs, Gamma_rec_freq_amp)[np.newaxis,:])\n",
    "\n",
    "# Combine into complex quantities\n",
    "Gamma_src = Gamma_src_re + 1.j * Gamma_src_im\n",
    "Gamma_rec = Gamma_rec_re + 1.j * Gamma_rec_im"
   ]
  },
  {
   "cell_type": "code",
   "execution_count": null,
   "id": "9cb1bf92",
   "metadata": {
    "papermill": {
     "duration": null,
     "end_time": null,
     "exception": null,
     "start_time": null,
     "status": "pending"
    },
    "tags": []
   },
   "outputs": [],
   "source": [
    "# Plot noise wave reflection parameters\n",
    "plt.subplot(221)\n",
    "plt.matshow(Gamma_src_re, aspect='auto', fignum=False)\n",
    "plt.colorbar(label=r\"${\\rm Re}(\\Gamma_{\\rm cal})$\")\n",
    "\n",
    "plt.subplot(222)\n",
    "plt.matshow(Gamma_src_im, aspect='auto', fignum=False)\n",
    "plt.colorbar(label=r\"${\\rm Im}(\\Gamma_{\\rm cal})$ [K]\")\n",
    "\n",
    "plt.subplot(223)\n",
    "plt.matshow(Gamma_rec_re, aspect='auto', fignum=False)\n",
    "plt.colorbar(label=r\"${\\rm Re}(\\Gamma_{\\rm rec})$ [K]\")\n",
    "\n",
    "plt.subplot(224)\n",
    "plt.matshow(Gamma_rec_im, aspect='auto', fignum=False)\n",
    "plt.colorbar(label=r\"${\\rm Im}(\\Gamma_{\\rm rec})$ [K]\")\n",
    "\n",
    "plt.gcf().set_size_inches((14., 6.))"
   ]
  },
  {
   "cell_type": "code",
   "execution_count": null,
   "id": "9c645032",
   "metadata": {
    "papermill": {
     "duration": null,
     "end_time": null,
     "exception": null,
     "start_time": null,
     "status": "pending"
    },
    "tags": []
   },
   "outputs": [],
   "source": [
    "# See Sect. 3.1 of https://arxiv.org/abs/2011.14052 for representative numbers\n",
    "T_unc = Tunc0 \\\n",
    "      * (1. + chebyshev_model(lsts, Tunc_time_ncoeffs, Tunc_time_amp)[:,np.newaxis]) \\\n",
    "      * (1. + chebyshev_model(freqs, Tunc_freq_ncoeffs, Tunc_freq_amp)[np.newaxis,:])\n",
    "\n",
    "T_cos = Tcos0 \\\n",
    "      * (1. + chebyshev_model(lsts, Tcos_time_ncoeffs, Tcos_time_amp)[:,np.newaxis]) \\\n",
    "      * (1. + chebyshev_model(freqs, Tcos_freq_ncoeffs, Tcos_freq_amp)[np.newaxis,:])\n",
    "\n",
    "T_sin = Tsin0 \\\n",
    "      * (1. + chebyshev_model(lsts, Tsin_time_ncoeffs, Tsin_time_amp)[:,np.newaxis]) \\\n",
    "      * (1. + chebyshev_model(freqs, Tsin_freq_ncoeffs, Tsin_freq_amp)[np.newaxis,:])\n",
    "\n",
    "T_offset = Toffset0 \\\n",
    "      * (1. + chebyshev_model(lsts, Toffset_time_ncoeffs, Toffset_time_amp)[:,np.newaxis]) \\\n",
    "      * (1. + chebyshev_model(freqs, Toffset_freq_ncoeffs, Toffset_freq_amp)[np.newaxis,:])"
   ]
  },
  {
   "cell_type": "code",
   "execution_count": null,
   "id": "2e2c5157",
   "metadata": {
    "papermill": {
     "duration": null,
     "end_time": null,
     "exception": null,
     "start_time": null,
     "status": "pending"
    },
    "tags": []
   },
   "outputs": [],
   "source": [
    "# Plot noise wave temperature parameters\n",
    "plt.subplot(221)\n",
    "plt.matshow(T_unc, aspect='auto', fignum=False)\n",
    "plt.colorbar(label=r\"$T_{\\rm unc}$ [K]\")\n",
    "\n",
    "plt.subplot(222)\n",
    "plt.matshow(T_offset, aspect='auto', fignum=False)\n",
    "plt.colorbar(label=r\"$T_{\\rm offset}$ [K]\")\n",
    "\n",
    "plt.subplot(223)\n",
    "plt.matshow(T_cos, aspect='auto', fignum=False)\n",
    "plt.colorbar(label=r\"$T_{\\rm cos}$ [K]\")\n",
    "\n",
    "plt.subplot(224)\n",
    "plt.matshow(T_sin, aspect='auto', fignum=False)\n",
    "plt.colorbar(label=r\"$T_{\\rm sin}$ [K]\")\n",
    "\n",
    "plt.gcf().set_size_inches((14., 6.))"
   ]
  },
  {
   "cell_type": "code",
   "execution_count": null,
   "id": "243ee4c9",
   "metadata": {
    "papermill": {
     "duration": null,
     "end_time": null,
     "exception": null,
     "start_time": null,
     "status": "pending"
    },
    "tags": []
   },
   "outputs": [],
   "source": [
    "# Apply noise wave effects to sky signal\n",
    "P_rec = apply_noise_wave_params(Tsrc=input_signal, \n",
    "                                Gamma_src=Gamma_src, \n",
    "                                Gamma_rec=Gamma_rec, \n",
    "                                Tunc=T_unc, \n",
    "                                Tcos=T_cos, \n",
    "                                Tsin=T_sin, \n",
    "                                Toffset=T_offset)"
   ]
  },
  {
   "cell_type": "code",
   "execution_count": null,
   "id": "93777283",
   "metadata": {
    "papermill": {
     "duration": null,
     "end_time": null,
     "exception": null,
     "start_time": null,
     "status": "pending"
    },
    "tags": []
   },
   "outputs": [],
   "source": [
    "# Plot input data before and after application of noise wave effects\n",
    "plt.subplot(221)\n",
    "plt.matshow(input_signal.T, aspect='auto', fignum=False)\n",
    "plt.colorbar()\n",
    "\n",
    "plt.subplot(222)\n",
    "plt.matshow(P_rec.T, aspect='auto', fignum=False)\n",
    "plt.colorbar()\n",
    "\n",
    "plt.subplot(223)\n",
    "plt.plot(freqs, input_signal.T[:,10])\n",
    "plt.plot(freqs, P_rec.T[:,10])\n",
    "plt.colorbar()\n",
    "\n",
    "plt.subplot(224)\n",
    "plt.plot(lsts, input_signal.T[10,:], alpha=0.5)\n",
    "plt.plot(lsts, P_rec.T[10,:], alpha=0.5)\n",
    "plt.colorbar()\n",
    "\n",
    "plt.gcf().set_size_inches((16., 8.))"
   ]
  },
  {
   "cell_type": "code",
   "execution_count": null,
   "id": "81c4f324",
   "metadata": {
    "papermill": {
     "duration": null,
     "end_time": null,
     "exception": null,
     "start_time": null,
     "status": "pending"
    },
    "tags": []
   },
   "outputs": [],
   "source": [
    "# Complex kappa factor\n",
    "kappa = np.sqrt(1. - np.abs(Gamma_rec)**2.) / (1. - Gamma_src * Gamma_rec)\n",
    "\n",
    "# Calculate sum of noise wave effects\n",
    "plt.matshow((((1. - np.abs(Gamma_src)**2.) * np.abs(kappa)**2.).T - 1.)*393., aspect='auto')\n",
    "plt.colorbar()"
   ]
  },
  {
   "cell_type": "code",
   "execution_count": null,
   "id": "a2d098dd",
   "metadata": {
    "papermill": {
     "duration": null,
     "end_time": null,
     "exception": null,
     "start_time": null,
     "status": "pending"
    },
    "tags": []
   },
   "outputs": [],
   "source": [
    "# Apply relevant noise-wave prefactor to data and noise diode on their own \n",
    "# (so they can be added together if needed)\n",
    "kappa = np.sqrt(1. - np.abs(Gamma_rec)**2.) / (1. - Gamma_src * Gamma_rec)\n",
    "\n",
    "# Sky signal + noise + other reflections\n",
    "P_rec_nodiode = apply_noise_wave_params(Tsrc=sky_signal + noise, \n",
    "                                        Gamma_src=Gamma_src, \n",
    "                                        Gamma_rec=Gamma_rec, \n",
    "                                        Tunc=T_unc, \n",
    "                                        Tcos=T_cos, \n",
    "                                        Tsin=T_sin, \n",
    "                                        Toffset=T_offset)\n",
    "\n",
    "# Only the noise diode part\n",
    "P_ndiode = ndiode_alwayson * (1. - np.abs(Gamma_src)**2.) * np.abs(kappa)**2."
   ]
  },
  {
   "cell_type": "code",
   "execution_count": null,
   "id": "629fe61d",
   "metadata": {
    "papermill": {
     "duration": null,
     "end_time": null,
     "exception": null,
     "start_time": null,
     "status": "pending"
    },
    "tags": []
   },
   "outputs": [],
   "source": [
    "# Apply noise wave effects to calibration loads\n",
    "# NOTE: We use the approximation that the loads have minimal reflections, \n",
    "# so that Gamma_src = 0. We also assume that Gamma_rec is the same as \n",
    "# when the antenna is the source.\n",
    "# FIXME: T_offset can be different\n",
    "P_load1 = apply_noise_wave_params(Tsrc=load1, \n",
    "                                  Gamma_src=0., \n",
    "                                  Gamma_rec=Gamma_rec, \n",
    "                                  Tunc=0., \n",
    "                                  Tcos=0., \n",
    "                                  Tsin=0., \n",
    "                                  Toffset=T_offset)\n",
    "\n",
    "P_load2 = apply_noise_wave_params(Tsrc=load2, \n",
    "                                  Gamma_src=0., \n",
    "                                  Gamma_rec=Gamma_rec, \n",
    "                                  Tunc=0., \n",
    "                                  Tcos=0., \n",
    "                                  Tsin=0., \n",
    "                                  Toffset=T_offset)"
   ]
  },
  {
   "cell_type": "code",
   "execution_count": null,
   "id": "06cc8950",
   "metadata": {
    "papermill": {
     "duration": null,
     "end_time": null,
     "exception": null,
     "start_time": null,
     "status": "pending"
    },
    "tags": []
   },
   "outputs": [],
   "source": [
    "# Plot calibrator load 1 before and after application of noise wave effects\n",
    "plt.subplot(221)\n",
    "plt.matshow(load1.T, aspect='auto', fignum=False)\n",
    "plt.colorbar()\n",
    "\n",
    "plt.subplot(222)\n",
    "plt.matshow(P_load1.T, aspect='auto', fignum=False)\n",
    "plt.colorbar()\n",
    "\n",
    "plt.subplot(223)\n",
    "plt.plot(freqs, load1.T[:,10])\n",
    "plt.plot(freqs, P_load1.T[:,10])\n",
    "plt.colorbar()\n",
    "\n",
    "plt.subplot(224)\n",
    "plt.plot(lsts, load1.T[10,:], alpha=0.5)\n",
    "plt.plot(lsts, P_load1.T[10,:], alpha=0.5)\n",
    "plt.colorbar()\n",
    "\n",
    "plt.gcf().set_size_inches((16., 8.))"
   ]
  },
  {
   "cell_type": "markdown",
   "id": "0446769b",
   "metadata": {
    "papermill": {
     "duration": null,
     "end_time": null,
     "exception": null,
     "start_time": null,
     "status": "pending"
    },
    "tags": []
   },
   "source": [
    "<a id='apply-gains'></a>\n",
    "## Applying gains"
   ]
  },
  {
   "cell_type": "code",
   "execution_count": null,
   "id": "71d1b3b8",
   "metadata": {
    "papermill": {
     "duration": null,
     "end_time": null,
     "exception": null,
     "start_time": null,
     "status": "pending"
    },
    "tags": []
   },
   "outputs": [],
   "source": [
    "# Combined gain factor\n",
    "gain = bandpass[np.newaxis,:] * gain_corr[:,np.newaxis]\n",
    "\n",
    "# Plot overall gain\n",
    "plt.matshow(gain.real.T, aspect='auto')\n",
    "plt.colorbar()"
   ]
  },
  {
   "cell_type": "code",
   "execution_count": null,
   "id": "08d3686b",
   "metadata": {
    "papermill": {
     "duration": null,
     "end_time": null,
     "exception": null,
     "start_time": null,
     "status": "pending"
    },
    "tags": []
   },
   "outputs": [],
   "source": [
    "# Modulate by receiver gain\n",
    "data = P_rec * gain\n",
    "data_load1 = P_load1 * gain\n",
    "data_load2 = P_load2 * gain\n",
    "\n",
    "data_nodiode = P_rec_nodiode * gain\n",
    "data_diode = P_ndiode * gain"
   ]
  },
  {
   "cell_type": "code",
   "execution_count": null,
   "id": "d7c74ad7",
   "metadata": {
    "papermill": {
     "duration": null,
     "end_time": null,
     "exception": null,
     "start_time": null,
     "status": "pending"
    },
    "tags": []
   },
   "outputs": [],
   "source": [
    "# Plot data after modulation by gains\n",
    "plt.subplot(511)\n",
    "plt.matshow(data.T, aspect='auto', fignum=False)\n",
    "plt.colorbar(label=\"Recv. power (uncalib.)\")\n",
    "\n",
    "plt.subplot(512)\n",
    "plt.matshow(data_nodiode.T, aspect='auto', fignum=False)\n",
    "plt.colorbar(label=\"Recv. power, no diode (uncalib.)\")\n",
    "\n",
    "plt.subplot(513)\n",
    "plt.matshow(data_diode.T, aspect='auto', fignum=False)\n",
    "plt.colorbar(label=\"Diode power (uncalib.)\")\n",
    "\n",
    "plt.subplot(514)\n",
    "plt.matshow(data_load1.T, aspect='auto', fignum=False)\n",
    "plt.colorbar(label=\"Load 1 power (uncalib.)\")\n",
    "\n",
    "plt.subplot(515)\n",
    "plt.matshow(data_load2.T, aspect='auto', fignum=False)\n",
    "plt.colorbar(label=\"Load 2 power (uncalib.)\")\n",
    "\n",
    "plt.gcf().set_size_inches((20., 15.))"
   ]
  },
  {
   "cell_type": "markdown",
   "id": "0c5871cd",
   "metadata": {
    "papermill": {
     "duration": null,
     "end_time": null,
     "exception": null,
     "start_time": null,
     "status": "pending"
    },
    "tags": []
   },
   "source": [
    "<a id='save-data'></a>\n",
    "## Save data"
   ]
  },
  {
   "cell_type": "code",
   "execution_count": null,
   "id": "f13e1332",
   "metadata": {
    "papermill": {
     "duration": null,
     "end_time": null,
     "exception": null,
     "start_time": null,
     "status": "pending"
    },
    "tags": []
   },
   "outputs": [],
   "source": [
    "# Save data\n",
    "with h5py.File(\"%s.uvh5\" % prefix, 'w') as f:\n",
    "    \n",
    "    # Store data array\n",
    "    dset_d = f.create_dataset(\"data\", data=data)\n",
    "    dset_d.attrs['units'] = 'K'\n",
    "    dset_d.attrs['obstime'] = str(obstime.iso)\n",
    "    dset_d.attrs['location'] = str(location)\n",
    "    dset_d.attrs['site_lat_deg'] = site_lat\n",
    "    dset_d.attrs['site_lon_deg'] = site_lon\n",
    "    dset_d.attrs['site_height_m'] = site_height\n",
    "    \n",
    "    # Store sky power (with reflection) and noise diode (with \n",
    "    # reflection prefactor) separately\n",
    "    dset_d_nodiode = f.create_dataset(\"data_nodiode\", data=data_nodiode)\n",
    "    dset_diode = f.create_dataset(\"data_onlydiode\", data=data_diode)\n",
    "    \n",
    "    # Store separate calibration load arrays\n",
    "    dset_dload1 = f.create_dataset(\"data_load1\", data=data_load1)\n",
    "    dset_dload2 = f.create_dataset(\"data_load2\", data=data_load2)\n",
    "    \n",
    "    # Store noise diode mask\n",
    "    dset_nd = f.create_dataset(\"ndiode_mask\", data=ndiode_mask)\n",
    "    dset_nd.attrs['Tdiode_Kelvin'] = Tdiode\n",
    "    \n",
    "    # Store reflection coefficients\n",
    "    dset_Gamma_rec = f.create_dataset(\"data_Gamma_rec\", data=Gamma_rec)\n",
    "    dset_Gamma_src = f.create_dataset(\"data_Gamma_src\", data=Gamma_src)\n",
    "    \n",
    "    # Frequency, time, LST arrays\n",
    "    dset_f = f.create_dataset(\"freqs\", data=freqs)\n",
    "    dset_f.attrs['units'] = 'MHz'\n",
    "    \n",
    "    dset_t = f.create_dataset(\"times\", data=times)\n",
    "    dset_t.attrs['units'] = 's'\n",
    "    \n",
    "    dset_l = f.create_dataset(\"lsts\", data=lsts)\n",
    "    dset_l.attrs['units'] = 'rad'\n",
    "    \n",
    "print(\"Saved to %s.uvh5\" % prefix)"
   ]
  },
  {
   "cell_type": "code",
   "execution_count": null,
   "id": "65e2cf70",
   "metadata": {
    "papermill": {
     "duration": null,
     "end_time": null,
     "exception": null,
     "start_time": null,
     "status": "pending"
    },
    "tags": []
   },
   "outputs": [],
   "source": [
    "# Save individual components of simulation\n",
    "with h5py.File(\"%s.sim.hdf5\" % prefix, 'w') as f:\n",
    "    \n",
    "    # Frequency, time, LST arrays\n",
    "    dset_f = f.create_dataset(\"freqs\", data=freqs)\n",
    "    dset_f.attrs['units'] = 'MHz'\n",
    "    dset_t = f.create_dataset(\"times\", data=times)\n",
    "    dset_t.attrs['units'] = 's'\n",
    "    dset_l = f.create_dataset(\"lsts\", data=lsts)\n",
    "    dset_l.attrs['units'] = 'rad'\n",
    "    \n",
    "    # Store data array\n",
    "    dset_d = f.create_dataset(\"data\", data=data)\n",
    "    dset_d.attrs['units'] = 'K'\n",
    "    dset_d.attrs['obstime'] = str(obstime.iso)\n",
    "    dset_d.attrs['location'] = str(location)\n",
    "    dset_d.attrs['site_lat_deg'] = site_lat\n",
    "    dset_d.attrs['site_lon_deg'] = site_lon\n",
    "    dset_d.attrs['site_height_m'] = site_height\n",
    "    dset_d.attrs['random_seed'] = random_seed\n",
    "    \n",
    "    # Store calibration load arrays\n",
    "    dset_dload1 = f.create_dataset(\"load1\", data=data_load1)\n",
    "    dset_dload2 = f.create_dataset(\"load2\", data=data_load2)\n",
    "    \n",
    "    # Temperature: Diffuse\n",
    "    dset_diffuse = f.create_dataset(\"Tdiffuse\", data=d_diffuse)\n",
    "    dset_diffuse.attrs['units'] = 'K'\n",
    "    \n",
    "    # Temperature: Point sources\n",
    "    dset_ptsrc = f.create_dataset(\"Tptsrc\", data=ptsrc_vis)\n",
    "    dset_ptsrc.attrs['units'] = 'K'\n",
    "    \n",
    "    # Temperature: 21cm brightness temperature\n",
    "    dset_tb = f.create_dataset(\"Tb21\", data=Tb)\n",
    "    dset_tb.attrs['units'] = 'K'\n",
    "    \n",
    "    # Input sky + diode data\n",
    "    dset_input = f.create_dataset(\"input_signal\", data=input_signal)\n",
    "    \n",
    "    # Point source catalogue\n",
    "    dset_ps_ra = f.create_dataset(\"ptsrc_ra\", data=ptsrc_ra)\n",
    "    dset_ps_ra.attrs['units'] = 'deg'\n",
    "    dset_ps_dec = f.create_dataset(\"ptsrc_dec\", data=ptsrc_dec)\n",
    "    dset_ps_dec.attrs['units'] = 'deg'\n",
    "    dset_ps_flux0 = f.create_dataset(\"ptsrc_flux0\", data=ptsrc_flux0)\n",
    "    dset_ps_flux0.attrs['units'] = 'Jy'\n",
    "    dset_ps_flux0.attrs['ref_freq_MHz'] = 100.\n",
    "    dset_ps_beta = f.create_dataset(\"ptsrc_beta\", data=ptsrc_beta)\n",
    "    \n",
    "    # Beam\n",
    "    dset_beam = f.create_dataset(\"beam\", data=beam)\n",
    "    dset_beam.attrs['type'] = beams[0].type\n",
    "    dset_beam_az = f.create_dataset(\"beam_az\", data=az)\n",
    "    dset_beam_az.attrs['units'] = 'deg'\n",
    "    dset_beam_za = f.create_dataset(\"beam_za\", data=za)\n",
    "    dset_beam_za.attrs['units'] = 'deg'\n",
    "    \n",
    "    # Bandpass\n",
    "    dset_bandpass = f.create_dataset(\"bandpass\", data=bandpass)\n",
    "    dset_bandpass.attrs['bandpass_ncoeffs'] = bandpass_ncoeffs\n",
    "    dset_bandpass.attrs['bandpass_ripple_factor'] = bandpass_ripple_factor\n",
    "    dset_bandpass.attrs['bandpass_rolloff_scale_low'] = bandpass_rolloff_scale_low\n",
    "    dset_bandpass.attrs['bandpass_rolloff_scale_high'] = bandpass_rolloff_scale_high\n",
    "    \n",
    "    # Time-dep. gains\n",
    "    dset_gain_corr = f.create_dataset(\"gain_corr\", data=gain_corr)\n",
    "    dset_gain_corr.attrs['gain_corr_beta'] = gain_corr_beta\n",
    "    dset_gain_corr.attrs['gain_corr_scale'] = gain_corr_scale\n",
    "    dset_gain_corr.attrs['gain_corr_fknee'] = fknee\n",
    "    \n",
    "    # Noise diode data\n",
    "    dset_nd = f.create_dataset(\"ndiode_signal\", data=ndiode_signal)\n",
    "    dset_nd.attrs['Tdiode_Kelvin'] = Tdiode\n",
    "    dset_nd.attrs['ndiode_ripple_factor'] = ndiode_ripple_factor\n",
    "    dset_nd.attrs['ndiode_cadence'] = ndiode_cadence\n",
    "    dset_nd.attrs['ndiode_duration'] = ndiode_duration\n",
    "    dset_nd.attrs['ndiode_gain'] = ndiode_gain\n",
    "    #dset_ndbp = f.create_dataset(\"ndiode_bandpass_coeffs\", data=ndiode_bandpass_coeffs)\n",
    "    dset_nds = f.create_dataset(\"ndiode_shape\", data=ndiode_shape)\n",
    "    dset_nds.attrs['ndiode_bandpass_ripple_factor'] = ndiode_bandpass_ripple_factor\n",
    "    #dset_ndc = f.create_dataset(\"ndiode_coeffs\", data=ndiode_coeffs)\n",
    "    \n",
    "    # Calibration loads\n",
    "    dset_load1 = f.create_dataset(\"load1_signal\", data=load1_signal)\n",
    "    dset_load1.attrs['Tload1_Kelvin'] = Tload1\n",
    "    dset_load1.attrs['load1_time_ncoeffs'] = load1_time_ncoeffs\n",
    "    dset_load1.attrs['load1_freq_ncoeffs'] = load1_freq_ncoeffs\n",
    "    dset_load1.attrs['load1_time_amp'] = load1_time_amp\n",
    "    dset_load1.attrs['load1_freq_amp'] = load1_freq_amp\n",
    "    \n",
    "    dset_load2 = f.create_dataset(\"load2_signal\", data=load2_signal)\n",
    "    dset_load2.attrs['Tload2_Kelvin'] = Tload2\n",
    "    dset_load2.attrs['load2_time_ncoeffs'] = load2_time_ncoeffs\n",
    "    dset_load2.attrs['load2_freq_ncoeffs'] = load2_freq_ncoeffs\n",
    "    dset_load2.attrs['load2_time_amp'] = load2_time_amp\n",
    "    dset_load2.attrs['load2_freq_amp'] = load2_freq_amp\n",
    "    \n",
    "    # Calibration loads after reflections and noise added\n",
    "    dset_Pload1 = f.create_dataset(\"Pload1\", data=P_load1)\n",
    "    dset_Pload2 = f.create_dataset(\"Pload2\", data=P_load2)\n",
    "    \n",
    "    # Reflection coefficients\n",
    "    dset_refl_Gamma_src = f.create_dataset(\"Gamma_src\", data=Gamma_src)\n",
    "    dset_refl_Gamma_src.attrs['Gamma_src_re0'] = Gamma_src_re0\n",
    "    dset_refl_Gamma_src.attrs['Gamma_src_im0'] = Gamma_src_im0\n",
    "    dset_refl_Gamma_src.attrs['Gamma_src_time_ncoeffs'] = Gamma_src_time_ncoeffs\n",
    "    dset_refl_Gamma_src.attrs['Gamma_src_freq_ncoeffs'] = Gamma_src_freq_ncoeffs\n",
    "    dset_refl_Gamma_src.attrs['Gamma_src_time_amp'] = Gamma_src_time_amp\n",
    "    dset_refl_Gamma_src.attrs['Gamma_src_freq_amp'] = Gamma_src_freq_amp\n",
    "    \n",
    "    dset_refl_Gamma_rec = f.create_dataset(\"Gamma_rec\", data=Gamma_rec)\n",
    "    dset_refl_Gamma_rec.attrs['Gamma_rec_re0'] = Gamma_rec_re0\n",
    "    dset_refl_Gamma_rec.attrs['Gamma_rec_im0'] = Gamma_rec_im0\n",
    "    dset_refl_Gamma_rec.attrs['Gamma_rec_time_ncoeffs'] = Gamma_rec_time_ncoeffs\n",
    "    dset_refl_Gamma_rec.attrs['Gamma_rec_freq_ncoeffs'] = Gamma_rec_freq_ncoeffs\n",
    "    dset_refl_Gamma_rec.attrs['Gamma_rec_time_amp'] = Gamma_rec_time_amp\n",
    "    dset_refl_Gamma_rec.attrs['Gamma_rec_freq_amp'] = Gamma_rec_freq_amp\n",
    "    \n",
    "    # Noise-wave temperature coefficients\n",
    "    dset_refl_Tunc = f.create_dataset(\"noisewave_Tunc\", data=T_unc)\n",
    "    dset_refl_Tunc.attrs['Tunc0_Kelvin'] = Tunc0\n",
    "    dset_refl_Tunc.attrs['Tunc_time_ncoeffs'] = Tunc_time_ncoeffs\n",
    "    dset_refl_Tunc.attrs['Tunc_freq_ncoeffs'] = Tunc_freq_ncoeffs\n",
    "    dset_refl_Tunc.attrs['Tunc_time_amp'] = Tunc_time_amp\n",
    "    dset_refl_Tunc.attrs['Tunc_freq_amp'] = Tunc_freq_amp\n",
    "    \n",
    "    dset_refl_Tcos = f.create_dataset(\"noisewave_Tcos\", data=T_unc)\n",
    "    dset_refl_Tcos.attrs['Tcos0_Kelvin'] = Tcos0\n",
    "    dset_refl_Tcos.attrs['Tcos_time_ncoeffs'] = Tcos_time_ncoeffs\n",
    "    dset_refl_Tcos.attrs['Tcos_freq_ncoeffs'] = Tcos_freq_ncoeffs\n",
    "    dset_refl_Tcos.attrs['Tcos_time_amp'] = Tcos_time_amp\n",
    "    dset_refl_Tcos.attrs['Tcos_freq_amp'] = Tcos_freq_amp\n",
    "    \n",
    "    dset_refl_Tsin = f.create_dataset(\"noisewave_Tsin\", data=T_sin)\n",
    "    dset_refl_Tsin.attrs['Tsin0_Kelvin'] = Tsin0\n",
    "    dset_refl_Tsin.attrs['Tsin_time_ncoeffs'] = Tsin_time_ncoeffs\n",
    "    dset_refl_Tsin.attrs['Tsin_freq_ncoeffs'] = Tsin_freq_ncoeffs\n",
    "    dset_refl_Tsin.attrs['Tsin_time_amp'] = Tsin_time_amp\n",
    "    dset_refl_Tsin.attrs['Tsin_freq_amp'] = Tsin_freq_amp\n",
    "    \n",
    "    dset_refl_Toffset = f.create_dataset(\"noisewave_Toffset\", data=T_offset)\n",
    "    dset_refl_Toffset.attrs['Toffset0_Kelvin'] = Toffset0\n",
    "    dset_refl_Toffset.attrs['Toffset_time_ncoeffs'] = Toffset_time_ncoeffs\n",
    "    dset_refl_Toffset.attrs['Toffset_freq_ncoeffs'] = Toffset_freq_ncoeffs\n",
    "    dset_refl_Toffset.attrs['Toffset_time_amp'] = Toffset_time_amp\n",
    "    dset_refl_Toffset.attrs['Toffset_freq_amp'] = Toffset_freq_amp\n",
    "    \n",
    "print(\"Saved to %s.sim.hdf5\" % prefix)"
   ]
  },
  {
   "cell_type": "code",
   "execution_count": null,
   "id": "51cdc69c",
   "metadata": {
    "papermill": {
     "duration": null,
     "end_time": null,
     "exception": null,
     "start_time": null,
     "status": "pending"
    },
    "tags": []
   },
   "outputs": [],
   "source": [
    "ls -lh *.hdf5"
   ]
  },
  {
   "cell_type": "markdown",
   "id": "3045382b",
   "metadata": {
    "papermill": {
     "duration": null,
     "end_time": null,
     "exception": null,
     "start_time": null,
     "status": "pending"
    },
    "tags": []
   },
   "source": [
    "### More complicated beam"
   ]
  }
 ],
 "metadata": {
  "kernelspec": {
   "display_name": "frf_paper",
   "language": "python",
   "name": "frf_paper"
  },
  "language_info": {
   "codemirror_mode": {
    "name": "ipython",
    "version": 3
   },
   "file_extension": ".py",
   "mimetype": "text/x-python",
   "name": "python",
   "nbconvert_exporter": "python",
   "pygments_lexer": "ipython3",
   "version": "3.10.9"
  },
  "papermill": {
   "default_parameters": {},
   "duration": 17.398455,
   "end_time": "2024-01-26T19:57:37.306928",
   "environment_variables": {},
   "exception": true,
   "input_path": "vivaldi_sim.ipynb",
   "output_path": "vivaldi_sim_out.ipynb",
   "parameters": {},
   "start_time": "2024-01-26T19:57:19.908473",
   "version": "2.4.0"
  }
 },
 "nbformat": 4,
 "nbformat_minor": 5
}