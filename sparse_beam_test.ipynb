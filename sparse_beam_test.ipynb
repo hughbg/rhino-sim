{
 "cells": [
  {
   "cell_type": "code",
   "execution_count": 1,
   "id": "e4fddfb4-9ba4-4e02-960e-8b4ef9d8f4b4",
   "metadata": {
    "papermill": {
     "duration": 33.641287,
     "end_time": "2024-02-21T21:36:53.263971",
     "exception": false,
     "start_time": "2024-02-21T21:36:19.622684",
     "status": "completed"
    },
    "tags": []
   },
   "outputs": [],
   "source": [
    "import numpy as np\n",
    "from sparse_beam import sparse_beam\n",
    "from pyuvdata import UVBeam\n",
    "import time\n",
    "import matplotlib.pyplot as plt\n",
    "from matplotlib.colors import LogNorm"
   ]
  },
  {
   "attachments": {},
   "cell_type": "markdown",
   "id": "2066d12e-41d1-450c-b169-bb90aa314806",
   "metadata": {
    "papermill": {
     "duration": 0.013476,
     "end_time": "2024-02-21T21:36:53.313601",
     "exception": false,
     "start_time": "2024-02-21T21:36:53.300125",
     "status": "completed"
    },
    "tags": []
   },
   "source": [
    "### Call interp \n",
    "\n",
    "Use lots of source positions. There'll be a memory limit here. I'm just selecting 1 frequency."
   ]
  },
  {
   "cell_type": "code",
   "execution_count": 4,
   "id": "9f6652bc-809e-49ff-961f-454062510218",
   "metadata": {
    "papermill": {
     "duration": 0.608808,
     "end_time": "2024-02-21T21:36:53.942893",
     "exception": false,
     "start_time": "2024-02-21T21:36:53.334085",
     "status": "completed"
    },
    "tags": []
   },
   "outputs": [
    {
     "name": "stdout",
     "output_type": "stream",
     "text": [
      "10 38 [[5.00e+07 5.10e+07 5.20e+07 5.30e+07 5.40e+07 5.50e+07 5.60e+07 5.70e+07\n",
      "  5.80e+07 5.90e+07 6.00e+07 6.10e+07 6.20e+07 6.30e+07 6.40e+07 6.50e+07\n",
      "  6.60e+07 6.70e+07 6.80e+07 6.90e+07 7.00e+07 7.10e+07 7.20e+07 7.30e+07\n",
      "  7.40e+07 7.50e+07 7.60e+07 7.70e+07 7.80e+07 7.90e+07 8.00e+07 8.10e+07\n",
      "  8.20e+07 8.30e+07 8.40e+07 8.50e+07 8.60e+07 8.70e+07 8.80e+07 8.90e+07\n",
      "  9.00e+07 9.10e+07 9.20e+07 9.30e+07 9.40e+07 9.50e+07 9.60e+07 9.70e+07\n",
      "  9.80e+07 9.90e+07 1.00e+08 1.01e+08 1.02e+08 1.03e+08 1.04e+08 1.05e+08\n",
      "  1.06e+08 1.07e+08 1.08e+08 1.09e+08 1.10e+08 1.11e+08 1.12e+08 1.13e+08\n",
      "  1.14e+08 1.15e+08 1.16e+08 1.17e+08 1.18e+08 1.19e+08 1.20e+08 1.21e+08\n",
      "  1.22e+08 1.23e+08 1.24e+08 1.25e+08 1.26e+08 1.27e+08 1.28e+08 1.29e+08\n",
      "  1.30e+08 1.31e+08 1.32e+08 1.33e+08 1.34e+08 1.35e+08 1.36e+08 1.37e+08\n",
      "  1.38e+08 1.39e+08 1.40e+08 1.41e+08 1.42e+08 1.43e+08 1.44e+08 1.45e+08\n",
      "  1.46e+08 1.47e+08 1.48e+08 1.49e+08 1.50e+08 1.51e+08 1.52e+08 1.53e+08\n",
      "  1.54e+08 1.55e+08 1.56e+08 1.57e+08 1.58e+08 1.59e+08 1.60e+08 1.61e+08\n",
      "  1.62e+08 1.63e+08 1.64e+08 1.65e+08 1.66e+08 1.67e+08 1.68e+08 1.69e+08\n",
      "  1.70e+08 1.71e+08 1.72e+08 1.73e+08 1.74e+08 1.75e+08 1.76e+08 1.77e+08\n",
      "  1.78e+08 1.79e+08 1.80e+08 1.81e+08 1.82e+08 1.83e+08 1.84e+08 1.85e+08\n",
      "  1.86e+08 1.87e+08 1.88e+08 1.89e+08 1.90e+08 1.91e+08 1.92e+08 1.93e+08\n",
      "  1.94e+08 1.95e+08 1.96e+08 1.97e+08 1.98e+08 1.99e+08 2.00e+08 2.01e+08\n",
      "  2.02e+08 2.03e+08 2.04e+08 2.05e+08 2.06e+08 2.07e+08 2.08e+08 2.09e+08\n",
      "  2.10e+08 2.11e+08 2.12e+08 2.13e+08 2.14e+08 2.15e+08 2.16e+08 2.17e+08\n",
      "  2.18e+08 2.19e+08 2.20e+08 2.21e+08 2.22e+08 2.23e+08 2.24e+08 2.25e+08\n",
      "  2.26e+08 2.27e+08 2.28e+08 2.29e+08 2.30e+08 2.31e+08 2.32e+08 2.33e+08\n",
      "  2.34e+08 2.35e+08 2.36e+08 2.37e+08 2.38e+08 2.39e+08 2.40e+08 2.41e+08\n",
      "  2.42e+08 2.43e+08 2.44e+08 2.45e+08 2.46e+08 2.47e+08 2.48e+08 2.49e+08\n",
      "  2.50e+08]] [60000000. 61000000. 62000000. 63000000. 64000000. 65000000. 66000000.\n",
      " 67000000. 68000000. 69000000. 70000000. 71000000. 72000000. 73000000.\n",
      " 74000000. 75000000. 76000000. 77000000. 78000000. 79000000. 80000000.\n",
      " 81000000. 82000000. 83000000. 84000000. 85000000. 86000000. 87000000.\n",
      " 88000000.]\n",
      "(1, 1, 2, 29, 1)\n"
     ]
    }
   ],
   "source": [
    "sb = sparse_beam(\"NF_HERA_Vivaldi_power_beam.fits\", 10, np.arange(10, dtype=int))\n",
    "vals = sb.interp(az_array=np.array([0]), za_array=np.array([0]), freq_array=[6e7, 7e7, 8.8e7])[0]\n",
    "sb.interp(freq_array=np.array([0]), new_object=True, run_check=False)\n",
    "print(vals.shape)"
   ]
  },
  {
   "cell_type": "code",
   "execution_count": 3,
   "id": "d84fcab3-f629-4858-831e-54af510e7a8f",
   "metadata": {
    "papermill": {
     "duration": 0.225894,
     "end_time": "2024-02-21T21:36:54.178974",
     "exception": false,
     "start_time": "2024-02-21T21:36:53.953080",
     "status": "completed"
    },
    "tags": []
   },
   "outputs": [
    {
     "name": "stdout",
     "output_type": "stream",
     "text": [
      "10 10 [[5.00e+07 5.10e+07 5.20e+07 5.30e+07 5.40e+07 5.50e+07 5.60e+07 5.70e+07\n",
      "  5.80e+07 5.90e+07 6.00e+07 6.10e+07 6.20e+07 6.30e+07 6.40e+07 6.50e+07\n",
      "  6.60e+07 6.70e+07 6.80e+07 6.90e+07 7.00e+07 7.10e+07 7.20e+07 7.30e+07\n",
      "  7.40e+07 7.50e+07 7.60e+07 7.70e+07 7.80e+07 7.90e+07 8.00e+07 8.10e+07\n",
      "  8.20e+07 8.30e+07 8.40e+07 8.50e+07 8.60e+07 8.70e+07 8.80e+07 8.90e+07\n",
      "  9.00e+07 9.10e+07 9.20e+07 9.30e+07 9.40e+07 9.50e+07 9.60e+07 9.70e+07\n",
      "  9.80e+07 9.90e+07 1.00e+08 1.01e+08 1.02e+08 1.03e+08 1.04e+08 1.05e+08\n",
      "  1.06e+08 1.07e+08 1.08e+08 1.09e+08 1.10e+08 1.11e+08 1.12e+08 1.13e+08\n",
      "  1.14e+08 1.15e+08 1.16e+08 1.17e+08 1.18e+08 1.19e+08 1.20e+08 1.21e+08\n",
      "  1.22e+08 1.23e+08 1.24e+08 1.25e+08 1.26e+08 1.27e+08 1.28e+08 1.29e+08\n",
      "  1.30e+08 1.31e+08 1.32e+08 1.33e+08 1.34e+08 1.35e+08 1.36e+08 1.37e+08\n",
      "  1.38e+08 1.39e+08 1.40e+08 1.41e+08 1.42e+08 1.43e+08 1.44e+08 1.45e+08\n",
      "  1.46e+08 1.47e+08 1.48e+08 1.49e+08 1.50e+08 1.51e+08 1.52e+08 1.53e+08\n",
      "  1.54e+08 1.55e+08 1.56e+08 1.57e+08 1.58e+08 1.59e+08 1.60e+08 1.61e+08\n",
      "  1.62e+08 1.63e+08 1.64e+08 1.65e+08 1.66e+08 1.67e+08 1.68e+08 1.69e+08\n",
      "  1.70e+08 1.71e+08 1.72e+08 1.73e+08 1.74e+08 1.75e+08 1.76e+08 1.77e+08\n",
      "  1.78e+08 1.79e+08 1.80e+08 1.81e+08 1.82e+08 1.83e+08 1.84e+08 1.85e+08\n",
      "  1.86e+08 1.87e+08 1.88e+08 1.89e+08 1.90e+08 1.91e+08 1.92e+08 1.93e+08\n",
      "  1.94e+08 1.95e+08 1.96e+08 1.97e+08 1.98e+08 1.99e+08 2.00e+08 2.01e+08\n",
      "  2.02e+08 2.03e+08 2.04e+08 2.05e+08 2.06e+08 2.07e+08 2.08e+08 2.09e+08\n",
      "  2.10e+08 2.11e+08 2.12e+08 2.13e+08 2.14e+08 2.15e+08 2.16e+08 2.17e+08\n",
      "  2.18e+08 2.19e+08 2.20e+08 2.21e+08 2.22e+08 2.23e+08 2.24e+08 2.25e+08\n",
      "  2.26e+08 2.27e+08 2.28e+08 2.29e+08 2.30e+08 2.31e+08 2.32e+08 2.33e+08\n",
      "  2.34e+08 2.35e+08 2.36e+08 2.37e+08 2.38e+08 2.39e+08 2.40e+08 2.41e+08\n",
      "  2.42e+08 2.43e+08 2.44e+08 2.45e+08 2.46e+08 2.47e+08 2.48e+08 2.49e+08\n",
      "  2.50e+08]] [60000000.]\n",
      "(1, 1, 2, 1, 20000)\n"
     ]
    },
    {
     "ename": "AssertionError",
     "evalue": "",
     "output_type": "error",
     "traceback": [
      "\u001b[0;31m---------------------------------------------------------------------------\u001b[0m",
      "\u001b[0;31mAssertionError\u001b[0m                            Traceback (most recent call last)",
      "Cell \u001b[0;32mIn[3], line 6\u001b[0m\n\u001b[1;32m      4\u001b[0m vals \u001b[38;5;241m=\u001b[39m sb\u001b[38;5;241m.\u001b[39minterp(az_array\u001b[38;5;241m=\u001b[39maz, za_array\u001b[38;5;241m=\u001b[39mza, freq_array\u001b[38;5;241m=\u001b[39m[\u001b[38;5;241m6e7\u001b[39m])[\u001b[38;5;241m0\u001b[39m]\n\u001b[1;32m      5\u001b[0m \u001b[38;5;28mprint\u001b[39m(vals\u001b[38;5;241m.\u001b[39mshape)     \u001b[38;5;66;03m# (Naxes_vec, 1, Npols, Nfreqs, Npos)\u001b[39;00m\n\u001b[0;32m----> 6\u001b[0m \u001b[38;5;28;01massert\u001b[39;00m \u001b[38;5;28;01mFalse\u001b[39;00m\n",
      "\u001b[0;31mAssertionError\u001b[0m: "
     ]
    }
   ],
   "source": [
    "\n",
    "az = np.random.random(size=20000)*2*np.pi\n",
    "za = np.random.random(size=20000)*np.pi\n",
    "\n",
    "vals = sb.interp(az_array=az, za_array=za, freq_array=[6e7])[0]\n",
    "print(vals.shape)     # (Naxes_vec, 1, Npols, Nfreqs, Npos)\n",
    "assert False"
   ]
  },
  {
   "cell_type": "markdown",
   "id": "a97e8b8b-6a4c-4cfc-88f7-df5a603d8a10",
   "metadata": {
    "papermill": {
     "duration": 0.009853,
     "end_time": "2024-02-21T21:36:54.197677",
     "exception": false,
     "start_time": "2024-02-21T21:36:54.187824",
     "status": "completed"
    },
    "tags": []
   },
   "source": [
    "### Try using sparse_fit\n",
    "\n",
    "It expects Nfeeds to be specified but it may not be for a power beam."
   ]
  },
  {
   "cell_type": "code",
   "execution_count": null,
   "id": "d5655655-1a68-478b-b4f0-7cfb1f593684",
   "metadata": {
    "papermill": {
     "duration": 0.057434,
     "end_time": "2024-02-21T21:36:54.269776",
     "exception": false,
     "start_time": "2024-02-21T21:36:54.212342",
     "status": "completed"
    },
    "tags": []
   },
   "outputs": [],
   "source": [
    "try:\n",
    "    fit_coeffs, fit_beam = sb.get_comp_fits()\n",
    "    vals = sb.interp(sparse_fit=True, fit_coeffs=fit_coeffs, az_array=az, za_array=za)[0]\n",
    "    print(vals.shape)\n",
    "except Exception as exc:\n",
    "    import traceback\n",
    "    print(traceback.format_exc())\n",
    "    print(exc)"
   ]
  },
  {
   "cell_type": "markdown",
   "id": "0f68fab7-6cd3-4bb7-8677-2a99a892d44d",
   "metadata": {
    "papermill": {
     "duration": 0.022084,
     "end_time": "2024-02-21T21:36:54.302554",
     "exception": false,
     "start_time": "2024-02-21T21:36:54.280470",
     "status": "completed"
    },
    "tags": []
   },
   "source": [
    "I added some code to sparse_beam so that I can pass Nfeeds and set it in the beam object."
   ]
  },
  {
   "cell_type": "code",
   "execution_count": null,
   "id": "d7617bb1-e7cb-41e6-86b8-4615debff649",
   "metadata": {
    "papermill": {
     "duration": 0.055272,
     "end_time": "2024-02-21T21:36:54.371788",
     "exception": false,
     "start_time": "2024-02-21T21:36:54.316516",
     "status": "completed"
    },
    "tags": []
   },
   "outputs": [],
   "source": [
    "sb = sparse_beam(\"NF_HERA_Vivaldi_power_beam.fits\", 10, np.arange(10, dtype=int), Nfeeds=2, freq_range=(5e7, 5e7))"
   ]
  },
  {
   "cell_type": "code",
   "execution_count": null,
   "id": "8f92d6c4-43b2-44dd-9dc8-d9aa2b23d5e4",
   "metadata": {
    "papermill": {
     "duration": 0.186202,
     "end_time": "2024-02-21T21:36:54.567498",
     "exception": false,
     "start_time": "2024-02-21T21:36:54.381296",
     "status": "completed"
    },
    "tags": []
   },
   "outputs": [],
   "source": [
    "fit_coeffs, fit_beam = sb.get_comp_fits()\n",
    "vals = sb.interp(sparse_fit=True, fit_coeffs=fit_coeffs, az_array=az, za_array=za)[0]\n",
    "print(vals.shape)"
   ]
  },
  {
   "cell_type": "markdown",
   "id": "9ec00f73-eed6-4dad-89f7-64b60544aa63",
   "metadata": {
    "papermill": {
     "duration": 0.008718,
     "end_time": "2024-02-21T21:36:54.585431",
     "exception": false,
     "start_time": "2024-02-21T21:36:54.576713",
     "status": "completed"
    },
    "tags": []
   },
   "source": [
    "### Try efield beam"
   ]
  },
  {
   "cell_type": "code",
   "execution_count": null,
   "id": "3187a927-448a-4374-a400-4351f804cb9c",
   "metadata": {
    "papermill": {
     "duration": 0.614938,
     "end_time": "2024-02-21T21:36:55.213087",
     "exception": false,
     "start_time": "2024-02-21T21:36:54.598149",
     "status": "completed"
    },
    "tags": []
   },
   "outputs": [],
   "source": [
    "sb = sparse_beam(\"NF_HERA_Vivaldi_efield_beam.fits\", 10, np.arange(10, dtype=int), freq_range=(5e7, 5e7))"
   ]
  },
  {
   "cell_type": "code",
   "execution_count": null,
   "id": "0a4642b4-8bc2-43ba-af33-be57ab4e8e51",
   "metadata": {
    "papermill": {
     "duration": 0.176131,
     "end_time": "2024-02-21T21:36:55.398564",
     "exception": false,
     "start_time": "2024-02-21T21:36:55.222433",
     "status": "completed"
    },
    "tags": []
   },
   "outputs": [],
   "source": [
    "az = np.random.random(size=20000)*2*np.pi\n",
    "za = np.random.random(size=20000)*np.pi\n",
    "\n",
    "vals = sb.interp(az_array=az, za_array=za)[0]\n",
    "print(vals.shape)     # (Naxes_vec, 1, Npols, Nfreqs, Npos)"
   ]
  },
  {
   "cell_type": "code",
   "execution_count": null,
   "id": "d7444bb5-afdb-4245-ba4c-5eb9d4492bfb",
   "metadata": {
    "papermill": {
     "duration": 0.183117,
     "end_time": "2024-02-21T21:36:55.590771",
     "exception": false,
     "start_time": "2024-02-21T21:36:55.407654",
     "status": "completed"
    },
    "tags": []
   },
   "outputs": [],
   "source": [
    "fit_coeffs, fit_beam = sb.get_comp_fits()\n",
    "vals = sb.interp(sparse_fit=True, fit_coeffs=fit_coeffs, az_array=az, za_array=za)[0]\n",
    "print(vals.shape)"
   ]
  },
  {
   "cell_type": "markdown",
   "id": "5bb4d79f-889b-40e0-8027-64e186312a7c",
   "metadata": {
    "papermill": {
     "duration": 0.011741,
     "end_time": "2024-02-21T21:36:55.611836",
     "exception": false,
     "start_time": "2024-02-21T21:36:55.600095",
     "status": "completed"
    },
    "tags": []
   },
   "source": [
    "## Compare beam values"
   ]
  },
  {
   "cell_type": "code",
   "execution_count": null,
   "id": "5bb874c4-53ea-4072-bfd2-8923e6f0c6a5",
   "metadata": {
    "papermill": {
     "duration": 0.021451,
     "end_time": "2024-02-21T21:36:55.644232",
     "exception": false,
     "start_time": "2024-02-21T21:36:55.622781",
     "status": "completed"
    },
    "tags": []
   },
   "outputs": [],
   "source": [
    "az = np.random.random(size=517)*2*np.pi\n",
    "za = np.random.random(size=517)*np.pi/2"
   ]
  },
  {
   "cell_type": "code",
   "execution_count": null,
   "id": "bc7cfc40-1b1c-41af-9d07-0da69ab46574",
   "metadata": {
    "papermill": {
     "duration": 0.336453,
     "end_time": "2024-02-21T21:36:55.991521",
     "exception": false,
     "start_time": "2024-02-21T21:36:55.655068",
     "status": "completed"
    },
    "tags": []
   },
   "outputs": [],
   "source": [
    "uvb = UVBeam()\n",
    "uvb.read_beamfits(\"NF_HERA_Vivaldi_power_beam.fits\")\n",
    "print(uvb.freq_array)\n",
    "uvb.interpolation_function = \"az_za_simple\"\n",
    "uvb.freq_interp_kind = \"linear\"\n",
    "\n",
    "uvb = uvb.interp(freq_array=np.array([60000000.0]), new_object=True, run_check=False)\n",
    "start = time.time()\n",
    "uvb_vals = uvb.interp(az_array=az, za_array=za, freq_array=np.array([6e7]), reuse_spline=True, check_azza_domain=False, spline_opts=None)[0]\n",
    "print(time.time()-start)\n",
    "print(uvb_vals.shape)\n",
    "\n",
    "\n",
    "\n",
    "sb = sparse_beam(\"NF_HERA_Vivaldi_power_beam.fits\", 80, np.arange(-45, 46, dtype=int), Nfeeds=2)\n",
    "sb = sb.interp(freq_array=np.array([60000000.0]), new_object=True, run_check=False)\n",
    "start = time.time()\n",
    "sb_vals = sb.interp(az_array=az, za_array=za, freq_array=[6e7])[0]\n",
    "print(time.time()-start)\n",
    "print(sb_vals.shape)\n",
    "\n",
    "\n",
    "fit_coeffs, fit_beam = sb.get_comp_fits()\n",
    "sb_sparse_vals = sb.interp(sparse_fit=True, fit_coeffs=fit_coeffs, az_array=az, za_array=za)[0]"
   ]
  },
  {
   "cell_type": "code",
   "execution_count": null,
   "id": "8681d802-5974-4a0a-a4d1-118944218208",
   "metadata": {
    "papermill": {
     "duration": 1.155973,
     "end_time": "2024-02-21T21:36:57.156293",
     "exception": false,
     "start_time": "2024-02-21T21:36:56.000320",
     "status": "completed"
    },
    "tags": []
   },
   "outputs": [],
   "source": [
    "plt.figure(figsize=(18, 9))\n",
    "plt.subplot(3, 1, 1)\n",
    "plt.title(\"Interpolated beam values for 1000 source locations\\n\")\n",
    "plt.plot(uvb_vals[0,0,0,0], lw=0.5, color=\"blue\", label=\"uvbeam\")\n",
    "plt.legend()\n",
    "plt.subplot(3, 1, 2)\n",
    "plt.plot(np.abs(sb_vals[0,0,0,0]), lw=0.5, color=\"teal\", label=\"sparse_beam\")\n",
    "plt.legend()\n",
    "plt.subplot(3, 1, 3)\n",
    "plt.plot(np.abs(sb_sparse_vals[0,0,0,0]), lw=0.5, color=\"orange\", label=\"sparse_beam+sparse fit\")\n",
    "plt.legend()\n"
   ]
  },
  {
   "cell_type": "code",
   "execution_count": null,
   "id": "b6baa4ce-610f-4aeb-ab4d-1016775f70b4",
   "metadata": {
    "papermill": {
     "duration": 0.540469,
     "end_time": "2024-02-21T21:36:57.710877",
     "exception": false,
     "start_time": "2024-02-21T21:36:57.170408",
     "status": "completed"
    },
    "tags": []
   },
   "outputs": [],
   "source": [
    "plt.figure(figsize=(18, 9))\n",
    "plt.subplot(3, 1, 1)\n",
    "plt.title(\"Differences of interpolated beam values for 1000 source locations\\n\")\n",
    "plt.plot(uvb_vals[0,0,0,0]-np.abs(sb_vals[0,0,0,0]), lw=0.5, color=\"blue\", label=\"difference(uvbeam, sparse_beam)\")\n",
    "plt.legend()\n",
    "plt.subplot(3, 1, 2)\n",
    "plt.plot(uvb_vals[0,0,0,0]-np.abs(sb_sparse_vals[0,0,0,0]), lw=0.5, color=\"teal\", label=\"difference(uvbeam, sparse_beam+sparse fit)\")\n",
    "plt.legend()\n",
    "plt.subplot(3, 1, 3)\n",
    "plt.plot(np.abs(sb_vals[0,0,0,0])-np.abs(sb_sparse_vals[0,0,0,0]), lw=0.5, color=\"orange\", label=\"difference(sparse_beam, sparse_beam+sparse fit)\")\n",
    "plt.legend()"
   ]
  },
  {
   "cell_type": "code",
   "execution_count": null,
   "id": "4aa386b4-5923-4a61-8a13-4db109d23144",
   "metadata": {
    "papermill": {
     "duration": 0.012838,
     "end_time": "2024-02-21T21:36:57.990030",
     "exception": false,
     "start_time": "2024-02-21T21:36:57.977192",
     "status": "completed"
    },
    "tags": []
   },
   "outputs": [],
   "source": [
    "class Grid:\n",
    "    def __init__(self, dim):\n",
    "        self.grid = np.zeros((dim, dim))  \n",
    "        self.dim = dim\n",
    "        self.num = np.zeros((dim, dim), dtype=int)\n",
    "        \n",
    "    def insert(self, x, y, val):   # the physical values range from -1 to 1\n",
    "        i = np.trunc(np.interp(x, [-1, 1], [0, self.dim-1])).astype(int)\n",
    "        j = np.trunc(np.interp(y, [-1, 1], [0, self.dim-1])).astype(int)\n",
    "    \n",
    "        for k in range(val.size):\n",
    "            self.grid[i[k], j[k]] += val[k]\n",
    "            self.num[i[k], j[k]] += 1\n",
    "        \n",
    "        \"\"\"\n",
    "        for i in range(self.dim):\n",
    "            for j in range(self.dim):\n",
    "                if self.grid[i, j]>0 and self.num[i][j] == 0: print(\"G\")\n",
    "                if self.grid[i, j]==0 and self.num[i][j] > 0: print(\"G\")\n",
    "        \"\"\"      \n",
    "\n",
    "    def insert1(self, x, y, val):   # the physical values range from -1 to 1\n",
    "        i = np.trunc(np.interp(x, [-1, 1], [0, self.dim-1])).astype(int)\n",
    "        j = np.trunc(np.interp(y, [-1, 1], [0, self.dim-1])).astype(int)\n",
    "        \n",
    "        self.grid[i, j] += val\n",
    "        self.num[i, j] += 1\n",
    "    \n",
    "            \n",
    "    def average(self):\n",
    "        for i in range(self.dim):\n",
    "            for j in range(self.dim):\n",
    "                if self.grid[i, j] > 0:\n",
    "                    self.grid[i, j] /= self.num[i, j]\n",
    "\n",
    "        #self.grid = np.where(self.grid>0, self.grid/self.num, self.grid)\n",
    "\n",
    "        \n",
    "    def log10(self):\n",
    "        vmin = 1e9\n",
    "        for i in range(self.dim):\n",
    "            for j in range(self.dim):\n",
    "                if self.grid[i, j] > 0:\n",
    "                    self.grid[i, j] = np.log10(self.grid[i, j])\n",
    "                    if self.grid[i, j] < vmin: vmin = self.grid[i, j]\n",
    "                else:\n",
    "                    self.grid[i, j] = np.nan\n",
    "                    \n",
    "        return vmin\n",
    "        #self.grid = np.where(self.grid>0, np.log10(self.grid), self.grid)\n",
    "    \n",
    "    def dB(self):\n",
    "        vmin = self.log10()\n",
    "        vmin *= 10\n",
    "        self.grid *= 10\n",
    "        return vmin\n"
   ]
  },
  {
   "cell_type": "code",
   "execution_count": null,
   "id": "dc5d4950-0391-4a7f-ad94-b0e6ce9b73f5",
   "metadata": {},
   "outputs": [],
   "source": [
    "np.meshgrid(np.arange(5), np.arange(3))"
   ]
  },
  {
   "cell_type": "code",
   "execution_count": null,
   "id": "12a68080-4013-402b-885a-31dd7508c188",
   "metadata": {},
   "outputs": [],
   "source": [
    "uvb = UVBeam()\n",
    "uvb.read_beamfits(\"NF_HERA_Vivaldi_power_beam.fits\", freq_range=(6e7, 6e7))\n",
    "uvb.interpolation_function = \"az_za_simple\"\n",
    "uvb.freq_interp_kind = \"linear\"\n",
    "\n",
    "vals = uvb.interp(az_array=az, za_array=za)[0]\n",
    "print(vals.shape)\n",
    "interp_beam = vals[0, 0, 0, 0]       \n",
    "print(interp_beam[:10])\n",
    "\n",
    "\n",
    "grid = Grid(100)\n",
    "r = np.sin(za)\n",
    "x = r*np.sin(az)\n",
    "y = r*np.cos(az)\n",
    "\n",
    "grid.insert(-x, y, values)\n",
    "grid.average()\n",
    "grid.grid = np.where(grid.grid==0, np.nan, grid.grid)\n",
    "\n",
    "\n",
    "plt.figure(figsize=(8, 8))\n",
    "ax = plt.axes()\n",
    "ax.axis(\"off\")\n",
    "im=plt.imshow(grid.grid, interpolation=\"quadric\", norm=LogNorm(), cmap=\"rainbow\")\n",
    "plt.colorbar(im,fraction=0.046, pad=0.04)\n",
    "plt.title(\"Vivaldi power beam\\n\")\n",
    "plt.savefig(\"vivaldi_beam\")"
   ]
  },
  {
   "cell_type": "code",
   "execution_count": null,
   "id": "e29c44f6-4b20-4f1a-9a6b-58ef9be9a05f",
   "metadata": {
    "papermill": {
     "duration": 0.24078,
     "end_time": "2024-02-21T21:36:57.963677",
     "exception": false,
     "start_time": "2024-02-21T21:36:57.722897",
     "status": "completed"
    },
    "tags": []
   },
   "outputs": [],
   "source": [
    "_az = np.deg2rad(np.arange(361))\n",
    "_za = np.deg2rad(np.arange(91))\n",
    "az = np.tile(_az, _za.size)\n",
    "za = np.repeat(_za, _az.size)\n",
    "sb = sparse_beam(\"NF_HERA_Vivaldi_power_beam.fits\", 80, np.arange(-45,46) , Nfeeds=2, freq_range=(6e7, 6e7))\n",
    "vals = sb.interp(az_array=az, za_array=za)[0]\n",
    "print(vals.shape)     # (Naxes_vec, 1, Npols, Nfreqs, Npos)\n",
    "\n",
    "interp_beam = vals[0, 0, 0, 0]       \n",
    "print(interp_beam[:10])\n",
    "values = np.real(interp_beam)\n",
    "\n",
    "\n",
    "grid = Grid(100)\n",
    "r = np.sin(za)\n",
    "x = r*np.sin(az)\n",
    "y = r*np.cos(az)\n",
    "\n",
    "grid.insert(-x, y, values)\n",
    "grid.average()\n",
    "grid.grid = np.where(grid.grid==0, np.nan, grid.grid)\n",
    "\n",
    "\n",
    "plt.figure(figsize=(8, 8))\n",
    "ax = plt.axes()\n",
    "ax.axis(\"off\")\n",
    "im=plt.imshow(grid.grid, interpolation=\"quadric\", norm=LogNorm(), cmap=\"rainbow\")\n",
    "plt.colorbar(im,fraction=0.046, pad=0.04)\n",
    "plt.title(\"sparse beam (Vivaldi power beam)\\n\")\n",
    "plt.savefig(\"sparse_beam\")"
   ]
  },
  {
   "cell_type": "code",
   "execution_count": null,
   "id": "bb9e9c6e-5387-40f6-adf4-3c7c0780c80c",
   "metadata": {},
   "outputs": [],
   "source": [
    "sb = sparse_beam(\"NF_HERA_Vivaldi_power_beam.fits\", 80, np.arange(-45,46) , Nfeeds=2, freq_range=(6e7, 6e7))\n",
    "fit_coeffs, fit_beam = sb.get_comp_fits()\n",
    "vals = sb.interp(sparse_fit=True, fit_coeffs=fit_coeffs, az_array=az, za_array=za)[0]\n",
    "print(vals.shape)     # (Naxes_vec, 1, Npols, Nfreqs, Npos)\n",
    "\n",
    "interp_beam = vals[0, 0, 0, 0]       \n",
    "print(interp_beam[:10])\n",
    "values = np.real(interp_beam)\n",
    "\n",
    "\n",
    "grid = Grid(100)\n",
    "r = np.sin(za)\n",
    "x = r*np.sin(az)\n",
    "y = r*np.cos(az)\n",
    "\n",
    "grid.insert(-x, y, values)\n",
    "grid.average()\n",
    "grid.grid = np.where(grid.grid==0, np.nan, grid.grid)\n",
    "\n",
    "\n",
    "plt.figure(figsize=(8, 8))\n",
    "ax = plt.axes()\n",
    "ax.axis(\"off\")\n",
    "im=plt.imshow(grid.grid, interpolation=\"quadric\", norm=LogNorm(), cmap=\"rainbow\")\n",
    "plt.colorbar(im,fraction=0.046, pad=0.04)\n",
    "plt.title(\"sparse beam+sparse fit (Vivaldi power beam)\\n\")\n",
    "plt.savefig(\"sparse_beam+sparse_fit\")"
   ]
  },
  {
   "cell_type": "code",
   "execution_count": null,
   "id": "919dd807-57e2-41cb-bc66-d73e1bd66f9b",
   "metadata": {},
   "outputs": [],
   "source": []
  }
 ],
 "metadata": {
  "kernelspec": {
   "display_name": "frf_paper",
   "language": "python",
   "name": "frf_paper"
  },
  "language_info": {
   "codemirror_mode": {
    "name": "ipython",
    "version": 3
   },
   "file_extension": ".py",
   "mimetype": "text/x-python",
   "name": "python",
   "nbconvert_exporter": "python",
   "pygments_lexer": "ipython3",
   "version": "3.10.9"
  },
  "papermill": {
   "default_parameters": {},
   "duration": 60.213379,
   "end_time": "2024-02-21T21:36:58.454262",
   "environment_variables": {},
   "exception": null,
   "input_path": "sparse_beam_test.ipynb",
   "output_path": "sparse_beam_test_out.ipynb",
   "parameters": {},
   "start_time": "2024-02-21T21:35:58.240883",
   "version": "2.4.0"
  }
 },
 "nbformat": 4,
 "nbformat_minor": 5
}
