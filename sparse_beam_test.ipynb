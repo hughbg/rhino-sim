{
 "cells": [
  {
   "cell_type": "code",
   "execution_count": 1,
   "id": "e4fddfb4-9ba4-4e02-960e-8b4ef9d8f4b4",
   "metadata": {
    "papermill": {
     "duration": 33.641287,
     "end_time": "2024-02-21T21:36:53.263971",
     "exception": false,
     "start_time": "2024-02-21T21:36:19.622684",
     "status": "completed"
    },
    "tags": []
   },
   "outputs": [],
   "source": [
    "import numpy as np\n",
    "from sparse_beam import sparse_beam, sim_sparse_beam\n",
    "from pyuvdata import UVBeam\n",
    "import time\n",
    "import matplotlib.pyplot as plt\n",
    "from matplotlib.colors import LogNorm\n",
    "import cProfile"
   ]
  },
  {
   "cell_type": "code",
   "execution_count": 2,
   "id": "327ebc7b-bd8d-4417-8add-47dcde451e42",
   "metadata": {},
   "outputs": [],
   "source": [
    "def testing(fname, freq, nsource, profile_it=False):\n",
    "    def frange(f):\n",
    "        if freq is None:\n",
    "            return \"None\"\n",
    "        elif len(f) == 1:\n",
    "            return str(f[0])\n",
    "        else:\n",
    "            return str(f[0])+\"...\"+str(f[-1])\n",
    "\n",
    "    \n",
    "    \n",
    "    uvb = UVBeam()\n",
    "    uvb.read_beamfits(fname)\n",
    "    uvb.interpolation_function = \"az_za_simple\"\n",
    "    uvb.freq_interp_kind = \"linear\"\n",
    "\n",
    "\n",
    "    print(\"Beam file\", fname)\n",
    "\n",
    "    repeats = 5\n",
    "\n",
    "    if freq == \"all_explicit\":\n",
    "        freq = uvb.freq_array[0]\n",
    "\n",
    "    elif freq is not None and len(freq) == 1:\n",
    "        uvb_one_freq = uvb.interp(freq_array=freq, new_object=True, run_check=False)\n",
    " \n",
    "    if nsource is None:\n",
    "        az = None\n",
    "        za = None\n",
    "    else:\n",
    "        az = np.random.random(size=nsource)*2*np.pi\n",
    "        za = np.random.random(size=nsource)*np.pi/2\n",
    "\n",
    "    print(\"-\"*50)\n",
    "    print(\"uvbeam, interp freq: \"+frange(freq)+\",\", \"nsource: \"+str(nsource))\n",
    "    for i in range(repeats):\n",
    "        if profile_it:\n",
    "            cProfile.runctx(\"uvb.interp(az_array=az, za_array=za, freq_array=freq)\", globals(), locals())\n",
    "        else:\n",
    "            start = time.time()\n",
    "            result = uvb.interp(az_array=az, za_array=za, freq_array=freq)\n",
    "            print(\"Time:\", time.time()-start, \"s\" if i == 0 else \"s, (repeated)\")\n",
    "\n",
    "    if freq is not None and len(freq) == 1:\n",
    "        print(\"-\"*50)\n",
    "        print(\"uvbeam stripped to interp freq, interp freq: \"+frange(freq)+\",\", \"nsource: \"+str(nsource))\n",
    "        for i in range(repeats):\n",
    "            if profile_it:\n",
    "                cProfile.runctx(\"uvb_one_freq.interp(az_array=az, za_array=za, freq_array=freq)\", globals(), locals())\n",
    "            else:\n",
    "                start = time.time()\n",
    "                uvb_one_freq.interp(az_array=az, za_array=za, freq_array=freq)\n",
    "                print(\"Time:\", time.time()-start, \"s\" if i == 0 else \"s, (repeated)\")\n",
    "\n",
    "    print(\"-\"*50)\n",
    "    print(\"uvbeam optimized, interp freq: \"+frange(freq)+\",\", \"nsource: \"+str(nsource))\n",
    "    for i in range(repeats):\n",
    "        if profile_it:\n",
    "            cProfile.runctx(\"uvb.interp(az_array=az, za_array=za, freq_array=freq, reuse_spline=True, check_azza_domain=False)\", globals(), locals())\n",
    "        else:\n",
    "            start = time.time()\n",
    "            uvb.interp(az_array=az, za_array=za, freq_array=freq, reuse_spline=True, check_azza_domain=False)\n",
    "            print(\"Time:\", time.time()-start, \"s\" if i == 0 else \"s, (repeated)\")\n",
    "\n",
    "    if freq is not None and len(freq) == 1:\n",
    "        print(\"-\"*50)\n",
    "        print(\"uvbeam optimized, stripped to interp freq, interp freq: \"+frange(freq)+\",\", \"nsource: \"+str(nsource))\n",
    "        for i in range(repeats):\n",
    "            if profile_it:\n",
    "                cProfile.runctx(\"uvb_one_freq.interp(az_array=az, za_array=za, freq_array=freq, reuse_spline=True, check_azza_domain=False)\", globals(), locals())\n",
    "            else:\n",
    "                start = time.time()\n",
    "                uvb_one_freq.interp(az_array=az, za_array=za, freq_array=freq, reuse_spline=True, check_azza_domain=False)\n",
    "                print(\"Time:\", time.time()-start, \"s\" if i == 0 else \"s, (repeated)\")\n",
    "\n",
    "    if uvb.beam_type == \"power\" and uvb.Nfeeds is None:\n",
    "        if uvb.future_array_shapes:\n",
    "            Nfeeds = uvb.data_array.shape[1]\n",
    "        else:\n",
    "            Nfeeds = uvb.data_array.shape[2]\n",
    "    else:\n",
    "        Nfeeds = None\n",
    "            \n",
    "\n",
    "    print(\"-\"*50)\n",
    "    print(\"sparse beam, interp freq: \"+frange(freq)+\",\", \"nsource: \"+str(nsource))\n",
    "    sb = sparse_beam(fname, nmax=80, mmodes=np.arange(-45, 46), Nfeeds=Nfeeds)    \n",
    "    for i in range(repeats):\n",
    "        if profile_it:\n",
    "            cProfile.runctx(\"sb.interp(az_array=az, za_array=za, freq_array=freq)\", globals(), locals())\n",
    "        else:\n",
    "            start = time.time()\n",
    "            sb_result = sb.interp(az_array=az, za_array=za, freq_array=freq)\n",
    "            print(\"Time:\", time.time()-start, \"s\" if i == 0 else \"s, (repeated)\")\n",
    "\n",
    "    if freq is not None and len(freq) == 1:\n",
    "        print(\"-\"*50)\n",
    "        print(\"sparse beam, stripped to interp freq, interp freq: \"+frange(freq)+\",\", \"nsource: \"+str(nsource))   \n",
    "        sb_one_freq = sb.interp(az_array=None, za_array=None, freq_array=freq)\n",
    "        for i in range(repeats):\n",
    "            if profile_it:\n",
    "                cProfile.runctx(\"sb_one_freq.interp(az_array=az, za_array=za, freq_array=freq)\", globals(), locals())\n",
    "            else:\n",
    "                start = time.time()\n",
    "                sb_result_one_freq = sb_one_freq.interp(az_array=az, za_array=za, freq_array=freq)\n",
    "                print(\"Time:\", time.time()-start, \"s\" if i == 0 else \"s, (repeated)\")\n",
    "    \n",
    "\n",
    "    print(\"-\"*50)\n",
    "    print(\"sparse beam, sparse fit, interp freq: \"+frange(freq)+\",\", \"nsource: \"+str(nsource))\n",
    "    if isinstance(freq, np.ndarray):\n",
    "        print(\"\\tCan't do it when passing explicit frequencies (this may have changed)\")\n",
    "    else:\n",
    "        sb = sparse_beam(fname, nmax=80, mmodes=np.arange(-45, 46), Nfeeds=Nfeeds)    \n",
    "        for i in range(repeats):\n",
    "            if profile_it:\n",
    "                cProfile.runctx(\"sb.interp(az_array=az, za_array=za, freq_array=freq, Nfeeds=Nfeeds)\", globals(), locals())\n",
    "            else:\n",
    "                start = time.time()\n",
    "                fit_coeffs, fit_beam = sb.get_comp_fits()\n",
    "                sb_result = sb.interp(az_array=az, za_array=za, freq_array=freq, sparse_fit=True, fit_coeffs=fit_coeffs)\n",
    "                print(\"Time:\", time.time()-start, \"s\" if i == 0 else \"s, (repeated)\")\n",
    "\n",
    "    print()\n",
    "    print(\"% diff between spaprse and sparse stripped\", np.max((sb_result[0]-sb_result_one_freq[0])/result[0]))\n",
    "    \n",
    "    if result[0].shape == sb_result[0].shape:\n",
    "        print(\"shapes match\", result[0].shape, sb_result[0].shape)\n",
    "    if result[0].dtype == sb_result[0].dtype:\n",
    "        print(\"types match\", result[0].dtype, sb_result[0].dtype)"
   ]
  },
  {
   "cell_type": "code",
   "execution_count": 14,
   "id": "e25af730-43c2-49b2-8e61-6dec4bafe203",
   "metadata": {},
   "outputs": [
    {
     "name": "stdout",
     "output_type": "stream",
     "text": [
      "(1, 1, 2, 2, 20)\n"
     ]
    }
   ],
   "source": [
    "az = np.random.random(size=20)*2*np.pi\n",
    "za = np.random.random(size=20)*np.pi\n",
    "sb = sparse_beam(\"NF_HERA_Vivaldi_power_beam.fits\", 10, np.arange(10, dtype=int))\n",
    "x = sb.interp(az_array=az, za_array=za, freq_array=np.array([60e6, 70e6]))[0]\n",
    "print(x.shape)"
   ]
  },
  {
   "cell_type": "code",
   "execution_count": 4,
   "id": "a38b876a-de39-4397-88cb-5980fc1772c2",
   "metadata": {},
   "outputs": [
    {
     "name": "stdout",
     "output_type": "stream",
     "text": [
      "(1, 1, 2, 201, 91, 360)\n",
      "(1, 1, 2, 201, 91, 360) (91, 360)\n"
     ]
    }
   ],
   "source": [
    "sb = sim_sparse_beam(\"NF_HERA_Vivaldi_power_beam.fits\", 10, np.arange(10, dtype=int))\n",
    "print(sb.data_array.shape)\n",
    "sbb = sb.interp(az_array=None, za_array=None, freq_array=np.array([60e6, 61e6]))\n",
    "print(sbb.data_array.shape, sbb.dA.shape)"
   ]
  },
  {
   "cell_type": "markdown",
   "id": "37a88359-39b0-47b1-be3a-add30e334b99",
   "metadata": {},
   "source": [
    "# Testing interp() of sparse beam\n",
    "\n",
    "There are three types of measures for testing:\n",
    "\n",
    "1. It works.\n",
    "2. The run time compared to the UVBeam version.\n",
    "3. The values compared to the UVBeam version.\n",
    "4. The shape and type of the result is the same as UVBeam.\n",
    "\n",
    "UVBeam can be run in several configurations:\n",
    "\n",
    "1. With or without without options that make it run faster. The options turn off checking of the input az/za and specify to reuse splines previously generated.\n",
    "2. IF the interpolation frequencies are just one frequency, a UVBeam can be generated containing just that frequency, which is then used for the interpolation.\n",
    "3. Combinations of the above.\n",
    "\n",
    "The test function will run both 1 and 2 if it can. If 2 does not apply, there will be 2 configurations used. If 2 does apply, there will be 4 configurations used.\n",
    "\n",
    "Frequency \n",
    "\n",
    "## Test standard usage\n",
    "\n",
    "Use all the frequencies in the beam, and 10000 sources.\n",
    "\n",
    "### efield beam"
   ]
  },
  {
   "cell_type": "code",
   "execution_count": 5,
   "id": "3552aa40-5569-4f04-b08e-5c6a0312bcce",
   "metadata": {},
   "outputs": [],
   "source": [
    "#testing(\"NF_HERA_Vivaldi_efield_beam.fits\", None, 10000)"
   ]
  },
  {
   "attachments": {},
   "cell_type": "markdown",
   "id": "2066d12e-41d1-450c-b169-bb90aa314806",
   "metadata": {
    "papermill": {
     "duration": 0.013476,
     "end_time": "2024-02-21T21:36:53.313601",
     "exception": false,
     "start_time": "2024-02-21T21:36:53.300125",
     "status": "completed"
    },
    "tags": []
   },
   "source": [
    "### power beam"
   ]
  },
  {
   "cell_type": "code",
   "execution_count": 6,
   "id": "87a9c00c-12b2-41ab-8d85-1c351caf33b1",
   "metadata": {},
   "outputs": [],
   "source": [
    "#testing(\"NF_HERA_Vivaldi_power_beam.fits\", None, 10000)"
   ]
  },
  {
   "cell_type": "code",
   "execution_count": 7,
   "id": "512c67bd-d372-4e3c-8cc7-dfcbdb09e6ce",
   "metadata": {
    "scrolled": true
   },
   "outputs": [
    {
     "name": "stdout",
     "output_type": "stream",
     "text": [
      "Beam file NF_HERA_Vivaldi_power_beam.fits\n",
      "--------------------------------------------------\n",
      "uvbeam, interp freq: 60000000.0, nsource: 3000\n",
      "Time: 0.7479126453399658 s\n",
      "Time: 0.7428886890411377 s, (repeated)\n",
      "Time: 0.7203216552734375 s, (repeated)\n",
      "Time: 0.7182595729827881 s, (repeated)\n",
      "Time: 0.7316915988922119 s, (repeated)\n",
      "--------------------------------------------------\n",
      "uvbeam stripped to interp freq, interp freq: 60000000.0, nsource: 3000\n",
      "Time: 0.7307167053222656 s\n",
      "Time: 0.7177548408508301 s, (repeated)\n",
      "Time: 0.7233314514160156 s, (repeated)\n",
      "Time: 0.7232189178466797 s, (repeated)\n",
      "Time: 0.7244837284088135 s, (repeated)\n",
      "--------------------------------------------------\n",
      "uvbeam optimized, interp freq: 60000000.0, nsource: 3000\n",
      "Time: 0.010962247848510742 s\n",
      "Time: 0.0029137134552001953 s, (repeated)\n",
      "Time: 0.0026733875274658203 s, (repeated)\n",
      "Time: 0.0026772022247314453 s, (repeated)\n",
      "Time: 0.002651691436767578 s, (repeated)\n",
      "--------------------------------------------------\n",
      "uvbeam optimized, stripped to interp freq, interp freq: 60000000.0, nsource: 3000\n",
      "Time: 0.010387659072875977 s\n",
      "Time: 0.002743244171142578 s, (repeated)\n",
      "Time: 0.0027048587799072266 s, (repeated)\n",
      "Time: 0.002608060836791992 s, (repeated)\n",
      "Time: 0.002675771713256836 s, (repeated)\n",
      "--------------------------------------------------\n",
      "sparse beam, interp freq: 60000000.0, nsource: 3000\n",
      "Time: 0.5020644664764404 s\n",
      "Time: 0.4951331615447998 s, (repeated)\n",
      "Time: 0.49523353576660156 s, (repeated)\n",
      "Time: 0.4979376792907715 s, (repeated)\n",
      "Time: 0.5078699588775635 s, (repeated)\n",
      "--------------------------------------------------\n",
      "sparse beam, stripped to interp freq, interp freq: 60000000.0, nsource: 3000\n",
      "Time: 0.28151965141296387 s\n",
      "Time: 0.28188633918762207 s, (repeated)\n",
      "Time: 0.2830352783203125 s, (repeated)\n",
      "Time: 0.28212594985961914 s, (repeated)\n",
      "Time: 0.28246021270751953 s, (repeated)\n",
      "--------------------------------------------------\n",
      "sparse beam, sparse fit, interp freq: 60000000.0, nsource: 3000\n",
      "\tCan't do it when passing explicit frequencies (this may have changed)\n",
      "\n",
      "% diff between spaprse and sparse stripped 1.221410499312645e-14\n",
      "shapes match (1, 1, 2, 1, 3000) (1, 1, 2, 1, 3000)\n",
      "types match float64 float64\n"
     ]
    }
   ],
   "source": [
    "testing(\"NF_HERA_Vivaldi_power_beam.fits\", np.array([60e6]), 3000)"
   ]
  },
  {
   "cell_type": "code",
   "execution_count": 8,
   "id": "1741c416-1cf6-4346-8de5-22539c4c0587",
   "metadata": {},
   "outputs": [
    {
     "ename": "AssertionError",
     "evalue": "",
     "output_type": "error",
     "traceback": [
      "\u001b[0;31m---------------------------------------------------------------------------\u001b[0m",
      "\u001b[0;31mAssertionError\u001b[0m                            Traceback (most recent call last)",
      "Cell \u001b[0;32mIn[8], line 1\u001b[0m\n\u001b[0;32m----> 1\u001b[0m \u001b[38;5;28;01massert\u001b[39;00m \u001b[38;5;28;01mFalse\u001b[39;00m\n",
      "\u001b[0;31mAssertionError\u001b[0m: "
     ]
    }
   ],
   "source": [
    "assert False"
   ]
  },
  {
   "cell_type": "code",
   "execution_count": null,
   "id": "9f6652bc-809e-49ff-961f-454062510218",
   "metadata": {
    "papermill": {
     "duration": 0.608808,
     "end_time": "2024-02-21T21:36:53.942893",
     "exception": false,
     "start_time": "2024-02-21T21:36:53.334085",
     "status": "completed"
    },
    "tags": []
   },
   "outputs": [],
   "source": [
    "sb = sparse_beam(\"NF_HERA_Vivaldi_power_beam.fits\", 10, np.arange(10, dtype=int))\n",
    "vals = sb.interp(az_array=np.array([0]), za_array=np.array([0]), freq_array=[6e7, 7e7, 8.8e7])[0]\n",
    "sb.interp(freq_array=np.array([0]), new_object=True, run_check=False)\n",
    "print(vals.shape)"
   ]
  },
  {
   "cell_type": "code",
   "execution_count": null,
   "id": "d84fcab3-f629-4858-831e-54af510e7a8f",
   "metadata": {
    "papermill": {
     "duration": 0.225894,
     "end_time": "2024-02-21T21:36:54.178974",
     "exception": false,
     "start_time": "2024-02-21T21:36:53.953080",
     "status": "completed"
    },
    "tags": []
   },
   "outputs": [],
   "source": [
    "\n",
    "az = np.random.random(size=20000)*2*np.pi\n",
    "za = np.random.random(size=20000)*np.pi\n",
    "\n",
    "vals = sb.interp(az_array=az, za_array=za, freq_array=[60e6])[0]\n",
    "print(vals.shape)     # (Naxes_vec, 1, Npols, Nfreqs, Npos)\n",
    "assert False"
   ]
  },
  {
   "cell_type": "markdown",
   "id": "a97e8b8b-6a4c-4cfc-88f7-df5a603d8a10",
   "metadata": {
    "papermill": {
     "duration": 0.009853,
     "end_time": "2024-02-21T21:36:54.197677",
     "exception": false,
     "start_time": "2024-02-21T21:36:54.187824",
     "status": "completed"
    },
    "tags": []
   },
   "source": [
    "### Try using sparse_fit\n",
    "\n",
    "It expects Nfeeds to be specified but it may not be for a power beam."
   ]
  },
  {
   "cell_type": "code",
   "execution_count": null,
   "id": "d5655655-1a68-478b-b4f0-7cfb1f593684",
   "metadata": {
    "papermill": {
     "duration": 0.057434,
     "end_time": "2024-02-21T21:36:54.269776",
     "exception": false,
     "start_time": "2024-02-21T21:36:54.212342",
     "status": "completed"
    },
    "tags": []
   },
   "outputs": [],
   "source": [
    "try:\n",
    "    fit_coeffs, fit_beam = sb.get_comp_fits()\n",
    "    vals = sb.interp(sparse_fit=True, fit_coeffs=fit_coeffs, az_array=az, za_array=za)[0]\n",
    "    print(vals.shape)\n",
    "except Exception as exc:\n",
    "    import traceback\n",
    "    print(traceback.format_exc())\n",
    "    print(exc)"
   ]
  },
  {
   "cell_type": "markdown",
   "id": "0f68fab7-6cd3-4bb7-8677-2a99a892d44d",
   "metadata": {
    "papermill": {
     "duration": 0.022084,
     "end_time": "2024-02-21T21:36:54.302554",
     "exception": false,
     "start_time": "2024-02-21T21:36:54.280470",
     "status": "completed"
    },
    "tags": []
   },
   "source": [
    "I added some code to sparse_beam so that I can pass Nfeeds and set it in the beam object."
   ]
  },
  {
   "cell_type": "code",
   "execution_count": null,
   "id": "d7617bb1-e7cb-41e6-86b8-4615debff649",
   "metadata": {
    "papermill": {
     "duration": 0.055272,
     "end_time": "2024-02-21T21:36:54.371788",
     "exception": false,
     "start_time": "2024-02-21T21:36:54.316516",
     "status": "completed"
    },
    "tags": []
   },
   "outputs": [],
   "source": [
    "sb = sparse_beam(\"NF_HERA_Vivaldi_power_beam.fits\", 10, np.arange(10, dtype=int), Nfeeds=2, freq_range=(5e7, 5e7))"
   ]
  },
  {
   "cell_type": "code",
   "execution_count": null,
   "id": "8f92d6c4-43b2-44dd-9dc8-d9aa2b23d5e4",
   "metadata": {
    "papermill": {
     "duration": 0.186202,
     "end_time": "2024-02-21T21:36:54.567498",
     "exception": false,
     "start_time": "2024-02-21T21:36:54.381296",
     "status": "completed"
    },
    "tags": []
   },
   "outputs": [],
   "source": [
    "fit_coeffs, fit_beam = sb.get_comp_fits()\n",
    "vals = sb.interp(sparse_fit=True, fit_coeffs=fit_coeffs, az_array=az, za_array=za)[0]\n",
    "print(vals.shape)"
   ]
  },
  {
   "cell_type": "markdown",
   "id": "9ec00f73-eed6-4dad-89f7-64b60544aa63",
   "metadata": {
    "papermill": {
     "duration": 0.008718,
     "end_time": "2024-02-21T21:36:54.585431",
     "exception": false,
     "start_time": "2024-02-21T21:36:54.576713",
     "status": "completed"
    },
    "tags": []
   },
   "source": [
    "### Try efield beam"
   ]
  },
  {
   "cell_type": "code",
   "execution_count": null,
   "id": "3187a927-448a-4374-a400-4351f804cb9c",
   "metadata": {
    "papermill": {
     "duration": 0.614938,
     "end_time": "2024-02-21T21:36:55.213087",
     "exception": false,
     "start_time": "2024-02-21T21:36:54.598149",
     "status": "completed"
    },
    "tags": []
   },
   "outputs": [],
   "source": [
    "sb = sparse_beam(\"NF_HERA_Vivaldi_efield_beam.fits\", 10, np.arange(10, dtype=int), freq_range=(5e7, 5e7))"
   ]
  },
  {
   "cell_type": "code",
   "execution_count": null,
   "id": "0a4642b4-8bc2-43ba-af33-be57ab4e8e51",
   "metadata": {
    "papermill": {
     "duration": 0.176131,
     "end_time": "2024-02-21T21:36:55.398564",
     "exception": false,
     "start_time": "2024-02-21T21:36:55.222433",
     "status": "completed"
    },
    "tags": []
   },
   "outputs": [],
   "source": [
    "az = np.random.random(size=20000)*2*np.pi\n",
    "za = np.random.random(size=20000)*np.pi\n",
    "\n",
    "vals = sb.interp(az_array=az, za_array=za)[0]\n",
    "print(vals.shape)     # (Naxes_vec, 1, Npols, Nfreqs, Npos)"
   ]
  },
  {
   "cell_type": "code",
   "execution_count": null,
   "id": "d7444bb5-afdb-4245-ba4c-5eb9d4492bfb",
   "metadata": {
    "papermill": {
     "duration": 0.183117,
     "end_time": "2024-02-21T21:36:55.590771",
     "exception": false,
     "start_time": "2024-02-21T21:36:55.407654",
     "status": "completed"
    },
    "tags": []
   },
   "outputs": [],
   "source": [
    "fit_coeffs, fit_beam = sb.get_comp_fits()\n",
    "vals = sb.interp(sparse_fit=True, fit_coeffs=fit_coeffs, az_array=az, za_array=za)[0]\n",
    "print(vals.shape)"
   ]
  },
  {
   "cell_type": "markdown",
   "id": "5bb4d79f-889b-40e0-8027-64e186312a7c",
   "metadata": {
    "papermill": {
     "duration": 0.011741,
     "end_time": "2024-02-21T21:36:55.611836",
     "exception": false,
     "start_time": "2024-02-21T21:36:55.600095",
     "status": "completed"
    },
    "tags": []
   },
   "source": [
    "## Compare beam values"
   ]
  },
  {
   "cell_type": "code",
   "execution_count": null,
   "id": "5bb874c4-53ea-4072-bfd2-8923e6f0c6a5",
   "metadata": {
    "papermill": {
     "duration": 0.021451,
     "end_time": "2024-02-21T21:36:55.644232",
     "exception": false,
     "start_time": "2024-02-21T21:36:55.622781",
     "status": "completed"
    },
    "tags": []
   },
   "outputs": [],
   "source": [
    "az = np.random.random(size=2000)*2*np.pi\n",
    "za = np.random.random(size=2000)*np.pi/2"
   ]
  },
  {
   "cell_type": "code",
   "execution_count": null,
   "id": "bc7cfc40-1b1c-41af-9d07-0da69ab46574",
   "metadata": {
    "papermill": {
     "duration": 0.336453,
     "end_time": "2024-02-21T21:36:55.991521",
     "exception": false,
     "start_time": "2024-02-21T21:36:55.655068",
     "status": "completed"
    },
    "tags": []
   },
   "outputs": [],
   "source": [
    "import cProfile\n",
    "\n",
    "uvb = UVBeam()\n",
    "uvb.read_beamfits(\"NF_HERA_Vivaldi_power_beam.fits\")\n",
    "uvb.interpolation_function = \"az_za_simple\"\n",
    "uvb.freq_interp_kind = \"linear\"\n",
    "\n",
    "uvb = uvb.interp(freq_array=np.array([60000000.0]), new_object=True, run_check=False)\n",
    "start = time.time()\n",
    "uvb_vals = uvb.interp(az_array=az, za_array=za, freq_array=np.array([6e7]), reuse_spline=True, check_azza_domain=False, spline_opts=None)[0]\n",
    "print(\"T\", time.time()-start)\n",
    "print(uvb_vals.shape)\n",
    "\n",
    "\n",
    "\n",
    "sb = sparse_beam(\"NF_HERA_Vivaldi_power_beam.fits\", 80, np.arange(-45, 46, dtype=int), Nfeeds=2)\n",
    "sb = sb.interp(freq_array=np.array([60000000.0]), new_object=True, run_check=False)\n",
    "\n",
    "sb_vals = sb.interp(az_array=az, za_array=za, freq_array=[6e7])[0]\n",
    "cProfile.run(\"sb.interp(az_array=az, za_array=za, freq_array=[6e7])[0]\")\n",
    "print(sb_vals.shape)\n",
    "\n",
    "\n",
    "#fit_coeffs, fit_beam = sb.get_comp_fits()\n",
    "#sb_sparse_vals = sb.interp(sparse_fit=True, fit_coeffs=fit_coeffs, az_array=az, za_array=za)[0]"
   ]
  },
  {
   "cell_type": "code",
   "execution_count": null,
   "id": "8681d802-5974-4a0a-a4d1-118944218208",
   "metadata": {
    "papermill": {
     "duration": 1.155973,
     "end_time": "2024-02-21T21:36:57.156293",
     "exception": false,
     "start_time": "2024-02-21T21:36:56.000320",
     "status": "completed"
    },
    "tags": []
   },
   "outputs": [],
   "source": [
    "plt.figure(figsize=(18, 9))\n",
    "plt.subplot(3, 1, 1)\n",
    "plt.title(\"Interpolated beam values for 1000 source locations\\n\")\n",
    "plt.plot(uvb_vals[0,0,0,0], lw=0.5, color=\"blue\", label=\"uvbeam\")\n",
    "plt.legend()\n",
    "plt.subplot(3, 1, 2)\n",
    "plt.plot(np.abs(sb_vals[0,0,0,0]), lw=0.5, color=\"teal\", label=\"sparse_beam\")\n",
    "plt.legend()\n",
    "plt.subplot(3, 1, 3)\n",
    "plt.plot(np.abs(sb_sparse_vals[0,0,0,0]), lw=0.5, color=\"orange\", label=\"sparse_beam+sparse fit\")\n",
    "plt.legend()\n"
   ]
  },
  {
   "cell_type": "code",
   "execution_count": null,
   "id": "b6baa4ce-610f-4aeb-ab4d-1016775f70b4",
   "metadata": {
    "papermill": {
     "duration": 0.540469,
     "end_time": "2024-02-21T21:36:57.710877",
     "exception": false,
     "start_time": "2024-02-21T21:36:57.170408",
     "status": "completed"
    },
    "tags": []
   },
   "outputs": [],
   "source": [
    "plt.figure(figsize=(18, 9))\n",
    "plt.subplot(3, 1, 1)\n",
    "plt.title(\"Differences of interpolated beam values for 1000 source locations\\n\")\n",
    "plt.plot(uvb_vals[0,0,0,0]-np.abs(sb_vals[0,0,0,0]), lw=0.5, color=\"blue\", label=\"difference(uvbeam, sparse_beam)\")\n",
    "plt.legend()\n",
    "plt.subplot(3, 1, 2)\n",
    "plt.plot(uvb_vals[0,0,0,0]-np.abs(sb_sparse_vals[0,0,0,0]), lw=0.5, color=\"teal\", label=\"difference(uvbeam, sparse_beam+sparse fit)\")\n",
    "plt.legend()\n",
    "plt.subplot(3, 1, 3)\n",
    "plt.plot(np.abs(sb_vals[0,0,0,0])-np.abs(sb_sparse_vals[0,0,0,0]), lw=0.5, color=\"orange\", label=\"difference(sparse_beam, sparse_beam+sparse fit)\")\n",
    "plt.legend()"
   ]
  },
  {
   "cell_type": "code",
   "execution_count": null,
   "id": "4aa386b4-5923-4a61-8a13-4db109d23144",
   "metadata": {
    "papermill": {
     "duration": 0.012838,
     "end_time": "2024-02-21T21:36:57.990030",
     "exception": false,
     "start_time": "2024-02-21T21:36:57.977192",
     "status": "completed"
    },
    "tags": []
   },
   "outputs": [],
   "source": [
    "class Grid:\n",
    "    def __init__(self, dim):\n",
    "        self.grid = np.zeros((dim, dim))  \n",
    "        self.dim = dim\n",
    "        self.num = np.zeros((dim, dim), dtype=int)\n",
    "        \n",
    "    def insert(self, x, y, val):   # the physical values range from -1 to 1\n",
    "        i = np.trunc(np.interp(x, [-1, 1], [0, self.dim-1])).astype(int)\n",
    "        j = np.trunc(np.interp(y, [-1, 1], [0, self.dim-1])).astype(int)\n",
    "    \n",
    "        for k in range(val.size):\n",
    "            self.grid[i[k], j[k]] += val[k]\n",
    "            self.num[i[k], j[k]] += 1\n",
    "        \n",
    "        \"\"\"\n",
    "        for i in range(self.dim):\n",
    "            for j in range(self.dim):\n",
    "                if self.grid[i, j]>0 and self.num[i][j] == 0: print(\"G\")\n",
    "                if self.grid[i, j]==0 and self.num[i][j] > 0: print(\"G\")\n",
    "        \"\"\"      \n",
    "\n",
    "    def insert1(self, x, y, val):   # the physical values range from -1 to 1\n",
    "        i = np.trunc(np.interp(x, [-1, 1], [0, self.dim-1])).astype(int)\n",
    "        j = np.trunc(np.interp(y, [-1, 1], [0, self.dim-1])).astype(int)\n",
    "        \n",
    "        self.grid[i, j] += val\n",
    "        self.num[i, j] += 1\n",
    "    \n",
    "            \n",
    "    def average(self):\n",
    "        for i in range(self.dim):\n",
    "            for j in range(self.dim):\n",
    "                if self.grid[i, j] > 0:\n",
    "                    self.grid[i, j] /= self.num[i, j]\n",
    "\n",
    "        #self.grid = np.where(self.grid>0, self.grid/self.num, self.grid)\n",
    "\n",
    "        \n",
    "    def log10(self):\n",
    "        vmin = 1e9\n",
    "        for i in range(self.dim):\n",
    "            for j in range(self.dim):\n",
    "                if self.grid[i, j] > 0:\n",
    "                    self.grid[i, j] = np.log10(self.grid[i, j])\n",
    "                    if self.grid[i, j] < vmin: vmin = self.grid[i, j]\n",
    "                else:\n",
    "                    self.grid[i, j] = np.nan\n",
    "                    \n",
    "        return vmin\n",
    "        #self.grid = np.where(self.grid>0, np.log10(self.grid), self.grid)\n",
    "    \n",
    "    def dB(self):\n",
    "        vmin = self.log10()\n",
    "        vmin *= 10\n",
    "        self.grid *= 10\n",
    "        return vmin\n"
   ]
  },
  {
   "cell_type": "code",
   "execution_count": null,
   "id": "dc5d4950-0391-4a7f-ad94-b0e6ce9b73f5",
   "metadata": {},
   "outputs": [],
   "source": [
    "np.meshgrid(np.arange(5), np.arange(3))"
   ]
  },
  {
   "cell_type": "code",
   "execution_count": null,
   "id": "12a68080-4013-402b-885a-31dd7508c188",
   "metadata": {},
   "outputs": [],
   "source": [
    "uvb = UVBeam()\n",
    "uvb.read_beamfits(\"NF_HERA_Vivaldi_power_beam.fits\", freq_range=(6e7, 6e7))\n",
    "uvb.interpolation_function = \"az_za_simple\"\n",
    "uvb.freq_interp_kind = \"linear\"\n",
    "\n",
    "vals = uvb.interp(az_array=az, za_array=za)[0]\n",
    "print(vals.shape)\n",
    "interp_beam = vals[0, 0, 0, 0]       \n",
    "print(interp_beam[:10])\n",
    "\n",
    "\n",
    "grid = Grid(100)\n",
    "r = np.sin(za)\n",
    "x = r*np.sin(az)\n",
    "y = r*np.cos(az)\n",
    "\n",
    "grid.insert(-x, y, values)\n",
    "grid.average()\n",
    "grid.grid = np.where(grid.grid==0, np.nan, grid.grid)\n",
    "\n",
    "\n",
    "plt.figure(figsize=(8, 8))\n",
    "ax = plt.axes()\n",
    "ax.axis(\"off\")\n",
    "im=plt.imshow(grid.grid, interpolation=\"quadric\", norm=LogNorm(), cmap=\"rainbow\")\n",
    "plt.colorbar(im,fraction=0.046, pad=0.04)\n",
    "plt.title(\"Vivaldi power beam\\n\")\n",
    "plt.savefig(\"vivaldi_beam\")"
   ]
  },
  {
   "cell_type": "code",
   "execution_count": null,
   "id": "e29c44f6-4b20-4f1a-9a6b-58ef9be9a05f",
   "metadata": {
    "papermill": {
     "duration": 0.24078,
     "end_time": "2024-02-21T21:36:57.963677",
     "exception": false,
     "start_time": "2024-02-21T21:36:57.722897",
     "status": "completed"
    },
    "tags": []
   },
   "outputs": [],
   "source": [
    "_az = np.deg2rad(np.arange(361))\n",
    "_za = np.deg2rad(np.arange(91))\n",
    "az = np.tile(_az, _za.size)\n",
    "za = np.repeat(_za, _az.size)\n",
    "sb = sparse_beam(\"NF_HERA_Vivaldi_power_beam.fits\", 80, np.arange(-45,46) , Nfeeds=2, freq_range=(6e7, 6e7))\n",
    "vals = sb.interp(az_array=az, za_array=za)[0]\n",
    "print(vals.shape)     # (Naxes_vec, 1, Npols, Nfreqs, Npos)\n",
    "\n",
    "interp_beam = vals[0, 0, 0, 0]       \n",
    "print(interp_beam[:10])\n",
    "values = np.real(interp_beam)\n",
    "\n",
    "\n",
    "grid = Grid(100)\n",
    "r = np.sin(za)\n",
    "x = r*np.sin(az)\n",
    "y = r*np.cos(az)\n",
    "\n",
    "grid.insert(-x, y, values)\n",
    "grid.average()\n",
    "grid.grid = np.where(grid.grid==0, np.nan, grid.grid)\n",
    "\n",
    "\n",
    "plt.figure(figsize=(8, 8))\n",
    "ax = plt.axes()\n",
    "ax.axis(\"off\")\n",
    "im=plt.imshow(grid.grid, interpolation=\"quadric\", norm=LogNorm(), cmap=\"rainbow\")\n",
    "plt.colorbar(im,fraction=0.046, pad=0.04)\n",
    "plt.title(\"sparse beam (Vivaldi power beam)\\n\")\n",
    "plt.savefig(\"sparse_beam\")"
   ]
  },
  {
   "cell_type": "code",
   "execution_count": null,
   "id": "bb9e9c6e-5387-40f6-adf4-3c7c0780c80c",
   "metadata": {},
   "outputs": [],
   "source": [
    "sb = sparse_beam(\"NF_HERA_Vivaldi_power_beam.fits\", 80, np.arange(-45,46) , Nfeeds=2, freq_range=(6e7, 6e7))\n",
    "fit_coeffs, fit_beam = sb.get_comp_fits()\n",
    "vals = sb.interp(sparse_fit=True, fit_coeffs=fit_coeffs, az_array=az, za_array=za)[0]\n",
    "print(vals.shape)     # (Naxes_vec, 1, Npols, Nfreqs, Npos)\n",
    "\n",
    "interp_beam = vals[0, 0, 0, 0]       \n",
    "print(interp_beam[:10])\n",
    "values = np.real(interp_beam)\n",
    "\n",
    "\n",
    "grid = Grid(100)\n",
    "r = np.sin(za)\n",
    "x = r*np.sin(az)\n",
    "y = r*np.cos(az)\n",
    "\n",
    "grid.insert(-x, y, values)\n",
    "grid.average()\n",
    "grid.grid = np.where(grid.grid==0, np.nan, grid.grid)\n",
    "\n",
    "\n",
    "plt.figure(figsize=(8, 8))\n",
    "ax = plt.axes()\n",
    "ax.axis(\"off\")\n",
    "im=plt.imshow(grid.grid, interpolation=\"quadric\", norm=LogNorm(), cmap=\"rainbow\")\n",
    "plt.colorbar(im,fraction=0.046, pad=0.04)\n",
    "plt.title(\"sparse beam+sparse fit (Vivaldi power beam)\\n\")\n",
    "plt.savefig(\"sparse_beam+sparse_fit\")"
   ]
  },
  {
   "cell_type": "code",
   "execution_count": null,
   "id": "919dd807-57e2-41cb-bc66-d73e1bd66f9b",
   "metadata": {},
   "outputs": [],
   "source": []
  }
 ],
 "metadata": {
  "kernelspec": {
   "display_name": "frf_paper",
   "language": "python",
   "name": "frf_paper"
  },
  "language_info": {
   "codemirror_mode": {
    "name": "ipython",
    "version": 3
   },
   "file_extension": ".py",
   "mimetype": "text/x-python",
   "name": "python",
   "nbconvert_exporter": "python",
   "pygments_lexer": "ipython3",
   "version": "3.10.9"
  },
  "papermill": {
   "default_parameters": {},
   "duration": 60.213379,
   "end_time": "2024-02-21T21:36:58.454262",
   "environment_variables": {},
   "exception": null,
   "input_path": "sparse_beam_test.ipynb",
   "output_path": "sparse_beam_test_out.ipynb",
   "parameters": {},
   "start_time": "2024-02-21T21:35:58.240883",
   "version": "2.4.0"
  }
 },
 "nbformat": 4,
 "nbformat_minor": 5
}
